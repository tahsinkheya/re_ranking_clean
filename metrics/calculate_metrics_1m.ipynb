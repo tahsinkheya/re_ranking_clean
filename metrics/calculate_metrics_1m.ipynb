{
 "cells": [
  {
   "cell_type": "code",
   "execution_count": 1,
   "metadata": {},
   "outputs": [],
   "source": [
    "import numpy as np\n",
    "import pandas as pd\n",
    "import matplotlib.pyplot as plt\n"
   ]
  },
  {
   "cell_type": "code",
   "execution_count": null,
   "metadata": {},
   "outputs": [],
   "source": [
    "test_set = pd.read_csv(\"../data/ml-1m/testing_set_seed123_ml1m.csv\",sep=\",\",\n",
    "    header=None,\n",
    "    names=[\"userID\", \"itemID\", \"Rating\"],)\n",
    "test_set\n"
   ]
  },
  {
   "cell_type": "code",
   "execution_count": null,
   "metadata": {},
   "outputs": [],
   "source": [
    "all_users_tp = test_set.groupby('userID')['itemID'].apply(list).tolist()\n",
    "all_users_tp.__len__()"
   ]
  },
  {
   "cell_type": "code",
   "execution_count": null,
   "metadata": {},
   "outputs": [],
   "source": [
    "\n",
    "\n",
    "mf = \"model_reco/1m/mf/reco_matrix_mf_1m_1000.npy\"\n",
    "wmf = \"model_reco/1m/wmf/reco_matrix_wmf_1m_1000.npy\"\n",
    "neumf = \"model_reco/1m/neumf/reco_matrix_neumf_1m_1000.npy\"\n",
    "vaecf = \"model_reco/1m/vaecf/reco_matrix_vaecg_1m_1000.npy\"\n",
    "reco_matrix = np.load(f\"../{mf}\")\n",
    "reco_matrix.shape"
   ]
  },
  {
   "cell_type": "code",
   "execution_count": null,
   "metadata": {},
   "outputs": [],
   "source": [
    "\n",
    "from cornac.metrics import NDCG, HitRatio\n",
    "\n",
    "hr=HitRatio(20)\n",
    "alist=[]\n",
    "o=0\n",
    "\n",
    "sum_hr=0\n",
    "for u in range(reco_matrix[o].shape[0]):\n",
    "    x=hr.compute(all_users_tp[u],reco_matrix[o][u][:20])\n",
    "    sum_hr=sum_hr+x\n",
    "plain_hr=sum_hr/reco_matrix[o].shape[0]\n",
    "\n",
    "plain_hr\n"
   ]
  },
  {
   "cell_type": "code",
   "execution_count": null,
   "metadata": {},
   "outputs": [],
   "source": [
    "# from NDCG import NDCG\n",
    "ndcg=NDCG(20)\n",
    "alist=[]\n",
    "sum_ndcg=0\n",
    "o = 0\n",
    "for u in range(reco_matrix[0].shape[0]):\n",
    "    x=ndcg.compute(all_users_tp[u],reco_matrix[o][u][:20])\n",
    "    \n",
    "    # print(f\"x {x} tp {all_users_tp[u]} reco {reco_matrix[u][:20]}\")\n",
    "    # alist.append(x)\n",
    "    sum_ndcg=sum_ndcg+x\n",
    "    # print(x)\n",
    "plain_ndcg=sum_ndcg/reco_matrix[o].shape[0]\n",
    "\n",
    "plain_ndcg\n",
    "# 0.06877010356676778"
   ]
  },
  {
   "cell_type": "code",
   "execution_count": 12,
   "metadata": {},
   "outputs": [],
   "source": [
    "all_pds =[]\n",
    "reco_matrix_fair=[]\n",
    "sens=\"occupation\"\n",
    "model = \"mf\"\n",
    "# here we load the recommendations over different vaues of beta\n",
    "all_pds.append(pd.read_csv(f\"../results/1m/{model}/{sens}_1.csv\",sep=\",\",))\n",
    "all_pds.append(pd.read_csv(f\"../results/1m/{model}/{sens}_2.csv\",sep=\",\",))\n",
    "all_pds.append(pd.read_csv(f\"../results/1m/{model}/{sens}_3.csv\",sep=\",\",))\n",
    "all_pds.append(pd.read_csv(f\"../results/1m/{model}/{sens}_4.csv\",sep=\",\",))\n",
    "all_pds.append(pd.read_csv(f\"../results/1m/{model}/{sens}_5.csv\",sep=\",\",))\n",
    "all_pds.append(pd.read_csv(f\"../results/1m/{model}/{sens}_6.csv\",sep=\",\",))\n",
    "all_pds.append(pd.read_csv(f\"../results/1m/{model}/{sens}_7.csv\",sep=\",\",))\n",
    "all_pds.append(pd.read_csv(f\"../results/1m/{model}/{sens}_8.csv\",sep=\",\",))\n",
    "for j in range(len(all_pds)):\n",
    "    reco_m =[]\n",
    "    for i in range(all_pds[j].__len__()):\n",
    "        reco_m.append(np.array(all_pds[j].iloc[i][1:]))\n",
    "    reco_matrix_fair.append(reco_m)\n",
    "    \n",
    "\n"
   ]
  },
  {
   "cell_type": "code",
   "execution_count": null,
   "metadata": {},
   "outputs": [],
   "source": [
    "\n",
    "hr=HitRatio(20)\n",
    "hrlist=[]\n",
    "for r in reco_matrix_fair:\n",
    "    sum_hr=0\n",
    "    for u in range(reco_matrix.shape[0]):\n",
    "        x=hr.compute(all_users_tp[u],r[u])\n",
    "        sum_hr=sum_hr+x\n",
    "    hr_occ=sum_hr/reco_matrix.shape[0]\n",
    "    hrlist.append(hr_occ)\n",
    "    \n",
    "\n",
    "[plain_hr]+hrlist"
   ]
  },
  {
   "cell_type": "code",
   "execution_count": null,
   "metadata": {},
   "outputs": [],
   "source": [
    "\n",
    "\n",
    "hr=NDCG(20)\n",
    "hrlist=[]\n",
    "for r in reco_matrix_fair:\n",
    "    sum_hr=0\n",
    "    for u in range(reco_matrix.shape[0]):\n",
    "        x=hr.compute(all_users_tp[u],r[u])\n",
    "        sum_hr=sum_hr+x\n",
    "    hr_occ=sum_hr/reco_matrix.shape[0]\n",
    "    hrlist.append(hr_occ)\n",
    "    \n",
    "\n",
    "[plain_ndcg]+hrlist\n"
   ]
  },
  {
   "cell_type": "code",
   "execution_count": null,
   "metadata": {},
   "outputs": [],
   "source": [
    "movie = \"../data/ml-1m/i_id_mapping_genre.csv\"\n",
    "\n",
    "df_movie = pd.read_csv(movie, sep=\"\\t\")\n",
    "print(f\"shape: {df_movie.shape}\")\n",
    "\n",
    "\n",
    "df_movie.columns = [\"item_id\", \"Name\", \"genres\", \"itemID\"]\n",
    "df_movie[:4]\n",
    "movies = df_movie.sort_values(by=\"itemID\")\n",
    "unique_genres = [\n",
    "    \"Action\",\n",
    "    \"Thriller\",\n",
    "    \"Romance\",\n",
    "    \"Western\",\n",
    "    \"Children's\",\n",
    "    \"Mystery\",\n",
    "    \"Fantasy\",\n",
    "    \"Film-Noir\",\n",
    "    \"Documentary\",\n",
    "    \"Comedy\",\n",
    "    \"Adventure\",\n",
    "    \"Sci-Fi\",\n",
    "    \"Horror\",\n",
    "    \"Crime\",\n",
    "    \"Musical\",\n",
    "    \"War\",\n",
    "    \"Animation\",\n",
    "    \"Drama\",\n",
    "]\n",
    "for genre in unique_genres:\n",
    "    movies[genre] = 0\n",
    "\n",
    "for index, row in movies.iterrows():\n",
    "    genres = row[\"genres\"].split(\"|\")\n",
    "    for genre in genres:\n",
    "        movies.at[index, genre] = 1\n",
    "movies\n",
    "movies = movies.drop(columns=[\"item_id\"])\n",
    "movies = movies.sort_values(by=\"itemID\")\n",
    "movies\n",
    "\n",
    "movies"
   ]
  },
  {
   "cell_type": "code",
   "execution_count": null,
   "metadata": {},
   "outputs": [],
   "source": [
    "users = pd.read_csv(\"../data/ml-1m/u_id_mapping_demographic.csv\", sep=\"\\t\")\n",
    "# users\n",
    "\n",
    "\n",
    "users = users.sort_values(by=\"userID\")\n",
    "\n",
    "users = users.drop(columns=users.columns[0])\n",
    "gender_map = {\"M\": 0, \"F\": 1}\n",
    "users[\"Gender\"] = users[\"Gender\"].map(gender_map)\n",
    "# user_features_numpy = users.to_numpy()\n",
    "users"
   ]
  },
  {
   "cell_type": "code",
   "execution_count": null,
   "metadata": {},
   "outputs": [],
   "source": [
    "import os\n",
    "os.chdir(\"/Users/name/Desktop/work/reranking_fairnes\")\n",
    "\n",
    "from metrics.utils import map_age\n",
    "users[\"Age_Code\"] = users[\"Age\"].apply(map_age)\n",
    "users"
   ]
  },
  {
   "cell_type": "code",
   "execution_count": 19,
   "metadata": {},
   "outputs": [],
   "source": [
    "from mymetrics.GenrePrecisionMulti import GenrePrecisionMulti\n",
    "from mymetrics.GenreNDCGMulti import GenreNDCGMulti\n",
    "top_k = 20\n",
    "###intialize them\n",
    "gp = GenrePrecisionMulti(users, unique_genres, top_k)\n",
    "gn = GenreNDCGMulti(users, unique_genres, top_k)\n",
    "\n"
   ]
  },
  {
   "cell_type": "code",
   "execution_count": null,
   "metadata": {},
   "outputs": [],
   "source": [
    "reco_matrix[0].shape\n",
    "new_rmatrix = np.zeros(( reco_matrix.shape[0], 20), dtype=int)\n",
    "for i in range(reco_matrix.shape[0]):\n",
    "    new_rmatrix[i]=reco_matrix[i][:20]\n",
    "new_rmatrix.shape\n"
   ]
  },
  {
   "cell_type": "code",
   "execution_count": null,
   "metadata": {},
   "outputs": [],
   "source": [
    "sens_attr = \"Occupation\"\n",
    "gp_plain = gp.compute(new_rmatrix, movies, sens_attr)\n",
    "gp_plain"
   ]
  },
  {
   "cell_type": "code",
   "execution_count": null,
   "metadata": {},
   "outputs": [],
   "source": [
    "gn_plain = gn.compute(new_rmatrix, movies, sens_attr)\n",
    "gn_plain"
   ]
  },
  {
   "cell_type": "code",
   "execution_count": null,
   "metadata": {},
   "outputs": [],
   "source": [
    "i=0\n",
    "xlist=[]\n",
    "for r in reco_matrix_fair:\n",
    "    i=i+1\n",
    "    x=gp.compute(np.array(r), movies, sens_attr)\n",
    "    xlist.append(x[0])\n",
    "    print(f\"{x[0]} is the bias score for b={i}\")\n"
   ]
  },
  {
   "cell_type": "code",
   "execution_count": null,
   "metadata": {},
   "outputs": [],
   "source": [
    "[gp_plain[0]]+xlist"
   ]
  },
  {
   "cell_type": "code",
   "execution_count": null,
   "metadata": {},
   "outputs": [],
   "source": [
    "i=0\n",
    "xlist=[]\n",
    "for r in reco_matrix_fair:\n",
    "    i=i+1\n",
    "    x=gn.compute(np.array(r), movies, sens_attr)\n",
    "    xlist.append(x[0])\n",
    "    print(f\"{x[0]} is the bias score for b={i}\")\n"
   ]
  },
  {
   "cell_type": "code",
   "execution_count": null,
   "metadata": {},
   "outputs": [],
   "source": [
    "[gn_plain[0]]+xlist"
   ]
  }
 ],
 "metadata": {
  "kernelspec": {
   "display_name": "re-ranking",
   "language": "python",
   "name": "python3"
  },
  "language_info": {
   "codemirror_mode": {
    "name": "ipython",
    "version": 3
   },
   "file_extension": ".py",
   "mimetype": "text/x-python",
   "name": "python",
   "nbconvert_exporter": "python",
   "pygments_lexer": "ipython3",
   "version": "3.11.11"
  }
 },
 "nbformat": 4,
 "nbformat_minor": 2
}
