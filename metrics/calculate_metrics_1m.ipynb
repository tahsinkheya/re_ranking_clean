{
 "cells": [
  {
   "cell_type": "code",
   "execution_count": 2,
   "metadata": {},
   "outputs": [],
   "source": [
    "import numpy as np\n",
    "import pandas as pd\n",
    "import matplotlib.pyplot as plt\n"
   ]
  },
  {
   "cell_type": "code",
   "execution_count": 3,
   "metadata": {},
   "outputs": [
    {
     "data": {
      "text/html": [
       "<div>\n",
       "<style scoped>\n",
       "    .dataframe tbody tr th:only-of-type {\n",
       "        vertical-align: middle;\n",
       "    }\n",
       "\n",
       "    .dataframe tbody tr th {\n",
       "        vertical-align: top;\n",
       "    }\n",
       "\n",
       "    .dataframe thead th {\n",
       "        text-align: right;\n",
       "    }\n",
       "</style>\n",
       "<table border=\"1\" class=\"dataframe\">\n",
       "  <thead>\n",
       "    <tr style=\"text-align: right;\">\n",
       "      <th></th>\n",
       "      <th>userID</th>\n",
       "      <th>itemID</th>\n",
       "      <th>Rating</th>\n",
       "    </tr>\n",
       "  </thead>\n",
       "  <tbody>\n",
       "    <tr>\n",
       "      <th>0</th>\n",
       "      <td>6039</td>\n",
       "      <td>373</td>\n",
       "      <td>4</td>\n",
       "    </tr>\n",
       "    <tr>\n",
       "      <th>1</th>\n",
       "      <td>6039</td>\n",
       "      <td>221</td>\n",
       "      <td>3</td>\n",
       "    </tr>\n",
       "    <tr>\n",
       "      <th>2</th>\n",
       "      <td>6039</td>\n",
       "      <td>2602</td>\n",
       "      <td>4</td>\n",
       "    </tr>\n",
       "    <tr>\n",
       "      <th>3</th>\n",
       "      <td>6039</td>\n",
       "      <td>132</td>\n",
       "      <td>4</td>\n",
       "    </tr>\n",
       "    <tr>\n",
       "      <th>4</th>\n",
       "      <td>6039</td>\n",
       "      <td>350</td>\n",
       "      <td>4</td>\n",
       "    </tr>\n",
       "    <tr>\n",
       "      <th>...</th>\n",
       "      <td>...</td>\n",
       "      <td>...</td>\n",
       "      <td>...</td>\n",
       "    </tr>\n",
       "    <tr>\n",
       "      <th>202331</th>\n",
       "      <td>2946</td>\n",
       "      <td>885</td>\n",
       "      <td>3</td>\n",
       "    </tr>\n",
       "    <tr>\n",
       "      <th>202332</th>\n",
       "      <td>2946</td>\n",
       "      <td>343</td>\n",
       "      <td>3</td>\n",
       "    </tr>\n",
       "    <tr>\n",
       "      <th>202333</th>\n",
       "      <td>2946</td>\n",
       "      <td>151</td>\n",
       "      <td>4</td>\n",
       "    </tr>\n",
       "    <tr>\n",
       "      <th>202334</th>\n",
       "      <td>2946</td>\n",
       "      <td>1792</td>\n",
       "      <td>4</td>\n",
       "    </tr>\n",
       "    <tr>\n",
       "      <th>202335</th>\n",
       "      <td>2946</td>\n",
       "      <td>1297</td>\n",
       "      <td>4</td>\n",
       "    </tr>\n",
       "  </tbody>\n",
       "</table>\n",
       "<p>202336 rows × 3 columns</p>\n",
       "</div>"
      ],
      "text/plain": [
       "        userID  itemID  Rating\n",
       "0         6039     373       4\n",
       "1         6039     221       3\n",
       "2         6039    2602       4\n",
       "3         6039     132       4\n",
       "4         6039     350       4\n",
       "...        ...     ...     ...\n",
       "202331    2946     885       3\n",
       "202332    2946     343       3\n",
       "202333    2946     151       4\n",
       "202334    2946    1792       4\n",
       "202335    2946    1297       4\n",
       "\n",
       "[202336 rows x 3 columns]"
      ]
     },
     "execution_count": 3,
     "metadata": {},
     "output_type": "execute_result"
    }
   ],
   "source": [
    "test_set = pd.read_csv(\"../data/ml-1m/testing_set_seed123_ml1m.csv\",sep=\",\",\n",
    "    header=None,\n",
    "    names=[\"userID\", \"itemID\", \"Rating\"],)\n",
    "test_set\n"
   ]
  },
  {
   "cell_type": "code",
   "execution_count": 4,
   "metadata": {},
   "outputs": [
    {
     "data": {
      "text/plain": [
       "6040"
      ]
     },
     "execution_count": 4,
     "metadata": {},
     "output_type": "execute_result"
    }
   ],
   "source": [
    "all_users_tp = test_set.groupby('userID')['itemID'].apply(list).tolist()\n",
    "all_users_tp.__len__()"
   ]
  },
  {
   "cell_type": "code",
   "execution_count": 11,
   "metadata": {},
   "outputs": [
    {
     "data": {
      "text/plain": [
       "(9, 6040, 20)"
      ]
     },
     "execution_count": 11,
     "metadata": {},
     "output_type": "execute_result"
    }
   ],
   "source": [
    "wmf = \"model_reco/1m/wmf/reco_matrix_wmf_1m_1000_.npy\"\n",
    "reco_matrix = np.load(f\"../{wmf}\")\n",
    "reco_matrix.shape"
   ]
  },
  {
   "cell_type": "code",
   "execution_count": null,
   "metadata": {},
   "outputs": [
    {
     "ename": "IndexError",
     "evalue": "index 9 is out of bounds for axis 0 with size 9",
     "output_type": "error",
     "traceback": [
      "\u001b[0;31m---------------------------------------------------------------------------\u001b[0m",
      "\u001b[0;31mIndexError\u001b[0m                                Traceback (most recent call last)",
      "Cell \u001b[0;32mIn[22], line 7\u001b[0m\n\u001b[1;32m      5\u001b[0m o\u001b[38;5;241m=\u001b[39m\u001b[38;5;241m9\u001b[39m\n\u001b[1;32m      6\u001b[0m sum_hr\u001b[38;5;241m=\u001b[39m\u001b[38;5;241m0\u001b[39m\n\u001b[0;32m----> 7\u001b[0m \u001b[38;5;28;01mfor\u001b[39;00m u \u001b[38;5;129;01min\u001b[39;00m \u001b[38;5;28mrange\u001b[39m(\u001b[43mreco_matrix\u001b[49m\u001b[43m[\u001b[49m\u001b[43mo\u001b[49m\u001b[43m]\u001b[49m\u001b[38;5;241m.\u001b[39mshape[\u001b[38;5;241m0\u001b[39m]):\n\u001b[1;32m      8\u001b[0m     x\u001b[38;5;241m=\u001b[39mhr\u001b[38;5;241m.\u001b[39mcompute(all_users_tp[u],reco_matrix[o][u][:\u001b[38;5;241m20\u001b[39m])\n\u001b[1;32m      9\u001b[0m     sum_hr\u001b[38;5;241m=\u001b[39msum_hr\u001b[38;5;241m+\u001b[39mx\n",
      "\u001b[0;31mIndexError\u001b[0m: index 9 is out of bounds for axis 0 with size 9"
     ]
    }
   ],
   "source": [
    "\n",
    "from cornac.metrics import RMSE, AUC, NDCG, Precision, Recall,HitRatio\n",
    "\n",
    "hr=HitRatio(20)\n",
    "alist=[]\n",
    "o=1\n",
    "sum_hr=0\n",
    "for u in range(reco_matrix[o].shape[0]):\n",
    "    x=hr.compute(all_users_tp[u],reco_matrix[o][u][:20])\n",
    "    sum_hr=sum_hr+x\n",
    "plain_hr=sum_hr/reco_matrix[o].shape[0]\n",
    "\n",
    "plain_hr\n"
   ]
  },
  {
   "cell_type": "code",
   "execution_count": null,
   "metadata": {},
   "outputs": [],
   "source": [
    "0.4374172185430464\n",
    "0.44850993377483445\n",
    "0.43940397350993377\n",
    "0.4183774834437086\n",
    "0.4013245033112583\n",
    "0.3870860927152318\n",
    "0.3844370860927152\n",
    "0.3751655629139073\n",
    "0.3741721854304636"
   ]
  },
  {
   "cell_type": "code",
   "execution_count": 31,
   "metadata": {},
   "outputs": [
    {
     "data": {
      "text/plain": [
       "0.03442249577000286"
      ]
     },
     "execution_count": 31,
     "metadata": {},
     "output_type": "execute_result"
    }
   ],
   "source": [
    "# from NDCG import NDCG\n",
    "ndcg=NDCG(20)\n",
    "alist=[]\n",
    "sum_ndcg=0\n",
    "o = 8\n",
    "for u in range(reco_matrix[0].shape[0]):\n",
    "    x=ndcg.compute(all_users_tp[u],reco_matrix[o][u][:20])\n",
    "    \n",
    "    # print(f\"x {x} tp {all_users_tp[u]} reco {reco_matrix[u][:20]}\")\n",
    "    # alist.append(x)\n",
    "    sum_ndcg=sum_ndcg+x\n",
    "    # print(x)\n",
    "plain_ndcg=sum_ndcg/reco_matrix[o].shape[0]\n",
    "\n",
    "plain_ndcg\n",
    "# 0.06877010356676778"
   ]
  },
  {
   "cell_type": "code",
   "execution_count": null,
   "metadata": {},
   "outputs": [],
   "source": [
    "0.04792797790372785\n",
    "0.04599395586314128\n",
    "0.04278003454306751\n",
    "0.03944891646901801\n",
    "0.036196512457131354\n",
    "0.03410950136728672\n",
    "0.03422949673067553\n",
    "0.034110177325415714\n",
    "0.03442249577000286"
   ]
  }
 ],
 "metadata": {
  "kernelspec": {
   "display_name": "re-ranking",
   "language": "python",
   "name": "python3"
  },
  "language_info": {
   "codemirror_mode": {
    "name": "ipython",
    "version": 3
   },
   "file_extension": ".py",
   "mimetype": "text/x-python",
   "name": "python",
   "nbconvert_exporter": "python",
   "pygments_lexer": "ipython3",
   "version": "3.11.11"
  }
 },
 "nbformat": 4,
 "nbformat_minor": 2
}
