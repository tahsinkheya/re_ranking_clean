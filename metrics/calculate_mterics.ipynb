{
 "cells": [
  {
   "cell_type": "code",
   "execution_count": 1,
   "metadata": {},
   "outputs": [],
   "source": [
    "import numpy as np\n",
    "import pandas as pd\n",
    "import matplotlib.pyplot as plt"
   ]
  },
  {
   "cell_type": "code",
   "execution_count": 2,
   "metadata": {},
   "outputs": [
    {
     "data": {
      "text/html": [
       "<div>\n",
       "<style scoped>\n",
       "    .dataframe tbody tr th:only-of-type {\n",
       "        vertical-align: middle;\n",
       "    }\n",
       "\n",
       "    .dataframe tbody tr th {\n",
       "        vertical-align: top;\n",
       "    }\n",
       "\n",
       "    .dataframe thead th {\n",
       "        text-align: right;\n",
       "    }\n",
       "</style>\n",
       "<table border=\"1\" class=\"dataframe\">\n",
       "  <thead>\n",
       "    <tr style=\"text-align: right;\">\n",
       "      <th></th>\n",
       "      <th>userID</th>\n",
       "      <th>itemID</th>\n",
       "      <th>Rating</th>\n",
       "    </tr>\n",
       "  </thead>\n",
       "  <tbody>\n",
       "    <tr>\n",
       "      <th>0</th>\n",
       "      <td>101</td>\n",
       "      <td>450</td>\n",
       "      <td>4</td>\n",
       "    </tr>\n",
       "    <tr>\n",
       "      <th>1</th>\n",
       "      <td>101</td>\n",
       "      <td>365</td>\n",
       "      <td>2</td>\n",
       "    </tr>\n",
       "    <tr>\n",
       "      <th>2</th>\n",
       "      <td>101</td>\n",
       "      <td>285</td>\n",
       "      <td>4</td>\n",
       "    </tr>\n",
       "    <tr>\n",
       "      <th>3</th>\n",
       "      <td>101</td>\n",
       "      <td>310</td>\n",
       "      <td>3</td>\n",
       "    </tr>\n",
       "    <tr>\n",
       "      <th>4</th>\n",
       "      <td>101</td>\n",
       "      <td>460</td>\n",
       "      <td>4</td>\n",
       "    </tr>\n",
       "    <tr>\n",
       "      <th>...</th>\n",
       "      <td>...</td>\n",
       "      <td>...</td>\n",
       "      <td>...</td>\n",
       "    </tr>\n",
       "    <tr>\n",
       "      <th>20234</th>\n",
       "      <td>724</td>\n",
       "      <td>710</td>\n",
       "      <td>3</td>\n",
       "    </tr>\n",
       "    <tr>\n",
       "      <th>20235</th>\n",
       "      <td>724</td>\n",
       "      <td>130</td>\n",
       "      <td>4</td>\n",
       "    </tr>\n",
       "    <tr>\n",
       "      <th>20236</th>\n",
       "      <td>724</td>\n",
       "      <td>280</td>\n",
       "      <td>4</td>\n",
       "    </tr>\n",
       "    <tr>\n",
       "      <th>20237</th>\n",
       "      <td>724</td>\n",
       "      <td>175</td>\n",
       "      <td>4</td>\n",
       "    </tr>\n",
       "    <tr>\n",
       "      <th>20238</th>\n",
       "      <td>724</td>\n",
       "      <td>645</td>\n",
       "      <td>4</td>\n",
       "    </tr>\n",
       "  </tbody>\n",
       "</table>\n",
       "<p>20239 rows × 3 columns</p>\n",
       "</div>"
      ],
      "text/plain": [
       "       userID  itemID  Rating\n",
       "0         101     450       4\n",
       "1         101     365       2\n",
       "2         101     285       4\n",
       "3         101     310       3\n",
       "4         101     460       4\n",
       "...       ...     ...     ...\n",
       "20234     724     710       3\n",
       "20235     724     130       4\n",
       "20236     724     280       4\n",
       "20237     724     175       4\n",
       "20238     724     645       4\n",
       "\n",
       "[20239 rows x 3 columns]"
      ]
     },
     "execution_count": 2,
     "metadata": {},
     "output_type": "execute_result"
    }
   ],
   "source": [
    "test_set = pd.read_csv(\"../data/ml-100K/testing_set_seed123_ml100k.csv\",sep=\",\",\n",
    "    header=None,\n",
    "    names=[\"userID\", \"itemID\", \"Rating\"],)\n",
    "test_set\n"
   ]
  },
  {
   "cell_type": "code",
   "execution_count": 3,
   "metadata": {},
   "outputs": [
    {
     "data": {
      "text/plain": [
       "943"
      ]
     },
     "execution_count": 3,
     "metadata": {},
     "output_type": "execute_result"
    }
   ],
   "source": [
    "all_users_tp = test_set.groupby('userID')['itemID'].apply(list).tolist()\n",
    "all_users_tp.__len__()"
   ]
  },
  {
   "cell_type": "code",
   "execution_count": 4,
   "metadata": {},
   "outputs": [],
   "source": [
    "reco_matrix = np.load(\"../model_reco/vaecf/reco_matrix_vaecf_ml100k_100.npy\")\n"
   ]
  },
  {
   "cell_type": "code",
   "execution_count": 5,
   "metadata": {},
   "outputs": [
    {
     "data": {
      "text/plain": [
       "(943, 100)"
      ]
     },
     "execution_count": 5,
     "metadata": {},
     "output_type": "execute_result"
    }
   ],
   "source": [
    "reco_matrix.shape"
   ]
  },
  {
   "cell_type": "code",
   "execution_count": 6,
   "metadata": {},
   "outputs": [
    {
     "data": {
      "text/plain": [
       "0.5387062566277837"
      ]
     },
     "execution_count": 6,
     "metadata": {},
     "output_type": "execute_result"
    }
   ],
   "source": [
    "from HitRation import HitRatio\n",
    "hr=HitRatio(20)\n",
    "alist=[]\n",
    "sum_hr=0\n",
    "for u in range(reco_matrix.shape[0]):\n",
    "    x=hr.compute(all_users_tp[u],reco_matrix[u][:20])\n",
    "    # print(f\"x {x} tp {all_users_tp[u]} reco {reco_matrix[u][:20]}\")\n",
    "    # alist.append(x)\n",
    "    sum_hr=sum_hr+x\n",
    "    # print(x)\n",
    "plain_hr=sum_hr/reco_matrix.shape[0]\n",
    "\n",
    "plain_hr"
   ]
  },
  {
   "cell_type": "code",
   "execution_count": 7,
   "metadata": {},
   "outputs": [],
   "source": [
    "all_pds =[]\n",
    "reco_matrix_fair=[]\n",
    "\n",
    "reco_matrix_fair.append(np.load(\"../results/vaecf/gender_1.npy\"))\n",
    "reco_matrix_fair.append(np.load(\"../results/vaecf/gender_2.npy\"))\n",
    "reco_matrix_fair.append(np.load(\"../results/vaecf/gender_3.npy\"))\n",
    "reco_matrix_fair.append(np.load(\"../results/vaecf/gender_4.npy\"))\n",
    "# all_pds.append(pd.read_csv(\"../results.csv\",sep=\",\",))\n",
    "# all_pds.append(pd.read_csv(\"../results/vaecf/gender_2.csv\",sep=\",\",))\n",
    "# all_pds.append(pd.read_csv(\"../results/vaecf/occupation_1.csv\",sep=\",\",))\n",
    "# all_pds.append(pd.read_csv(\"../results/vaecf/occupation_2.csv\",sep=\",\",))\n",
    "# all_pds.append(pd.read_csv(\"../results/vaecf/occupation_3.csv\",sep=\",\",))\n",
    "# all_pds.append(pd.read_csv(\"../results/vaecf/occupation_4.csv\",sep=\",\",))\n",
    "# all_pds.append(pd.read_csv(\"../results/vaecf/occupation_5.csv\",sep=\",\",))\n",
    "# all_pds.append(pd.read_csv(\"../results/vaecf/occupation_6.csv\",sep=\",\",))\n",
    "# all_pds.append(pd.read_csv(\"../results/vaecf/occupation_7.csv\",sep=\",\",))\n",
    "# all_pds.append(pd.read_csv(\"../results/vaecf/occupation_8.csv\",sep=\",\",))\n",
    "# # all_pds.append(pd.read_csv(\"../results/vaecf/occupation_9.csv\",sep=\",\",))\n",
    "# all_pds.append(pd.read_csv(\"../results/vaecf/occupation_10.csv\",sep=\",\",))\n",
    "# results/reco_mat_test.npy\n",
    "# for j in range(len(all_pds)):\n",
    "#     reco_m =[]\n",
    "#     for i in range(all_pds[j].__len__()):\n",
    "#         reco_m.append(np.array(all_pds[j].iloc[i][1:]))\n",
    "#     reco_matrix_fair.append(reco_m)\n",
    "    \n",
    "\n"
   ]
  },
  {
   "cell_type": "code",
   "execution_count": 8,
   "metadata": {},
   "outputs": [],
   "source": [
    "# rec=np.load(\"../results/reco_mat_test.npy\")\n",
    "# reco_matrix_fair.append(rec)\n"
   ]
  },
  {
   "cell_type": "code",
   "execution_count": 9,
   "metadata": {},
   "outputs": [
    {
     "data": {
      "text/plain": [
       "array([289,  49, 357, 489, 157, 189, 645,  89,  60,   1,  95,  52,  24,\n",
       "       360, 133,  31, 200, 139, 148, 686])"
      ]
     },
     "execution_count": 9,
     "metadata": {},
     "output_type": "execute_result"
    }
   ],
   "source": [
    "reco_matrix_fair[1][0]"
   ]
  },
  {
   "cell_type": "code",
   "execution_count": 9,
   "metadata": {},
   "outputs": [
    {
     "data": {
      "text/plain": [
       "[0.545068928950159, 0.5355249204665959, 0.5355249204665959, 0.5344644750795334]"
      ]
     },
     "execution_count": 9,
     "metadata": {},
     "output_type": "execute_result"
    }
   ],
   "source": [
    "from HitRation import HitRatio\n",
    "hr=HitRatio(20)\n",
    "hrlist=[]\n",
    "for r in reco_matrix_fair:\n",
    "    sum_hr=0\n",
    "    for u in range(reco_matrix.shape[0]):\n",
    "        x=hr.compute(all_users_tp[u],r[u])\n",
    "        sum_hr=sum_hr+x\n",
    "    hr_occ=sum_hr/reco_matrix.shape[0]\n",
    "    hrlist.append(hr_occ)\n",
    "    \n",
    "\n",
    "hrlist"
   ]
  },
  {
   "cell_type": "code",
   "execution_count": 10,
   "metadata": {},
   "outputs": [
    {
     "data": {
      "text/plain": [
       "array([289,  49, 357, 489, 157, 189, 645,  89,   1,  60,  95,  52,  24,\n",
       "       360, 133,  31, 148, 200, 139, 101])"
      ]
     },
     "execution_count": 10,
     "metadata": {},
     "output_type": "execute_result"
    }
   ],
   "source": [
    "reco_matrix_fair[2][0]"
   ]
  },
  {
   "cell_type": "code",
   "execution_count": 11,
   "metadata": {},
   "outputs": [
    {
     "data": {
      "image/png": "[encoded data removed]",
      "text/plain": [
       "<Figure size 640x480 with 1 Axes>"
      ]
     },
     "metadata": {},
     "output_type": "display_data"
    }
   ],
   "source": [
    "xpoints = list(range(len(hrlist)))\n",
    "ypoints = hrlist\n",
    "\n",
    "plt.plot(xpoints, ypoints)\n",
    "plt.show()"
   ]
  },
  {
   "cell_type": "code",
   "execution_count": 12,
   "metadata": {},
   "outputs": [
    {
     "data": {
      "text/html": [
       "<div>\n",
       "<style scoped>\n",
       "    .dataframe tbody tr th:only-of-type {\n",
       "        vertical-align: middle;\n",
       "    }\n",
       "\n",
       "    .dataframe tbody tr th {\n",
       "        vertical-align: top;\n",
       "    }\n",
       "\n",
       "    .dataframe thead th {\n",
       "        text-align: right;\n",
       "    }\n",
       "</style>\n",
       "<table border=\"1\" class=\"dataframe\">\n",
       "  <thead>\n",
       "    <tr style=\"text-align: right;\">\n",
       "      <th></th>\n",
       "      <th>user_id</th>\n",
       "      <th>Age</th>\n",
       "      <th>Gender</th>\n",
       "      <th>Occupation</th>\n",
       "      <th>ZipCode</th>\n",
       "      <th>userID</th>\n",
       "      <th>Occupation_Code</th>\n",
       "    </tr>\n",
       "  </thead>\n",
       "  <tbody>\n",
       "    <tr>\n",
       "      <th>195</th>\n",
       "      <td>196</td>\n",
       "      <td>49</td>\n",
       "      <td>0</td>\n",
       "      <td>writer</td>\n",
       "      <td>55105</td>\n",
       "      <td>0</td>\n",
       "      <td>20</td>\n",
       "    </tr>\n",
       "    <tr>\n",
       "      <th>185</th>\n",
       "      <td>186</td>\n",
       "      <td>39</td>\n",
       "      <td>1</td>\n",
       "      <td>executive</td>\n",
       "      <td>00000</td>\n",
       "      <td>1</td>\n",
       "      <td>6</td>\n",
       "    </tr>\n",
       "    <tr>\n",
       "      <th>21</th>\n",
       "      <td>22</td>\n",
       "      <td>25</td>\n",
       "      <td>0</td>\n",
       "      <td>writer</td>\n",
       "      <td>40206</td>\n",
       "      <td>2</td>\n",
       "      <td>20</td>\n",
       "    </tr>\n",
       "    <tr>\n",
       "      <th>243</th>\n",
       "      <td>244</td>\n",
       "      <td>28</td>\n",
       "      <td>0</td>\n",
       "      <td>technician</td>\n",
       "      <td>80525</td>\n",
       "      <td>3</td>\n",
       "      <td>19</td>\n",
       "    </tr>\n",
       "    <tr>\n",
       "      <th>165</th>\n",
       "      <td>166</td>\n",
       "      <td>47</td>\n",
       "      <td>0</td>\n",
       "      <td>educator</td>\n",
       "      <td>55113</td>\n",
       "      <td>4</td>\n",
       "      <td>3</td>\n",
       "    </tr>\n",
       "    <tr>\n",
       "      <th>...</th>\n",
       "      <td>...</td>\n",
       "      <td>...</td>\n",
       "      <td>...</td>\n",
       "      <td>...</td>\n",
       "      <td>...</td>\n",
       "      <td>...</td>\n",
       "      <td>...</td>\n",
       "    </tr>\n",
       "    <tr>\n",
       "      <th>938</th>\n",
       "      <td>939</td>\n",
       "      <td>26</td>\n",
       "      <td>1</td>\n",
       "      <td>student</td>\n",
       "      <td>33319</td>\n",
       "      <td>938</td>\n",
       "      <td>18</td>\n",
       "    </tr>\n",
       "    <tr>\n",
       "      <th>935</th>\n",
       "      <td>936</td>\n",
       "      <td>24</td>\n",
       "      <td>0</td>\n",
       "      <td>other</td>\n",
       "      <td>32789</td>\n",
       "      <td>939</td>\n",
       "      <td>13</td>\n",
       "    </tr>\n",
       "    <tr>\n",
       "      <th>929</th>\n",
       "      <td>930</td>\n",
       "      <td>28</td>\n",
       "      <td>1</td>\n",
       "      <td>scientist</td>\n",
       "      <td>07310</td>\n",
       "      <td>940</td>\n",
       "      <td>17</td>\n",
       "    </tr>\n",
       "    <tr>\n",
       "      <th>919</th>\n",
       "      <td>920</td>\n",
       "      <td>30</td>\n",
       "      <td>1</td>\n",
       "      <td>artist</td>\n",
       "      <td>90008</td>\n",
       "      <td>941</td>\n",
       "      <td>1</td>\n",
       "    </tr>\n",
       "    <tr>\n",
       "      <th>940</th>\n",
       "      <td>941</td>\n",
       "      <td>20</td>\n",
       "      <td>0</td>\n",
       "      <td>student</td>\n",
       "      <td>97229</td>\n",
       "      <td>942</td>\n",
       "      <td>18</td>\n",
       "    </tr>\n",
       "  </tbody>\n",
       "</table>\n",
       "<p>943 rows × 7 columns</p>\n",
       "</div>"
      ],
      "text/plain": [
       "     user_id  Age  Gender  Occupation ZipCode  userID  Occupation_Code\n",
       "195      196   49       0      writer   55105       0               20\n",
       "185      186   39       1   executive   00000       1                6\n",
       "21        22   25       0      writer   40206       2               20\n",
       "243      244   28       0  technician   80525       3               19\n",
       "165      166   47       0    educator   55113       4                3\n",
       "..       ...  ...     ...         ...     ...     ...              ...\n",
       "938      939   26       1     student   33319     938               18\n",
       "935      936   24       0       other   32789     939               13\n",
       "929      930   28       1   scientist   07310     940               17\n",
       "919      920   30       1      artist   90008     941                1\n",
       "940      941   20       0     student   97229     942               18\n",
       "\n",
       "[943 rows x 7 columns]"
      ]
     },
     "execution_count": 12,
     "metadata": {},
     "output_type": "execute_result"
    }
   ],
   "source": [
    "movies = pd.read_csv(\n",
    "    \"../data/ml-100K/i_id_mapping_genre.csv\",\n",
    "    sep=\"\\t\",\n",
    "    names=[\n",
    "        \"item_id\",\n",
    "        \"Name\",\n",
    "        \"genres\",\n",
    "        \"itemID\"\n",
    "    ],\n",
    "    header=0,\n",
    "    # encoding=\"latin-1\",\n",
    ")\n",
    "movies = movies.drop(columns=[\"item_id\"])\n",
    "movies = movies.sort_values(by=\"itemID\")\n",
    "unique_genres = [\n",
    "    \"Action\",\n",
    "    \"Thriller\",\n",
    "    \"Romance\",\n",
    "    \"Western\",\n",
    "    \"Children's\",\n",
    "    \"Mystery\",\n",
    "    \"Fantasy\",\n",
    "    \"Film-Noir\",\n",
    "    \"Documentary\",\n",
    "    \"Comedy\",\n",
    "    \"Adventure\",\n",
    "    \"Sci-Fi\",\n",
    "    \"Horror\",\n",
    "    \"Crime\",\n",
    "    \"Musical\",\n",
    "    \"War\",\n",
    "    \"Animation\",\n",
    "    \"Drama\",\n",
    "]\n",
    "for genre in unique_genres:\n",
    "    movies[genre] = 0\n",
    "    \n",
    "for index, row in movies.iterrows():\n",
    "    genres = row[\"genres\"].split(\"|\")\n",
    "\n",
    "    for genre in genres:\n",
    "        movies.at[index, genre] = 1\n",
    "\n",
    "\n",
    "movies\n",
    "\n",
    "users = pd.read_csv(\"../data/ml-100k/u_id_mapping_demographic_.csv\", sep=\"\\t\")\n",
    "users = users.sort_values(by=\"userID\")\n",
    "\n",
    "# users = users.drop(columns=users.columns[0])\n",
    "gender_map = {\"M\": 0, \"F\": 1}\n",
    "users[\"Gender\"] = users[\"Gender\"].map(gender_map)\n",
    "user_features_numpy = users.to_numpy()\n",
    "users\n",
    "\n"
   ]
  },
  {
   "cell_type": "code",
   "execution_count": 13,
   "metadata": {},
   "outputs": [
    {
     "data": {
      "text/html": [
       "<div>\n",
       "<style scoped>\n",
       "    .dataframe tbody tr th:only-of-type {\n",
       "        vertical-align: middle;\n",
       "    }\n",
       "\n",
       "    .dataframe tbody tr th {\n",
       "        vertical-align: top;\n",
       "    }\n",
       "\n",
       "    .dataframe thead th {\n",
       "        text-align: right;\n",
       "    }\n",
       "</style>\n",
       "<table border=\"1\" class=\"dataframe\">\n",
       "  <thead>\n",
       "    <tr style=\"text-align: right;\">\n",
       "      <th></th>\n",
       "      <th>user_id</th>\n",
       "      <th>Age</th>\n",
       "      <th>Gender</th>\n",
       "      <th>Occupation</th>\n",
       "      <th>ZipCode</th>\n",
       "      <th>userID</th>\n",
       "      <th>Occupation_Code</th>\n",
       "    </tr>\n",
       "  </thead>\n",
       "  <tbody>\n",
       "    <tr>\n",
       "      <th>195</th>\n",
       "      <td>196</td>\n",
       "      <td>49</td>\n",
       "      <td>0</td>\n",
       "      <td>writer</td>\n",
       "      <td>55105</td>\n",
       "      <td>0</td>\n",
       "      <td>20</td>\n",
       "    </tr>\n",
       "    <tr>\n",
       "      <th>185</th>\n",
       "      <td>186</td>\n",
       "      <td>39</td>\n",
       "      <td>1</td>\n",
       "      <td>executive</td>\n",
       "      <td>00000</td>\n",
       "      <td>1</td>\n",
       "      <td>6</td>\n",
       "    </tr>\n",
       "    <tr>\n",
       "      <th>21</th>\n",
       "      <td>22</td>\n",
       "      <td>25</td>\n",
       "      <td>0</td>\n",
       "      <td>writer</td>\n",
       "      <td>40206</td>\n",
       "      <td>2</td>\n",
       "      <td>20</td>\n",
       "    </tr>\n",
       "    <tr>\n",
       "      <th>243</th>\n",
       "      <td>244</td>\n",
       "      <td>28</td>\n",
       "      <td>0</td>\n",
       "      <td>technician</td>\n",
       "      <td>80525</td>\n",
       "      <td>3</td>\n",
       "      <td>19</td>\n",
       "    </tr>\n",
       "    <tr>\n",
       "      <th>165</th>\n",
       "      <td>166</td>\n",
       "      <td>47</td>\n",
       "      <td>0</td>\n",
       "      <td>educator</td>\n",
       "      <td>55113</td>\n",
       "      <td>4</td>\n",
       "      <td>3</td>\n",
       "    </tr>\n",
       "    <tr>\n",
       "      <th>...</th>\n",
       "      <td>...</td>\n",
       "      <td>...</td>\n",
       "      <td>...</td>\n",
       "      <td>...</td>\n",
       "      <td>...</td>\n",
       "      <td>...</td>\n",
       "      <td>...</td>\n",
       "    </tr>\n",
       "    <tr>\n",
       "      <th>938</th>\n",
       "      <td>939</td>\n",
       "      <td>26</td>\n",
       "      <td>1</td>\n",
       "      <td>student</td>\n",
       "      <td>33319</td>\n",
       "      <td>938</td>\n",
       "      <td>18</td>\n",
       "    </tr>\n",
       "    <tr>\n",
       "      <th>935</th>\n",
       "      <td>936</td>\n",
       "      <td>24</td>\n",
       "      <td>0</td>\n",
       "      <td>other</td>\n",
       "      <td>32789</td>\n",
       "      <td>939</td>\n",
       "      <td>13</td>\n",
       "    </tr>\n",
       "    <tr>\n",
       "      <th>929</th>\n",
       "      <td>930</td>\n",
       "      <td>28</td>\n",
       "      <td>1</td>\n",
       "      <td>scientist</td>\n",
       "      <td>07310</td>\n",
       "      <td>940</td>\n",
       "      <td>17</td>\n",
       "    </tr>\n",
       "    <tr>\n",
       "      <th>919</th>\n",
       "      <td>920</td>\n",
       "      <td>30</td>\n",
       "      <td>1</td>\n",
       "      <td>artist</td>\n",
       "      <td>90008</td>\n",
       "      <td>941</td>\n",
       "      <td>1</td>\n",
       "    </tr>\n",
       "    <tr>\n",
       "      <th>940</th>\n",
       "      <td>941</td>\n",
       "      <td>20</td>\n",
       "      <td>0</td>\n",
       "      <td>student</td>\n",
       "      <td>97229</td>\n",
       "      <td>942</td>\n",
       "      <td>18</td>\n",
       "    </tr>\n",
       "  </tbody>\n",
       "</table>\n",
       "<p>943 rows × 7 columns</p>\n",
       "</div>"
      ],
      "text/plain": [
       "     user_id  Age  Gender  Occupation ZipCode  userID  Occupation_Code\n",
       "195      196   49       0      writer   55105       0               20\n",
       "185      186   39       1   executive   00000       1                6\n",
       "21        22   25       0      writer   40206       2               20\n",
       "243      244   28       0  technician   80525       3               19\n",
       "165      166   47       0    educator   55113       4                3\n",
       "..       ...  ...     ...         ...     ...     ...              ...\n",
       "938      939   26       1     student   33319     938               18\n",
       "935      936   24       0       other   32789     939               13\n",
       "929      930   28       1   scientist   07310     940               17\n",
       "919      920   30       1      artist   90008     941                1\n",
       "940      941   20       0     student   97229     942               18\n",
       "\n",
       "[943 rows x 7 columns]"
      ]
     },
     "execution_count": 13,
     "metadata": {},
     "output_type": "execute_result"
    }
   ],
   "source": [
    "users"
   ]
  },
  {
   "cell_type": "code",
   "execution_count": 14,
   "metadata": {},
   "outputs": [
    {
     "ename": "ModuleNotFoundError",
     "evalue": "No module named 'metrics'",
     "output_type": "error",
     "traceback": [
      "\u001b[0;31m---------------------------------------------------------------------------\u001b[0m",
      "\u001b[0;31mModuleNotFoundError\u001b[0m                       Traceback (most recent call last)",
      "Cell \u001b[0;32mIn[14], line 8\u001b[0m\n\u001b[1;32m      1\u001b[0m \u001b[38;5;66;03m# age_map = { 0:  \"Under 18\",\u001b[39;00m\n\u001b[1;32m      2\u001b[0m \u001b[38;5;66;03m# \t 1:  \"18-24\",\u001b[39;00m\n\u001b[1;32m      3\u001b[0m \u001b[38;5;66;03m# \t 2:  \"25-34\",\u001b[39;00m\n\u001b[0;32m   (...)\u001b[0m\n\u001b[1;32m      6\u001b[0m \u001b[38;5;66;03m# \t 5:  \"50-55\",\u001b[39;00m\n\u001b[1;32m      7\u001b[0m \u001b[38;5;66;03m# \t 6:  \"56+\"} #we will follow the same age amp for all dataset\u001b[39;00m\n\u001b[0;32m----> 8\u001b[0m \u001b[38;5;28;01mfrom\u001b[39;00m \u001b[38;5;21;01mmetrics\u001b[39;00m\u001b[38;5;21;01m.\u001b[39;00m\u001b[38;5;21;01mutils\u001b[39;00m \u001b[38;5;28;01mimport\u001b[39;00m map_age\n\u001b[1;32m      9\u001b[0m users[\u001b[38;5;124m\"\u001b[39m\u001b[38;5;124mAge_Code\u001b[39m\u001b[38;5;124m\"\u001b[39m] \u001b[38;5;241m=\u001b[39m users[\u001b[38;5;124m\"\u001b[39m\u001b[38;5;124mAge\u001b[39m\u001b[38;5;124m\"\u001b[39m]\u001b[38;5;241m.\u001b[39mapply(map_age)\n\u001b[1;32m     10\u001b[0m users\n",
      "\u001b[0;31mModuleNotFoundError\u001b[0m: No module named 'metrics'"
     ]
    }
   ],
   "source": [
    "# age_map = { 0:  \"Under 18\",\n",
    "# \t 1:  \"18-24\",\n",
    "# \t 2:  \"25-34\",\n",
    "# \t 3:  \"35-44\",\n",
    "# \t 4:  \"45-49\",\n",
    "# \t 5:  \"50-55\",\n",
    "# \t 6:  \"56+\"} #we will follow the same age amp for all dataset\n",
    "from metrics.utils import map_age\n",
    "users[\"Age_Code\"] = users[\"Age\"].apply(map_age)\n",
    "users\n"
   ]
  },
  {
   "cell_type": "code",
   "execution_count": 15,
   "metadata": {},
   "outputs": [
    {
     "data": {
      "text/plain": [
       "'/Users/tahsinalamgirkheya/Desktop/work/reranking_fairnes/metrics'"
      ]
     },
     "execution_count": 15,
     "metadata": {},
     "output_type": "execute_result"
    }
   ],
   "source": [
    "pwd"
   ]
  },
  {
   "cell_type": "code",
   "execution_count": 16,
   "metadata": {},
   "outputs": [],
   "source": [
    "import os\n",
    "os.chdir(\"/Users/tahsinalamgirkheya/Desktop/work/reranking_fairnes\")\n"
   ]
  },
  {
   "cell_type": "code",
   "execution_count": 17,
   "metadata": {},
   "outputs": [
    {
     "data": {
      "text/plain": [
       "100"
      ]
     },
     "execution_count": 17,
     "metadata": {},
     "output_type": "execute_result"
    }
   ],
   "source": [
    "reco_matrix[0].__len__()"
   ]
  },
  {
   "cell_type": "code",
   "execution_count": 18,
   "metadata": {},
   "outputs": [],
   "source": [
    "from mymetrics.GenrePrecisionMulti import GenrePrecisionMulti\n",
    "####Import Metrics####\n",
    "# from mymetrics.GenrePrecision import GenrePrecision\n",
    "\n",
    "top_k = 20\n",
    "###intialize them\n",
    "gp = GenrePrecisionMulti(users, unique_genres, top_k)"
   ]
  },
  {
   "cell_type": "code",
   "execution_count": 19,
   "metadata": {},
   "outputs": [
    {
     "data": {
      "text/plain": [
       "(943, 20)"
      ]
     },
     "execution_count": 19,
     "metadata": {},
     "output_type": "execute_result"
    }
   ],
   "source": [
    "reco_matrix[0].shape\n",
    "# new_rmatrix = np.\n",
    "new_rmatrix = np.zeros(( 943, 20), dtype=int)\n",
    "for i in range(943):\n",
    "    new_rmatrix[i]=reco_matrix[i][:20]\n",
    "new_rmatrix.shape\n"
   ]
  },
  {
   "cell_type": "code",
   "execution_count": 20,
   "metadata": {},
   "outputs": [
    {
     "data": {
      "text/plain": [
       "(0.051574973119749255,\n",
       " array([0.00343256, 0.0071116 , 0.00235703, 0.00010625, 0.00170081,\n",
       "        0.0050048 , 0.00035689, 0.0007444 , 0.        , 0.00460946,\n",
       "        0.00854352, 0.00743106, 0.00369164, 0.00259914, 0.0005497 ,\n",
       "        0.00057268, 0.00040642, 0.00235701]))"
      ]
     },
     "execution_count": 20,
     "metadata": {},
     "output_type": "execute_result"
    }
   ],
   "source": [
    "gp_plain = gp.compute(new_rmatrix, movies, \"Gender\")\n",
    "gp_plain"
   ]
  },
  {
   "cell_type": "code",
   "execution_count": 21,
   "metadata": {},
   "outputs": [
    {
     "data": {
      "text/plain": [
       "0.18494871495596887"
      ]
     },
     "execution_count": 21,
     "metadata": {},
     "output_type": "execute_result"
    }
   ],
   "source": [
    "(0.0891543564230131-0.0726653727698504)/0.0891543564230131\n"
   ]
  },
  {
   "cell_type": "code",
   "execution_count": 23,
   "metadata": {},
   "outputs": [
    {
     "name": "stdout",
     "output_type": "stream",
     "text": [
      "0.04525418694075412 is the bias score for b=0.1\n",
      "0.03973706558781184 is the bias score for b=0.2\n",
      "0.039407550161281474 is the bias score for b=0.3\n",
      "0.043189173181710505 is the bias score for b=0.4\n"
     ]
    }
   ],
   "source": [
    "i=0\n",
    "xlist=[]\n",
    "for r in reco_matrix_fair:\n",
    "    i=i+1\n",
    "    x=gp.compute(np.array(r), movies, \"Gender\")\n",
    "    xlist.append(x[0])\n",
    "    print(f\"{x[0]} is the bias score for b={i/10}\")\n"
   ]
  },
  {
   "cell_type": "code",
   "execution_count": 28,
   "metadata": {},
   "outputs": [
    {
     "data": {
      "text/plain": [
       "0.12831858407079647"
      ]
     },
     "execution_count": 28,
     "metadata": {},
     "output_type": "execute_result"
    }
   ],
   "source": [
    "(0.0452-0.0394)/0.0452"
   ]
  },
  {
   "cell_type": "code",
   "execution_count": 32,
   "metadata": {},
   "outputs": [
    {
     "data": {
      "text/plain": [
       "array([289,  49, 357, 489, 157, 189,  60,   1,  89,  24, 645, 360,  95,\n",
       "        52, 133,  31, 148, 139, 200, 101])"
      ]
     },
     "execution_count": 32,
     "metadata": {},
     "output_type": "execute_result"
    }
   ],
   "source": [
    "reco_matrix_fair[3][0]"
   ]
  },
  {
   "cell_type": "code",
   "execution_count": 24,
   "metadata": {},
   "outputs": [
    {
     "data": {
      "image/png": "[encoded data removed]",
      "text/plain": [
       "<Figure size 640x480 with 1 Axes>"
      ]
     },
     "metadata": {},
     "output_type": "display_data"
    }
   ],
   "source": [
    "xpoints = list(range(len(hrlist)))\n",
    "ypoints = xlist\n",
    "\n",
    "plt.plot(xpoints, ypoints)\n",
    "plt.show()"
   ]
  },
  {
   "cell_type": "code",
   "execution_count": 17,
   "metadata": {},
   "outputs": [
    {
     "name": "stdout",
     "output_type": "stream",
     "text": [
      "++++++++++++++++++++++++++++++++++++++++++++++++++\n",
      "for equation \n",
      " (1 - l - b) * sum of scores for selected items (reco)\n",
      " - l * kl div of past genre prop x reco genre prop\n",
      " - b * kl div of past gender genre prop x reco genre prop)\n",
      "++++++++++++++++++++++++++++++++++++++++++++++++++\n"
     ]
    },
    {
     "ename": "NameError",
     "evalue": "name 'hrl29b69' is not defined",
     "output_type": "error",
     "traceback": [
      "\u001b[0;31m---------------------------------------------------------------------------\u001b[0m",
      "\u001b[0;31mNameError\u001b[0m                                 Traceback (most recent call last)",
      "Cell \u001b[0;32mIn[17], line 6\u001b[0m\n\u001b[1;32m      2\u001b[0m \u001b[38;5;28mprint\u001b[39m(\u001b[38;5;124m\"\u001b[39m\u001b[38;5;124mfor equation \u001b[39m\u001b[38;5;130;01m\\n\u001b[39;00m\u001b[38;5;124m (1 - l - b) * sum of scores for selected items (reco)\u001b[39m\u001b[38;5;130;01m\\n\u001b[39;00m\u001b[38;5;124m - l * kl div of past genre prop x reco genre prop\u001b[39m\u001b[38;5;130;01m\\n\u001b[39;00m\u001b[38;5;124m - b * kl div of past gender genre prop x reco genre prop)\u001b[39m\u001b[38;5;124m\"\u001b[39m)\n\u001b[1;32m      3\u001b[0m \u001b[38;5;28mprint\u001b[39m(\u001b[38;5;124m\"\u001b[39m\u001b[38;5;124m+\u001b[39m\u001b[38;5;124m\"\u001b[39m\u001b[38;5;241m*\u001b[39m\u001b[38;5;241m50\u001b[39m)\n\u001b[1;32m      4\u001b[0m data \u001b[38;5;241m=\u001b[39m [\n\u001b[1;32m      5\u001b[0m     [\u001b[38;5;124m\"\u001b[39m\u001b[38;5;124m      \u001b[39m\u001b[38;5;124m\"\u001b[39m,\u001b[38;5;124m\"\u001b[39m\u001b[38;5;124ml=.29 b=.69\u001b[39m\u001b[38;5;124m\"\u001b[39m, \u001b[38;5;124m\"\u001b[39m\u001b[38;5;124ml=.49 b=.49\u001b[39m\u001b[38;5;124m\"\u001b[39m , \u001b[38;5;124m\"\u001b[39m\u001b[38;5;124ml=.69 b=.29\u001b[39m\u001b[38;5;124m\"\u001b[39m ,\u001b[38;5;124m\"\u001b[39m\u001b[38;5;124mplain\u001b[39m\u001b[38;5;124m\"\u001b[39m], \n\u001b[0;32m----> 6\u001b[0m     [\u001b[38;5;124m\"\u001b[39m\u001b[38;5;124mHitratio@10\u001b[39m\u001b[38;5;124m\"\u001b[39m,  \u001b[38;5;28mround\u001b[39m(\u001b[43mhrl29b69\u001b[49m,\u001b[38;5;241m4\u001b[39m),\u001b[38;5;28mround\u001b[39m(hrl49b49,\u001b[38;5;241m4\u001b[39m), \u001b[38;5;28mround\u001b[39m(hrl69b29,\u001b[38;5;241m4\u001b[39m),\u001b[38;5;28mround\u001b[39m(plain_hr,\u001b[38;5;241m4\u001b[39m)],                              \n\u001b[1;32m      7\u001b[0m     [\u001b[38;5;124m\"\u001b[39m\u001b[38;5;124mGender Bias\u001b[39m\u001b[38;5;124m\"\u001b[39m, \u001b[38;5;28mround\u001b[39m(\u001b[38;5;28msum\u001b[39m(\u001b[38;5;28mabs\u001b[39m(gp_1)),\u001b[38;5;241m4\u001b[39m),\u001b[38;5;28mround\u001b[39m(\u001b[38;5;28msum\u001b[39m(\u001b[38;5;28mabs\u001b[39m(gp_2)),\u001b[38;5;241m4\u001b[39m),\u001b[38;5;28mround\u001b[39m(\u001b[38;5;28msum\u001b[39m(\u001b[38;5;28mabs\u001b[39m(gp_3)),\u001b[38;5;241m4\u001b[39m), \u001b[38;5;241m0.1561\u001b[39m],                         \n\u001b[1;32m      8\u001b[0m ]\n\u001b[1;32m     11\u001b[0m \u001b[38;5;28mprint\u001b[39m(\u001b[38;5;124m\"\u001b[39m\u001b[38;5;132;01m{:<12}\u001b[39;00m\u001b[38;5;124m \u001b[39m\u001b[38;5;132;01m{:<15}\u001b[39;00m\u001b[38;5;124m \u001b[39m\u001b[38;5;132;01m{:<15}\u001b[39;00m\u001b[38;5;124m \u001b[39m\u001b[38;5;132;01m{:<15}\u001b[39;00m\u001b[38;5;124m \u001b[39m\u001b[38;5;132;01m{:<15}\u001b[39;00m\u001b[38;5;124m\"\u001b[39m\u001b[38;5;241m.\u001b[39mformat(\u001b[38;5;241m*\u001b[39mdata[\u001b[38;5;241m0\u001b[39m]))  \n\u001b[1;32m     12\u001b[0m \u001b[38;5;28mprint\u001b[39m(\u001b[38;5;124m\"\u001b[39m\u001b[38;5;124m-\u001b[39m\u001b[38;5;124m\"\u001b[39m \u001b[38;5;241m*\u001b[39m \u001b[38;5;241m50\u001b[39m)                                      \n",
      "\u001b[0;31mNameError\u001b[0m: name 'hrl29b69' is not defined"
     ]
    }
   ],
   "source": [
    "print(\"+\"*50)\n",
    "print(\"for equation \\n (1 - l - b) * sum of scores for selected items (reco)\\n - l * kl div of past genre prop x reco genre prop\\n - b * kl div of past gender genre prop x reco genre prop)\")\n",
    "print(\"+\"*50)\n",
    "data = [\n",
    "    [\"      \",\"l=.29 b=.69\", \"l=.49 b=.49\" , \"l=.69 b=.29\" ,\"plain\"], \n",
    "    [\"Hitratio@10\",  round(hrl29b69,4),round(hrl49b49,4), round(hrl69b29,4),round(plain_hr,4)],                              \n",
    "    [\"Gender Bias\", round(sum(abs(gp_1)),4),round(sum(abs(gp_2)),4),round(sum(abs(gp_3)),4), 0.1561],                         \n",
    "]\n",
    "\n",
    "\n",
    "print(\"{:<12} {:<15} {:<15} {:<15} {:<15}\".format(*data[0]))  \n",
    "print(\"-\" * 50)                                      \n",
    "for row in data[1:]:                                \n",
    "    print(\"{:<12} {:<15} {:<15} {:<15} {:<15}\".format(*row))\n",
    "    \n",
    "print(\"+\"*50)\n",
    "print(\"for equation \\n (1 - l - b) * sum of scores for selected items (reco)\\n - l * kl div of past genre prop x reco genre prop\\n - b * kl div of recommended gender genre prop x reco genre prop)\")\n",
    "print(\"+\"*50)\n",
    "data = [\n",
    "    [\"      \", \"l=.49 b=.49\" , \"l=.69 b=.29\" , \"l=.29 b=.29\" ,\"plain\"], \n",
    "    [\"Hitratio@10\",round(hr_recol49b49,4), round(hr_recol69b29,4),round(hr_recol29b29,4),round(plain_hr,4)],                              \n",
    "    [\"Gender Bias\",round(sum(abs(gp_reco_1)),4),round(sum(abs(gp_reco_2)),4),round(sum(abs(gp_reco_3)),4), 0.1561],                         \n",
    "]\n",
    "\n",
    "\n",
    "print(\"{:<12} {:<15} {:<15} {:<15} {:<15} \".format(*data[0]))  \n",
    "print(\"-\" * 50)                                      \n",
    "for row in data[1:]:                                \n",
    "    print(\"{:<12} {:<15} {:<15} {:<15} {:<15} \".format(*row))\n",
    "\n"
   ]
  }
 ],
 "metadata": {
  "kernelspec": {
   "display_name": "bbmrec",
   "language": "python",
   "name": "python3"
  },
  "language_info": {
   "codemirror_mode": {
    "name": "ipython",
    "version": 3
   },
   "file_extension": ".py",
   "mimetype": "text/x-python",
   "name": "python",
   "nbconvert_exporter": "python",
   "pygments_lexer": "ipython3",
   "version": "3.11.9"
  }
 },
 "nbformat": 4,
 "nbformat_minor": 2
}
