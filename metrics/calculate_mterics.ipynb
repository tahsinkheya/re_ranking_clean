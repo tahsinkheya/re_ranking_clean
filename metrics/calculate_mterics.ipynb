{
 "cells": [
  {
   "cell_type": "code",
   "execution_count": 1,
   "metadata": {},
   "outputs": [],
   "source": [
    "import numpy as np\n",
    "import pandas as pd"
   ]
  },
  {
   "cell_type": "code",
   "execution_count": 2,
   "metadata": {},
   "outputs": [
    {
     "data": {
      "text/html": [
       "<div>\n",
       "<style scoped>\n",
       "    .dataframe tbody tr th:only-of-type {\n",
       "        vertical-align: middle;\n",
       "    }\n",
       "\n",
       "    .dataframe tbody tr th {\n",
       "        vertical-align: top;\n",
       "    }\n",
       "\n",
       "    .dataframe thead th {\n",
       "        text-align: right;\n",
       "    }\n",
       "</style>\n",
       "<table border=\"1\" class=\"dataframe\">\n",
       "  <thead>\n",
       "    <tr style=\"text-align: right;\">\n",
       "      <th></th>\n",
       "      <th>userID</th>\n",
       "      <th>itemID</th>\n",
       "      <th>Rating</th>\n",
       "    </tr>\n",
       "  </thead>\n",
       "  <tbody>\n",
       "    <tr>\n",
       "      <th>0</th>\n",
       "      <td>0</td>\n",
       "      <td>464</td>\n",
       "      <td>4</td>\n",
       "    </tr>\n",
       "    <tr>\n",
       "      <th>1</th>\n",
       "      <td>0</td>\n",
       "      <td>431</td>\n",
       "      <td>2</td>\n",
       "    </tr>\n",
       "    <tr>\n",
       "      <th>2</th>\n",
       "      <td>0</td>\n",
       "      <td>179</td>\n",
       "      <td>3</td>\n",
       "    </tr>\n",
       "    <tr>\n",
       "      <th>3</th>\n",
       "      <td>0</td>\n",
       "      <td>291</td>\n",
       "      <td>3</td>\n",
       "    </tr>\n",
       "    <tr>\n",
       "      <th>4</th>\n",
       "      <td>0</td>\n",
       "      <td>928</td>\n",
       "      <td>4</td>\n",
       "    </tr>\n",
       "    <tr>\n",
       "      <th>...</th>\n",
       "      <td>...</td>\n",
       "      <td>...</td>\n",
       "      <td>...</td>\n",
       "    </tr>\n",
       "    <tr>\n",
       "      <th>20237</th>\n",
       "      <td>942</td>\n",
       "      <td>450</td>\n",
       "      <td>4</td>\n",
       "    </tr>\n",
       "    <tr>\n",
       "      <th>20238</th>\n",
       "      <td>942</td>\n",
       "      <td>858</td>\n",
       "      <td>5</td>\n",
       "    </tr>\n",
       "    <tr>\n",
       "      <th>20239</th>\n",
       "      <td>942</td>\n",
       "      <td>157</td>\n",
       "      <td>4</td>\n",
       "    </tr>\n",
       "    <tr>\n",
       "      <th>20240</th>\n",
       "      <td>942</td>\n",
       "      <td>24</td>\n",
       "      <td>5</td>\n",
       "    </tr>\n",
       "    <tr>\n",
       "      <th>20241</th>\n",
       "      <td>942</td>\n",
       "      <td>180</td>\n",
       "      <td>5</td>\n",
       "    </tr>\n",
       "  </tbody>\n",
       "</table>\n",
       "<p>20242 rows × 3 columns</p>\n",
       "</div>"
      ],
      "text/plain": [
       "       userID  itemID  Rating\n",
       "0           0     464       4\n",
       "1           0     431       2\n",
       "2           0     179       3\n",
       "3           0     291       3\n",
       "4           0     928       4\n",
       "...       ...     ...     ...\n",
       "20237     942     450       4\n",
       "20238     942     858       5\n",
       "20239     942     157       4\n",
       "20240     942      24       5\n",
       "20241     942     180       5\n",
       "\n",
       "[20242 rows x 3 columns]"
      ]
     },
     "execution_count": 2,
     "metadata": {},
     "output_type": "execute_result"
    }
   ],
   "source": [
    "test_set = pd.read_csv(\"testing_set_seed123_ml100k.csv\",sep=\",\",\n",
    "    header=None,\n",
    "    names=[\"userID\", \"itemID\", \"Rating\"],)\n",
    "test_set"
   ]
  },
  {
   "cell_type": "code",
   "execution_count": 3,
   "metadata": {},
   "outputs": [
    {
     "data": {
      "text/plain": [
       "943"
      ]
     },
     "execution_count": 3,
     "metadata": {},
     "output_type": "execute_result"
    }
   ],
   "source": [
    "all_users_tp = test_set.groupby('userID')['itemID'].apply(list).tolist()\n",
    "all_users_tp.__len__()"
   ]
  },
  {
   "cell_type": "code",
   "execution_count": 4,
   "metadata": {},
   "outputs": [
    {
     "data": {
      "text/html": [
       "<div>\n",
       "<style scoped>\n",
       "    .dataframe tbody tr th:only-of-type {\n",
       "        vertical-align: middle;\n",
       "    }\n",
       "\n",
       "    .dataframe tbody tr th {\n",
       "        vertical-align: top;\n",
       "    }\n",
       "\n",
       "    .dataframe thead th {\n",
       "        text-align: right;\n",
       "    }\n",
       "</style>\n",
       "<table border=\"1\" class=\"dataframe\">\n",
       "  <thead>\n",
       "    <tr style=\"text-align: right;\">\n",
       "      <th></th>\n",
       "      <th>userID</th>\n",
       "      <th>itemID</th>\n",
       "      <th>Rating</th>\n",
       "    </tr>\n",
       "  </thead>\n",
       "  <tbody>\n",
       "    <tr>\n",
       "      <th>8</th>\n",
       "      <td>1</td>\n",
       "      <td>746</td>\n",
       "      <td>2</td>\n",
       "    </tr>\n",
       "    <tr>\n",
       "      <th>9</th>\n",
       "      <td>1</td>\n",
       "      <td>442</td>\n",
       "      <td>4</td>\n",
       "    </tr>\n",
       "    <tr>\n",
       "      <th>10</th>\n",
       "      <td>1</td>\n",
       "      <td>445</td>\n",
       "      <td>2</td>\n",
       "    </tr>\n",
       "    <tr>\n",
       "      <th>11</th>\n",
       "      <td>1</td>\n",
       "      <td>280</td>\n",
       "      <td>3</td>\n",
       "    </tr>\n",
       "    <tr>\n",
       "      <th>12</th>\n",
       "      <td>1</td>\n",
       "      <td>349</td>\n",
       "      <td>2</td>\n",
       "    </tr>\n",
       "    <tr>\n",
       "      <th>13</th>\n",
       "      <td>1</td>\n",
       "      <td>875</td>\n",
       "      <td>4</td>\n",
       "    </tr>\n",
       "    <tr>\n",
       "      <th>14</th>\n",
       "      <td>1</td>\n",
       "      <td>1106</td>\n",
       "      <td>4</td>\n",
       "    </tr>\n",
       "    <tr>\n",
       "      <th>15</th>\n",
       "      <td>1</td>\n",
       "      <td>370</td>\n",
       "      <td>1</td>\n",
       "    </tr>\n",
       "    <tr>\n",
       "      <th>16</th>\n",
       "      <td>1</td>\n",
       "      <td>425</td>\n",
       "      <td>4</td>\n",
       "    </tr>\n",
       "    <tr>\n",
       "      <th>17</th>\n",
       "      <td>1</td>\n",
       "      <td>450</td>\n",
       "      <td>4</td>\n",
       "    </tr>\n",
       "    <tr>\n",
       "      <th>18</th>\n",
       "      <td>1</td>\n",
       "      <td>931</td>\n",
       "      <td>4</td>\n",
       "    </tr>\n",
       "    <tr>\n",
       "      <th>19</th>\n",
       "      <td>1</td>\n",
       "      <td>149</td>\n",
       "      <td>3</td>\n",
       "    </tr>\n",
       "    <tr>\n",
       "      <th>20</th>\n",
       "      <td>1</td>\n",
       "      <td>541</td>\n",
       "      <td>5</td>\n",
       "    </tr>\n",
       "    <tr>\n",
       "      <th>21</th>\n",
       "      <td>1</td>\n",
       "      <td>574</td>\n",
       "      <td>4</td>\n",
       "    </tr>\n",
       "    <tr>\n",
       "      <th>22</th>\n",
       "      <td>1</td>\n",
       "      <td>645</td>\n",
       "      <td>5</td>\n",
       "    </tr>\n",
       "    <tr>\n",
       "      <th>23</th>\n",
       "      <td>1</td>\n",
       "      <td>908</td>\n",
       "      <td>4</td>\n",
       "    </tr>\n",
       "    <tr>\n",
       "      <th>24</th>\n",
       "      <td>1</td>\n",
       "      <td>25</td>\n",
       "      <td>4</td>\n",
       "    </tr>\n",
       "    <tr>\n",
       "      <th>25</th>\n",
       "      <td>1</td>\n",
       "      <td>140</td>\n",
       "      <td>5</td>\n",
       "    </tr>\n",
       "    <tr>\n",
       "      <th>26</th>\n",
       "      <td>1</td>\n",
       "      <td>1188</td>\n",
       "      <td>2</td>\n",
       "    </tr>\n",
       "  </tbody>\n",
       "</table>\n",
       "</div>"
      ],
      "text/plain": [
       "    userID  itemID  Rating\n",
       "8        1     746       2\n",
       "9        1     442       4\n",
       "10       1     445       2\n",
       "11       1     280       3\n",
       "12       1     349       2\n",
       "13       1     875       4\n",
       "14       1    1106       4\n",
       "15       1     370       1\n",
       "16       1     425       4\n",
       "17       1     450       4\n",
       "18       1     931       4\n",
       "19       1     149       3\n",
       "20       1     541       5\n",
       "21       1     574       4\n",
       "22       1     645       5\n",
       "23       1     908       4\n",
       "24       1      25       4\n",
       "25       1     140       5\n",
       "26       1    1188       2"
      ]
     },
     "execution_count": 4,
     "metadata": {},
     "output_type": "execute_result"
    }
   ],
   "source": [
    "test_set[test_set[\"userID\"]==1]"
   ]
  },
  {
   "cell_type": "code",
   "execution_count": 5,
   "metadata": {},
   "outputs": [],
   "source": [
    "reco_matrix = np.load(\"../test/reco_matrix.npy\")"
   ]
  },
  {
   "cell_type": "code",
   "execution_count": 6,
   "metadata": {},
   "outputs": [
    {
     "data": {
      "text/plain": [
       "array([110, 319, 220, 374, 918, 745,  99, 607,  57, 191])"
      ]
     },
     "execution_count": 6,
     "metadata": {},
     "output_type": "execute_result"
    }
   ],
   "source": [
    "reco_matrix[0][1]"
   ]
  },
  {
   "cell_type": "code",
   "execution_count": 7,
   "metadata": {},
   "outputs": [
    {
     "data": {
      "text/plain": [
       "0.35949098621421"
      ]
     },
     "execution_count": 7,
     "metadata": {},
     "output_type": "execute_result"
    }
   ],
   "source": [
    "from HitRation import HitRatio\n",
    "hr=HitRatio(10)\n",
    "alist=[]\n",
    "sum_hr=0\n",
    "for u in range(reco_matrix[0].shape[0]):\n",
    "    x=hr.compute(all_users_tp[u],reco_matrix[0][u])\n",
    "    # alist.append(x)\n",
    "    sum_hr=sum_hr+x\n",
    "    # print(x)\n",
    "plain_hr=sum_hr/reco_matrix[0].shape[0]\n",
    "plain_hr"
   ]
  },
  {
   "cell_type": "code",
   "execution_count": 8,
   "metadata": {},
   "outputs": [
    {
     "ename": "FileNotFoundError",
     "evalue": "[Errno 2] No such file or directory: 'results/greedy/res_top10_b50.csv'",
     "output_type": "error",
     "traceback": [
      "\u001b[0;31m---------------------------------------------------------------------------\u001b[0m",
      "\u001b[0;31mFileNotFoundError\u001b[0m                         Traceback (most recent call last)",
      "Cell \u001b[0;32mIn[8], line 1\u001b[0m\n\u001b[0;32m----> 1\u001b[0m pd_b50\u001b[38;5;241m=\u001b[39m \u001b[43mpd\u001b[49m\u001b[38;5;241;43m.\u001b[39;49m\u001b[43mread_csv\u001b[49m\u001b[43m(\u001b[49m\u001b[38;5;124;43m\"\u001b[39;49m\u001b[38;5;124;43mresults/greedy/res_top10_b50.csv\u001b[39;49m\u001b[38;5;124;43m\"\u001b[39;49m\u001b[43m,\u001b[49m\u001b[43msep\u001b[49m\u001b[38;5;241;43m=\u001b[39;49m\u001b[38;5;124;43m\"\u001b[39;49m\u001b[38;5;124;43m,\u001b[39;49m\u001b[38;5;124;43m\"\u001b[39;49m\u001b[43m,\u001b[49m\u001b[43m)\u001b[49m\n\u001b[1;32m      2\u001b[0m     \u001b[38;5;66;03m# header=None,\u001b[39;00m\n\u001b[1;32m      3\u001b[0m     \u001b[38;5;66;03m# names=[\"userID\", \"itemID\", \"Rating\"],)\u001b[39;00m\n\u001b[1;32m      4\u001b[0m reco_matrix_b50\u001b[38;5;241m=\u001b[39m[]\n",
      "File \u001b[0;32m~/anaconda3/envs/bbmrec/lib/python3.11/site-packages/pandas/io/parsers/readers.py:1026\u001b[0m, in \u001b[0;36mread_csv\u001b[0;34m(filepath_or_buffer, sep, delimiter, header, names, index_col, usecols, dtype, engine, converters, true_values, false_values, skipinitialspace, skiprows, skipfooter, nrows, na_values, keep_default_na, na_filter, verbose, skip_blank_lines, parse_dates, infer_datetime_format, keep_date_col, date_parser, date_format, dayfirst, cache_dates, iterator, chunksize, compression, thousands, decimal, lineterminator, quotechar, quoting, doublequote, escapechar, comment, encoding, encoding_errors, dialect, on_bad_lines, delim_whitespace, low_memory, memory_map, float_precision, storage_options, dtype_backend)\u001b[0m\n\u001b[1;32m   1013\u001b[0m kwds_defaults \u001b[38;5;241m=\u001b[39m _refine_defaults_read(\n\u001b[1;32m   1014\u001b[0m     dialect,\n\u001b[1;32m   1015\u001b[0m     delimiter,\n\u001b[0;32m   (...)\u001b[0m\n\u001b[1;32m   1022\u001b[0m     dtype_backend\u001b[38;5;241m=\u001b[39mdtype_backend,\n\u001b[1;32m   1023\u001b[0m )\n\u001b[1;32m   1024\u001b[0m kwds\u001b[38;5;241m.\u001b[39mupdate(kwds_defaults)\n\u001b[0;32m-> 1026\u001b[0m \u001b[38;5;28;01mreturn\u001b[39;00m \u001b[43m_read\u001b[49m\u001b[43m(\u001b[49m\u001b[43mfilepath_or_buffer\u001b[49m\u001b[43m,\u001b[49m\u001b[43m \u001b[49m\u001b[43mkwds\u001b[49m\u001b[43m)\u001b[49m\n",
      "File \u001b[0;32m~/anaconda3/envs/bbmrec/lib/python3.11/site-packages/pandas/io/parsers/readers.py:620\u001b[0m, in \u001b[0;36m_read\u001b[0;34m(filepath_or_buffer, kwds)\u001b[0m\n\u001b[1;32m    617\u001b[0m _validate_names(kwds\u001b[38;5;241m.\u001b[39mget(\u001b[38;5;124m\"\u001b[39m\u001b[38;5;124mnames\u001b[39m\u001b[38;5;124m\"\u001b[39m, \u001b[38;5;28;01mNone\u001b[39;00m))\n\u001b[1;32m    619\u001b[0m \u001b[38;5;66;03m# Create the parser.\u001b[39;00m\n\u001b[0;32m--> 620\u001b[0m parser \u001b[38;5;241m=\u001b[39m \u001b[43mTextFileReader\u001b[49m\u001b[43m(\u001b[49m\u001b[43mfilepath_or_buffer\u001b[49m\u001b[43m,\u001b[49m\u001b[43m \u001b[49m\u001b[38;5;241;43m*\u001b[39;49m\u001b[38;5;241;43m*\u001b[39;49m\u001b[43mkwds\u001b[49m\u001b[43m)\u001b[49m\n\u001b[1;32m    622\u001b[0m \u001b[38;5;28;01mif\u001b[39;00m chunksize \u001b[38;5;129;01mor\u001b[39;00m iterator:\n\u001b[1;32m    623\u001b[0m     \u001b[38;5;28;01mreturn\u001b[39;00m parser\n",
      "File \u001b[0;32m~/anaconda3/envs/bbmrec/lib/python3.11/site-packages/pandas/io/parsers/readers.py:1620\u001b[0m, in \u001b[0;36mTextFileReader.__init__\u001b[0;34m(self, f, engine, **kwds)\u001b[0m\n\u001b[1;32m   1617\u001b[0m     \u001b[38;5;28mself\u001b[39m\u001b[38;5;241m.\u001b[39moptions[\u001b[38;5;124m\"\u001b[39m\u001b[38;5;124mhas_index_names\u001b[39m\u001b[38;5;124m\"\u001b[39m] \u001b[38;5;241m=\u001b[39m kwds[\u001b[38;5;124m\"\u001b[39m\u001b[38;5;124mhas_index_names\u001b[39m\u001b[38;5;124m\"\u001b[39m]\n\u001b[1;32m   1619\u001b[0m \u001b[38;5;28mself\u001b[39m\u001b[38;5;241m.\u001b[39mhandles: IOHandles \u001b[38;5;241m|\u001b[39m \u001b[38;5;28;01mNone\u001b[39;00m \u001b[38;5;241m=\u001b[39m \u001b[38;5;28;01mNone\u001b[39;00m\n\u001b[0;32m-> 1620\u001b[0m \u001b[38;5;28mself\u001b[39m\u001b[38;5;241m.\u001b[39m_engine \u001b[38;5;241m=\u001b[39m \u001b[38;5;28;43mself\u001b[39;49m\u001b[38;5;241;43m.\u001b[39;49m\u001b[43m_make_engine\u001b[49m\u001b[43m(\u001b[49m\u001b[43mf\u001b[49m\u001b[43m,\u001b[49m\u001b[43m \u001b[49m\u001b[38;5;28;43mself\u001b[39;49m\u001b[38;5;241;43m.\u001b[39;49m\u001b[43mengine\u001b[49m\u001b[43m)\u001b[49m\n",
      "File \u001b[0;32m~/anaconda3/envs/bbmrec/lib/python3.11/site-packages/pandas/io/parsers/readers.py:1880\u001b[0m, in \u001b[0;36mTextFileReader._make_engine\u001b[0;34m(self, f, engine)\u001b[0m\n\u001b[1;32m   1878\u001b[0m     \u001b[38;5;28;01mif\u001b[39;00m \u001b[38;5;124m\"\u001b[39m\u001b[38;5;124mb\u001b[39m\u001b[38;5;124m\"\u001b[39m \u001b[38;5;129;01mnot\u001b[39;00m \u001b[38;5;129;01min\u001b[39;00m mode:\n\u001b[1;32m   1879\u001b[0m         mode \u001b[38;5;241m+\u001b[39m\u001b[38;5;241m=\u001b[39m \u001b[38;5;124m\"\u001b[39m\u001b[38;5;124mb\u001b[39m\u001b[38;5;124m\"\u001b[39m\n\u001b[0;32m-> 1880\u001b[0m \u001b[38;5;28mself\u001b[39m\u001b[38;5;241m.\u001b[39mhandles \u001b[38;5;241m=\u001b[39m \u001b[43mget_handle\u001b[49m\u001b[43m(\u001b[49m\n\u001b[1;32m   1881\u001b[0m \u001b[43m    \u001b[49m\u001b[43mf\u001b[49m\u001b[43m,\u001b[49m\n\u001b[1;32m   1882\u001b[0m \u001b[43m    \u001b[49m\u001b[43mmode\u001b[49m\u001b[43m,\u001b[49m\n\u001b[1;32m   1883\u001b[0m \u001b[43m    \u001b[49m\u001b[43mencoding\u001b[49m\u001b[38;5;241;43m=\u001b[39;49m\u001b[38;5;28;43mself\u001b[39;49m\u001b[38;5;241;43m.\u001b[39;49m\u001b[43moptions\u001b[49m\u001b[38;5;241;43m.\u001b[39;49m\u001b[43mget\u001b[49m\u001b[43m(\u001b[49m\u001b[38;5;124;43m\"\u001b[39;49m\u001b[38;5;124;43mencoding\u001b[39;49m\u001b[38;5;124;43m\"\u001b[39;49m\u001b[43m,\u001b[49m\u001b[43m \u001b[49m\u001b[38;5;28;43;01mNone\u001b[39;49;00m\u001b[43m)\u001b[49m\u001b[43m,\u001b[49m\n\u001b[1;32m   1884\u001b[0m \u001b[43m    \u001b[49m\u001b[43mcompression\u001b[49m\u001b[38;5;241;43m=\u001b[39;49m\u001b[38;5;28;43mself\u001b[39;49m\u001b[38;5;241;43m.\u001b[39;49m\u001b[43moptions\u001b[49m\u001b[38;5;241;43m.\u001b[39;49m\u001b[43mget\u001b[49m\u001b[43m(\u001b[49m\u001b[38;5;124;43m\"\u001b[39;49m\u001b[38;5;124;43mcompression\u001b[39;49m\u001b[38;5;124;43m\"\u001b[39;49m\u001b[43m,\u001b[49m\u001b[43m \u001b[49m\u001b[38;5;28;43;01mNone\u001b[39;49;00m\u001b[43m)\u001b[49m\u001b[43m,\u001b[49m\n\u001b[1;32m   1885\u001b[0m \u001b[43m    \u001b[49m\u001b[43mmemory_map\u001b[49m\u001b[38;5;241;43m=\u001b[39;49m\u001b[38;5;28;43mself\u001b[39;49m\u001b[38;5;241;43m.\u001b[39;49m\u001b[43moptions\u001b[49m\u001b[38;5;241;43m.\u001b[39;49m\u001b[43mget\u001b[49m\u001b[43m(\u001b[49m\u001b[38;5;124;43m\"\u001b[39;49m\u001b[38;5;124;43mmemory_map\u001b[39;49m\u001b[38;5;124;43m\"\u001b[39;49m\u001b[43m,\u001b[49m\u001b[43m \u001b[49m\u001b[38;5;28;43;01mFalse\u001b[39;49;00m\u001b[43m)\u001b[49m\u001b[43m,\u001b[49m\n\u001b[1;32m   1886\u001b[0m \u001b[43m    \u001b[49m\u001b[43mis_text\u001b[49m\u001b[38;5;241;43m=\u001b[39;49m\u001b[43mis_text\u001b[49m\u001b[43m,\u001b[49m\n\u001b[1;32m   1887\u001b[0m \u001b[43m    \u001b[49m\u001b[43merrors\u001b[49m\u001b[38;5;241;43m=\u001b[39;49m\u001b[38;5;28;43mself\u001b[39;49m\u001b[38;5;241;43m.\u001b[39;49m\u001b[43moptions\u001b[49m\u001b[38;5;241;43m.\u001b[39;49m\u001b[43mget\u001b[49m\u001b[43m(\u001b[49m\u001b[38;5;124;43m\"\u001b[39;49m\u001b[38;5;124;43mencoding_errors\u001b[39;49m\u001b[38;5;124;43m\"\u001b[39;49m\u001b[43m,\u001b[49m\u001b[43m \u001b[49m\u001b[38;5;124;43m\"\u001b[39;49m\u001b[38;5;124;43mstrict\u001b[39;49m\u001b[38;5;124;43m\"\u001b[39;49m\u001b[43m)\u001b[49m\u001b[43m,\u001b[49m\n\u001b[1;32m   1888\u001b[0m \u001b[43m    \u001b[49m\u001b[43mstorage_options\u001b[49m\u001b[38;5;241;43m=\u001b[39;49m\u001b[38;5;28;43mself\u001b[39;49m\u001b[38;5;241;43m.\u001b[39;49m\u001b[43moptions\u001b[49m\u001b[38;5;241;43m.\u001b[39;49m\u001b[43mget\u001b[49m\u001b[43m(\u001b[49m\u001b[38;5;124;43m\"\u001b[39;49m\u001b[38;5;124;43mstorage_options\u001b[39;49m\u001b[38;5;124;43m\"\u001b[39;49m\u001b[43m,\u001b[49m\u001b[43m \u001b[49m\u001b[38;5;28;43;01mNone\u001b[39;49;00m\u001b[43m)\u001b[49m\u001b[43m,\u001b[49m\n\u001b[1;32m   1889\u001b[0m \u001b[43m\u001b[49m\u001b[43m)\u001b[49m\n\u001b[1;32m   1890\u001b[0m \u001b[38;5;28;01massert\u001b[39;00m \u001b[38;5;28mself\u001b[39m\u001b[38;5;241m.\u001b[39mhandles \u001b[38;5;129;01mis\u001b[39;00m \u001b[38;5;129;01mnot\u001b[39;00m \u001b[38;5;28;01mNone\u001b[39;00m\n\u001b[1;32m   1891\u001b[0m f \u001b[38;5;241m=\u001b[39m \u001b[38;5;28mself\u001b[39m\u001b[38;5;241m.\u001b[39mhandles\u001b[38;5;241m.\u001b[39mhandle\n",
      "File \u001b[0;32m~/anaconda3/envs/bbmrec/lib/python3.11/site-packages/pandas/io/common.py:873\u001b[0m, in \u001b[0;36mget_handle\u001b[0;34m(path_or_buf, mode, encoding, compression, memory_map, is_text, errors, storage_options)\u001b[0m\n\u001b[1;32m    868\u001b[0m \u001b[38;5;28;01melif\u001b[39;00m \u001b[38;5;28misinstance\u001b[39m(handle, \u001b[38;5;28mstr\u001b[39m):\n\u001b[1;32m    869\u001b[0m     \u001b[38;5;66;03m# Check whether the filename is to be opened in binary mode.\u001b[39;00m\n\u001b[1;32m    870\u001b[0m     \u001b[38;5;66;03m# Binary mode does not support 'encoding' and 'newline'.\u001b[39;00m\n\u001b[1;32m    871\u001b[0m     \u001b[38;5;28;01mif\u001b[39;00m ioargs\u001b[38;5;241m.\u001b[39mencoding \u001b[38;5;129;01mand\u001b[39;00m \u001b[38;5;124m\"\u001b[39m\u001b[38;5;124mb\u001b[39m\u001b[38;5;124m\"\u001b[39m \u001b[38;5;129;01mnot\u001b[39;00m \u001b[38;5;129;01min\u001b[39;00m ioargs\u001b[38;5;241m.\u001b[39mmode:\n\u001b[1;32m    872\u001b[0m         \u001b[38;5;66;03m# Encoding\u001b[39;00m\n\u001b[0;32m--> 873\u001b[0m         handle \u001b[38;5;241m=\u001b[39m \u001b[38;5;28;43mopen\u001b[39;49m\u001b[43m(\u001b[49m\n\u001b[1;32m    874\u001b[0m \u001b[43m            \u001b[49m\u001b[43mhandle\u001b[49m\u001b[43m,\u001b[49m\n\u001b[1;32m    875\u001b[0m \u001b[43m            \u001b[49m\u001b[43mioargs\u001b[49m\u001b[38;5;241;43m.\u001b[39;49m\u001b[43mmode\u001b[49m\u001b[43m,\u001b[49m\n\u001b[1;32m    876\u001b[0m \u001b[43m            \u001b[49m\u001b[43mencoding\u001b[49m\u001b[38;5;241;43m=\u001b[39;49m\u001b[43mioargs\u001b[49m\u001b[38;5;241;43m.\u001b[39;49m\u001b[43mencoding\u001b[49m\u001b[43m,\u001b[49m\n\u001b[1;32m    877\u001b[0m \u001b[43m            \u001b[49m\u001b[43merrors\u001b[49m\u001b[38;5;241;43m=\u001b[39;49m\u001b[43merrors\u001b[49m\u001b[43m,\u001b[49m\n\u001b[1;32m    878\u001b[0m \u001b[43m            \u001b[49m\u001b[43mnewline\u001b[49m\u001b[38;5;241;43m=\u001b[39;49m\u001b[38;5;124;43m\"\u001b[39;49m\u001b[38;5;124;43m\"\u001b[39;49m\u001b[43m,\u001b[49m\n\u001b[1;32m    879\u001b[0m \u001b[43m        \u001b[49m\u001b[43m)\u001b[49m\n\u001b[1;32m    880\u001b[0m     \u001b[38;5;28;01melse\u001b[39;00m:\n\u001b[1;32m    881\u001b[0m         \u001b[38;5;66;03m# Binary mode\u001b[39;00m\n\u001b[1;32m    882\u001b[0m         handle \u001b[38;5;241m=\u001b[39m \u001b[38;5;28mopen\u001b[39m(handle, ioargs\u001b[38;5;241m.\u001b[39mmode)\n",
      "\u001b[0;31mFileNotFoundError\u001b[0m: [Errno 2] No such file or directory: 'results/greedy/res_top10_b50.csv'"
     ]
    }
   ],
   "source": [
    "pd_b50= pd.read_csv(\"results/greedy/res_top10_b50.csv\",sep=\",\",)\n",
    "    # header=None,\n",
    "    # names=[\"userID\", \"itemID\", \"Rating\"],)\n",
    "reco_matrix_b50=[]\n",
    "for i in range(len(pd_b50)):\n",
    "    reco_matrix_b50.append(np.array(pd_b50.iloc[i][1:]))\n",
    "    # results/greedy/res_top10_b69.csv\n",
    "# reco_matrix_l49b49"
   ]
  },
  {
   "cell_type": "code",
   "execution_count": 31,
   "metadata": {},
   "outputs": [
    {
     "data": {
      "text/plain": [
       "0.2598091198303287"
      ]
     },
     "execution_count": 31,
     "metadata": {},
     "output_type": "execute_result"
    }
   ],
   "source": [
    "from HitRation import HitRatio\n",
    "hr=HitRatio(10)\n",
    "alist=[]\n",
    "sum_hr=0\n",
    "for u in range(reco_matrix[0].shape[0]):\n",
    "    x=hr.compute(all_users_tp[u],reco_matrix_b50[u])\n",
    "    # alist.append(x)\n",
    "    sum_hr=sum_hr+x\n",
    "    # print(x)\n",
    "hrl29b69=sum_hr/reco_matrix[0].shape[0]\n",
    "hrl29b69\n",
    "    "
   ]
  },
  {
   "cell_type": "code",
   "execution_count": 32,
   "metadata": {},
   "outputs": [
    {
     "data": {
      "text/plain": [
       "0.23435843054082714"
      ]
     },
     "execution_count": 32,
     "metadata": {},
     "output_type": "execute_result"
    }
   ],
   "source": [
    "# pd_l49b49= pd.read_csv(\"../results/res_top10l49b49.csv\",sep=\",\",)\n",
    "pd_b50= pd.read_csv(\"results/greedy/res_top10_b70.csv\",sep=\",\",)\n",
    "\n",
    "    # header=None,\n",
    "    # names=[\"userID\", \"itemID\", \"Rating\"],)\n",
    "reco_matrix_b70=[]\n",
    "for i in range(len(pd_b50)):\n",
    "    reco_matrix_b70.append(np.array(pd_b50.iloc[i][1:]))\n",
    "from HitRation import HitRatio\n",
    "hr=HitRatio(10)\n",
    "alist=[]\n",
    "sum_hr=0\n",
    "for u in range(reco_matrix[0].shape[0]):\n",
    "    x=hr.compute(all_users_tp[u],reco_matrix_b70[u])\n",
    "    # alist.append(x)\n",
    "    sum_hr=sum_hr+x\n",
    "    # print(x)\n",
    "hrb70=sum_hr/reco_matrix[0].shape[0]\n",
    "hrb70\n",
    "    \n",
    "# reco_matrix_l49b49"
   ]
  },
  {
   "cell_type": "code",
   "execution_count": 7,
   "metadata": {},
   "outputs": [
    {
     "data": {
      "text/html": [
       "<div>\n",
       "<style scoped>\n",
       "    .dataframe tbody tr th:only-of-type {\n",
       "        vertical-align: middle;\n",
       "    }\n",
       "\n",
       "    .dataframe tbody tr th {\n",
       "        vertical-align: top;\n",
       "    }\n",
       "\n",
       "    .dataframe thead th {\n",
       "        text-align: right;\n",
       "    }\n",
       "</style>\n",
       "<table border=\"1\" class=\"dataframe\">\n",
       "  <thead>\n",
       "    <tr style=\"text-align: right;\">\n",
       "      <th></th>\n",
       "      <th>user_id</th>\n",
       "      <th>Age</th>\n",
       "      <th>Gender</th>\n",
       "      <th>Occupation</th>\n",
       "      <th>ZipCode</th>\n",
       "      <th>userID</th>\n",
       "      <th>Occupation_Code</th>\n",
       "    </tr>\n",
       "  </thead>\n",
       "  <tbody>\n",
       "    <tr>\n",
       "      <th>195</th>\n",
       "      <td>196</td>\n",
       "      <td>49</td>\n",
       "      <td>0</td>\n",
       "      <td>writer</td>\n",
       "      <td>55105</td>\n",
       "      <td>0</td>\n",
       "      <td>20</td>\n",
       "    </tr>\n",
       "    <tr>\n",
       "      <th>185</th>\n",
       "      <td>186</td>\n",
       "      <td>39</td>\n",
       "      <td>1</td>\n",
       "      <td>executive</td>\n",
       "      <td>00000</td>\n",
       "      <td>1</td>\n",
       "      <td>6</td>\n",
       "    </tr>\n",
       "    <tr>\n",
       "      <th>21</th>\n",
       "      <td>22</td>\n",
       "      <td>25</td>\n",
       "      <td>0</td>\n",
       "      <td>writer</td>\n",
       "      <td>40206</td>\n",
       "      <td>2</td>\n",
       "      <td>20</td>\n",
       "    </tr>\n",
       "    <tr>\n",
       "      <th>243</th>\n",
       "      <td>244</td>\n",
       "      <td>28</td>\n",
       "      <td>0</td>\n",
       "      <td>technician</td>\n",
       "      <td>80525</td>\n",
       "      <td>3</td>\n",
       "      <td>19</td>\n",
       "    </tr>\n",
       "    <tr>\n",
       "      <th>165</th>\n",
       "      <td>166</td>\n",
       "      <td>47</td>\n",
       "      <td>0</td>\n",
       "      <td>educator</td>\n",
       "      <td>55113</td>\n",
       "      <td>4</td>\n",
       "      <td>3</td>\n",
       "    </tr>\n",
       "    <tr>\n",
       "      <th>...</th>\n",
       "      <td>...</td>\n",
       "      <td>...</td>\n",
       "      <td>...</td>\n",
       "      <td>...</td>\n",
       "      <td>...</td>\n",
       "      <td>...</td>\n",
       "      <td>...</td>\n",
       "    </tr>\n",
       "    <tr>\n",
       "      <th>938</th>\n",
       "      <td>939</td>\n",
       "      <td>26</td>\n",
       "      <td>1</td>\n",
       "      <td>student</td>\n",
       "      <td>33319</td>\n",
       "      <td>938</td>\n",
       "      <td>18</td>\n",
       "    </tr>\n",
       "    <tr>\n",
       "      <th>935</th>\n",
       "      <td>936</td>\n",
       "      <td>24</td>\n",
       "      <td>0</td>\n",
       "      <td>other</td>\n",
       "      <td>32789</td>\n",
       "      <td>939</td>\n",
       "      <td>13</td>\n",
       "    </tr>\n",
       "    <tr>\n",
       "      <th>929</th>\n",
       "      <td>930</td>\n",
       "      <td>28</td>\n",
       "      <td>1</td>\n",
       "      <td>scientist</td>\n",
       "      <td>07310</td>\n",
       "      <td>940</td>\n",
       "      <td>17</td>\n",
       "    </tr>\n",
       "    <tr>\n",
       "      <th>919</th>\n",
       "      <td>920</td>\n",
       "      <td>30</td>\n",
       "      <td>1</td>\n",
       "      <td>artist</td>\n",
       "      <td>90008</td>\n",
       "      <td>941</td>\n",
       "      <td>1</td>\n",
       "    </tr>\n",
       "    <tr>\n",
       "      <th>940</th>\n",
       "      <td>941</td>\n",
       "      <td>20</td>\n",
       "      <td>0</td>\n",
       "      <td>student</td>\n",
       "      <td>97229</td>\n",
       "      <td>942</td>\n",
       "      <td>18</td>\n",
       "    </tr>\n",
       "  </tbody>\n",
       "</table>\n",
       "<p>943 rows × 7 columns</p>\n",
       "</div>"
      ],
      "text/plain": [
       "     user_id  Age  Gender  Occupation ZipCode  userID  Occupation_Code\n",
       "195      196   49       0      writer   55105       0               20\n",
       "185      186   39       1   executive   00000       1                6\n",
       "21        22   25       0      writer   40206       2               20\n",
       "243      244   28       0  technician   80525       3               19\n",
       "165      166   47       0    educator   55113       4                3\n",
       "..       ...  ...     ...         ...     ...     ...              ...\n",
       "938      939   26       1     student   33319     938               18\n",
       "935      936   24       0       other   32789     939               13\n",
       "929      930   28       1   scientist   07310     940               17\n",
       "919      920   30       1      artist   90008     941                1\n",
       "940      941   20       0     student   97229     942               18\n",
       "\n",
       "[943 rows x 7 columns]"
      ]
     },
     "execution_count": 7,
     "metadata": {},
     "output_type": "execute_result"
    }
   ],
   "source": [
    "movies = pd.read_csv(\n",
    "    \"../data/ml-100K/i_id_mapping_genre.csv\",\n",
    "    sep=\"\\t\",\n",
    "    names=[\n",
    "        \"item_id\",\n",
    "        \"Name\",\n",
    "        \"genres\",\n",
    "        \"itemID\"\n",
    "    ],\n",
    "    header=0,\n",
    "    # encoding=\"latin-1\",\n",
    ")\n",
    "movies = movies.drop(columns=[\"item_id\"])\n",
    "movies = movies.sort_values(by=\"itemID\")\n",
    "unique_genres = [\n",
    "    \"Action\",\n",
    "    \"Thriller\",\n",
    "    \"Romance\",\n",
    "    \"Western\",\n",
    "    \"Children's\",\n",
    "    \"Mystery\",\n",
    "    \"Fantasy\",\n",
    "    \"Film-Noir\",\n",
    "    \"Documentary\",\n",
    "    \"Comedy\",\n",
    "    \"Adventure\",\n",
    "    \"Sci-Fi\",\n",
    "    \"Horror\",\n",
    "    \"Crime\",\n",
    "    \"Musical\",\n",
    "    \"War\",\n",
    "    \"Animation\",\n",
    "    \"Drama\",\n",
    "]\n",
    "for genre in unique_genres:\n",
    "    movies[genre] = 0\n",
    "    \n",
    "for index, row in movies.iterrows():\n",
    "    if row[\"itemID\"]!=793:\n",
    "        genres = row[\"genres\"].split(\"|\")\n",
    "    else:\n",
    "        genres=\"\"\n",
    "    for genre in genres:\n",
    "        movies.at[index, genre] = 1\n",
    "\n",
    "\n",
    "movies\n",
    "\n",
    "users = pd.read_csv(\"../data/ml-100k/u_id_mapping_demographic_.csv\", sep=\"\\t\")\n",
    "users = users.sort_values(by=\"userID\")\n",
    "\n",
    "# users = users.drop(columns=users.columns[0])\n",
    "gender_map = {\"M\": 0, \"F\": 1}\n",
    "users[\"Gender\"] = users[\"Gender\"].map(gender_map)\n",
    "user_features_numpy = users.to_numpy()\n",
    "users\n",
    "\n"
   ]
  },
  {
   "cell_type": "code",
   "execution_count": 20,
   "metadata": {},
   "outputs": [],
   "source": [
    "import os\n",
    "os.chdir(\"/Users/tahsinalamgirkheya/Desktop/work/reranking_fairnes\")\n"
   ]
  },
  {
   "cell_type": "code",
   "execution_count": 9,
   "metadata": {},
   "outputs": [],
   "source": [
    "from mymetrics.GenrePrecisionMulti import GenrePrecisionMulti\n",
    "####Import Metrics####\n",
    "# from mymetrics.GenrePrecision import GenrePrecision\n",
    "\n",
    "top_k = 10\n",
    "###intialize them\n",
    "gp = GenrePrecisionMulti(users, unique_genres, top_k)"
   ]
  },
  {
   "cell_type": "code",
   "execution_count": 16,
   "metadata": {},
   "outputs": [],
   "source": [
    "gp_plain = gp.compute(reco_matrix[0], movies, \"Occupation_Code\")"
   ]
  },
  {
   "cell_type": "code",
   "execution_count": 17,
   "metadata": {},
   "outputs": [
    {
     "data": {
      "text/plain": [
       "(0.22287142582228225,\n",
       " array([0.02249289, 0.01224595, 0.01370577, 0.00650847, 0.00409774,\n",
       "        0.00828266, 0.00106846, 0.00648368, 0.00751913, 0.01862701,\n",
       "        0.01360148, 0.01480981, 0.00841938, 0.01170088, 0.00766703,\n",
       "        0.00969734, 0.01159488, 0.04434886]))"
      ]
     },
     "execution_count": 17,
     "metadata": {},
     "output_type": "execute_result"
    }
   ],
   "source": [
    "gp_plain"
   ]
  },
  {
   "cell_type": "code",
   "execution_count": 22,
   "metadata": {},
   "outputs": [
    {
     "data": {
      "text/plain": [
       "0.24390243902439024"
      ]
     },
     "execution_count": 22,
     "metadata": {},
     "output_type": "execute_result"
    }
   ],
   "source": [
    "# pd_l49b49= pd.read_csv(\"../results/res_top10l49b49.csv\",sep=\",\",)\n",
    "pd_b50_occ= pd.read_csv(\"results/greedy/occupation/res_top10_b50.csv\",sep=\",\",)\n",
    "# results/greedy/occupation/res_top10_b50.csv\n",
    "    # header=None,\n",
    "    # names=[\"userID\", \"itemID\", \"Rating\"],)\n",
    "reco_matrix_b50=[]\n",
    "for i in range(len(pd_b50_occ)):\n",
    "    reco_matrix_b50.append(np.array(pd_b50_occ.iloc[i][1:]))\n",
    "os.chdir(\"/Users/tahsinalamgirkheya/Desktop/work/reranking_fairnes/metrics\")\n",
    "    \n",
    "from HitRation import HitRatio\n",
    "hr=HitRatio(10)\n",
    "alist=[]\n",
    "sum_hr=0\n",
    "for u in range(reco_matrix[0].shape[0]):\n",
    "    x=hr.compute(all_users_tp[u],reco_matrix_b50[u])\n",
    "    # alist.append(x)\n",
    "    sum_hr=sum_hr+x\n",
    "    # print(x)\n",
    "hrb50=sum_hr/reco_matrix[0].shape[0]\n",
    "hrb50\n",
    "    \n",
    "# reco_matrix_l49b49"
   ]
  },
  {
   "cell_type": "code",
   "execution_count": 25,
   "metadata": {},
   "outputs": [
    {
     "data": {
      "text/plain": [
       "array([[ 704,  161,  189, ...,  619,  862,  157],\n",
       "       [ 843,  474,  745, ...,  785,  110,  918],\n",
       "       [ 693,  371,  357, ...,    1,  101,  367],\n",
       "       ...,\n",
       "       [ 234,  857,  636, ...,  750,  564, 1184],\n",
       "       [ 132,  747,  299, ...,  929,  665,  650],\n",
       "       [1282,  106,   30, ...,  741, 1169,  797]])"
      ]
     },
     "execution_count": 25,
     "metadata": {},
     "output_type": "execute_result"
    }
   ],
   "source": [
    "np.array(reco_matrix_b50)"
   ]
  },
  {
   "cell_type": "code",
   "execution_count": 26,
   "metadata": {},
   "outputs": [
    {
     "data": {
      "text/plain": [
       "(0.09098343652802901,\n",
       " array([0.00688517, 0.00932803, 0.00759162, 0.00186737, 0.00426533,\n",
       "        0.00464397, 0.00133811, 0.00377488, 0.00090177, 0.0069845 ,\n",
       "        0.00533045, 0.00557802, 0.00737675, 0.00548107, 0.0048791 ,\n",
       "        0.00474414, 0.0025142 , 0.00749897]))"
      ]
     },
     "execution_count": 26,
     "metadata": {},
     "output_type": "execute_result"
    }
   ],
   "source": [
    "gp_new = gp.compute(np.array(reco_matrix_b50), movies, \"Occupation_Code\")\n",
    "gp_new"
   ]
  },
  {
   "cell_type": "code",
   "execution_count": 33,
   "metadata": {},
   "outputs": [
    {
     "data": {
      "text/plain": [
       "0.05297980792010644"
      ]
     },
     "execution_count": 33,
     "metadata": {},
     "output_type": "execute_result"
    }
   ],
   "source": [
    "gp_2 = gp.compute(np.array(reco_matrix_b70),movies)\n",
    "sum(abs(gp_2))"
   ]
  },
  {
   "cell_type": "code",
   "execution_count": 24,
   "metadata": {},
   "outputs": [
    {
     "data": {
      "text/plain": [
       "0.05702796356030189"
      ]
     },
     "execution_count": 24,
     "metadata": {},
     "output_type": "execute_result"
    }
   ],
   "source": [
    "gp_3 = gp.compute(np.array(reco_matrix_l69b29),movies)\n",
    "sum(abs(gp_3))"
   ]
  },
  {
   "cell_type": "code",
   "execution_count": 25,
   "metadata": {},
   "outputs": [],
   "source": [
    "#printitng results nicely\n",
    "\n"
   ]
  },
  {
   "cell_type": "code",
   "execution_count": 64,
   "metadata": {},
   "outputs": [
    {
     "name": "stdout",
     "output_type": "stream",
     "text": [
      "++++++++++++++++++++++++++++++++++++++++++++++++++\n",
      "for equation \n",
      " (1 - l - b) * sum of scores for selected items (reco)\n",
      " - l * kl div of past genre prop x reco genre prop\n",
      " - b * kl div of past gender genre prop x reco genre prop)\n",
      "++++++++++++++++++++++++++++++++++++++++++++++++++\n",
      "             l=.29 b=.69     l=.49 b=.49     l=.69 b=.29     plain          \n",
      "--------------------------------------------------\n",
      "Hitratio@10  0.2609          0.2704          0.3086          0.3595         \n",
      "Gender Bias  0.0301          0.0298          0.057           0.1561         \n",
      "++++++++++++++++++++++++++++++++++++++++++++++++++\n",
      "for equation \n",
      " (1 - l - b) * sum of scores for selected items (reco)\n",
      " - l * kl div of past genre prop x reco genre prop\n",
      " - b * kl div of recommended gender genre prop x reco genre prop)\n",
      "++++++++++++++++++++++++++++++++++++++++++++++++++\n",
      "             l=.49 b=.49     l=.69 b=.29     l=.29 b=.29     plain           \n",
      "--------------------------------------------------\n",
      "Hitratio@10  0.2407          0.2428          0.2715          0.3595          \n",
      "Gender Bias  0.0244          0.0504          0.0935          0.1561          \n"
     ]
    }
   ],
   "source": [
    "print(\"+\"*50)\n",
    "print(\"for equation \\n (1 - l - b) * sum of scores for selected items (reco)\\n - l * kl div of past genre prop x reco genre prop\\n - b * kl div of past gender genre prop x reco genre prop)\")\n",
    "print(\"+\"*50)\n",
    "data = [\n",
    "    [\"      \",\"l=.29 b=.69\", \"l=.49 b=.49\" , \"l=.69 b=.29\" ,\"plain\"], \n",
    "    [\"Hitratio@10\",  round(hrl29b69,4),round(hrl49b49,4), round(hrl69b29,4),round(plain_hr,4)],                              \n",
    "    [\"Gender Bias\", round(sum(abs(gp_1)),4),round(sum(abs(gp_2)),4),round(sum(abs(gp_3)),4), 0.1561],                         \n",
    "]\n",
    "\n",
    "\n",
    "print(\"{:<12} {:<15} {:<15} {:<15} {:<15}\".format(*data[0]))  \n",
    "print(\"-\" * 50)                                      \n",
    "for row in data[1:]:                                \n",
    "    print(\"{:<12} {:<15} {:<15} {:<15} {:<15}\".format(*row))\n",
    "    \n",
    "print(\"+\"*50)\n",
    "print(\"for equation \\n (1 - l - b) * sum of scores for selected items (reco)\\n - l * kl div of past genre prop x reco genre prop\\n - b * kl div of recommended gender genre prop x reco genre prop)\")\n",
    "print(\"+\"*50)\n",
    "data = [\n",
    "    [\"      \", \"l=.49 b=.49\" , \"l=.69 b=.29\" , \"l=.29 b=.29\" ,\"plain\"], \n",
    "    [\"Hitratio@10\",round(hr_recol49b49,4), round(hr_recol69b29,4),round(hr_recol29b29,4),round(plain_hr,4)],                              \n",
    "    [\"Gender Bias\",round(sum(abs(gp_reco_1)),4),round(sum(abs(gp_reco_2)),4),round(sum(abs(gp_reco_3)),4), 0.1561],                         \n",
    "]\n",
    "\n",
    "\n",
    "print(\"{:<12} {:<15} {:<15} {:<15} {:<15} \".format(*data[0]))  \n",
    "print(\"-\" * 50)                                      \n",
    "for row in data[1:]:                                \n",
    "    print(\"{:<12} {:<15} {:<15} {:<15} {:<15} \".format(*row))\n",
    "\n"
   ]
  },
  {
   "cell_type": "code",
   "execution_count": 29,
   "metadata": {},
   "outputs": [],
   "source": [
    "import os\n",
    "os.chdir(\"/Users/tahsinalamgirkheya/Desktop/work/reranking_fairnes/metrics\")\n"
   ]
  },
  {
   "cell_type": "code",
   "execution_count": 32,
   "metadata": {},
   "outputs": [],
   "source": [
    "pdreco_l49b49= pd.read_csv(\"../results/reco_dist_gender/res_top10l49b49.csv\",sep=\",\",)\n",
    "    # header=None,\n",
    "    # names=[\"userID\", \"itemID\", \"Rating\"],)\n",
    "reco_matrix_reco_l49b49=[]\n",
    "for i in range(len(pdreco_l49b49)):\n",
    "    reco_matrix_reco_l49b49.append(np.array(pdreco_l49b49.iloc[i][1:]))\n",
    "    \n",
    "# reco_matrix_l49b49"
   ]
  },
  {
   "cell_type": "code",
   "execution_count": 35,
   "metadata": {},
   "outputs": [
    {
     "data": {
      "text/plain": [
       "0.24072110286320256"
      ]
     },
     "execution_count": 35,
     "metadata": {},
     "output_type": "execute_result"
    }
   ],
   "source": [
    "\n",
    "hr=HitRatio(10)\n",
    "alist=[]\n",
    "sum_hr=0\n",
    "for u in range(reco_matrix[0].shape[0]):\n",
    "    x=hr.compute(all_users_tp[u],reco_matrix_reco_l49b49[u])\n",
    "    # alist.append(x)\n",
    "    sum_hr=sum_hr+x\n",
    "    # print(x)\n",
    "hr_recol49b49=sum_hr/reco_matrix[0].shape[0]\n",
    "hr_recol49b49\n",
    "    "
   ]
  },
  {
   "cell_type": "code",
   "execution_count": 37,
   "metadata": {},
   "outputs": [
    {
     "data": {
      "text/plain": [
       "0.024419404807464518"
      ]
     },
     "execution_count": 37,
     "metadata": {},
     "output_type": "execute_result"
    }
   ],
   "source": [
    "gp_reco_1 = gp.compute(np.array(reco_matrix_reco_l49b49),movies)\n",
    "sum(abs(gp_reco_1))"
   ]
  },
  {
   "cell_type": "code",
   "execution_count": 43,
   "metadata": {},
   "outputs": [],
   "source": [
    "pdreco_l69b29= pd.read_csv(\"../results/reco_dist_gender/res_topl69b29.csv\",sep=\",\",)\n",
    "    # header=None,\n",
    "    # names=[\"userID\", \"itemID\", \"Rating\"],)\n",
    "reco_matrix_reco_l69b29=[]\n",
    "for i in range(len(pdreco_l49b49)):\n",
    "    reco_matrix_reco_l69b29.append(np.array(pdreco_l69b29.iloc[i][1:]))\n",
    "    \n",
    "# reco_matrix_l49b49"
   ]
  },
  {
   "cell_type": "code",
   "execution_count": 44,
   "metadata": {},
   "outputs": [
    {
     "data": {
      "text/plain": [
       "0.24284199363732767"
      ]
     },
     "execution_count": 44,
     "metadata": {},
     "output_type": "execute_result"
    }
   ],
   "source": [
    "\n",
    "hr=HitRatio(10)\n",
    "alist=[]\n",
    "sum_hr=0\n",
    "for u in range(reco_matrix[0].shape[0]):\n",
    "    x=hr.compute(all_users_tp[u],reco_matrix_reco_l69b29[u])\n",
    "    # alist.append(x)\n",
    "    sum_hr=sum_hr+x\n",
    "    # print(x)\n",
    "hr_recol69b29=sum_hr/reco_matrix[0].shape[0]\n",
    "hr_recol69b29\n",
    "    "
   ]
  },
  {
   "cell_type": "code",
   "execution_count": 61,
   "metadata": {},
   "outputs": [
    {
     "data": {
      "text/plain": [
       "0.05035359628394449"
      ]
     },
     "execution_count": 61,
     "metadata": {},
     "output_type": "execute_result"
    }
   ],
   "source": [
    "gp_reco_2 = gp.compute(np.array(reco_matrix_reco_l69b29),movies)\n",
    "sum(abs(gp_reco_2))"
   ]
  },
  {
   "cell_type": "code",
   "execution_count": 49,
   "metadata": {},
   "outputs": [
    {
     "data": {
      "text/plain": [
       "'/Users/tahsinalamgirkheya/Desktop/work/reranking_fairnes/metrics'"
      ]
     },
     "execution_count": 49,
     "metadata": {},
     "output_type": "execute_result"
    }
   ],
   "source": [
    "pwd"
   ]
  },
  {
   "cell_type": "code",
   "execution_count": 50,
   "metadata": {},
   "outputs": [],
   "source": [
    "pdreco_l29b29= pd.read_csv(\"../results/reco_dist_gender/res_top10l29b29.csv\",sep=\",\",)\n",
    "    # header=None,\n",
    "    # names=[\"userID\", \"itemID\", \"Rating\"],)\n",
    "reco_matrix_reco_l29b29=[]\n",
    "for i in range(len(pdreco_l29b29)):\n",
    "    reco_matrix_reco_l29b29.append(np.array(pdreco_l29b29.iloc[i][1:]))\n",
    "    \n",
    "# reco_matrix_l49b49"
   ]
  },
  {
   "cell_type": "code",
   "execution_count": 51,
   "metadata": {},
   "outputs": [
    {
     "data": {
      "text/plain": [
       "0.271474019088017"
      ]
     },
     "execution_count": 51,
     "metadata": {},
     "output_type": "execute_result"
    }
   ],
   "source": [
    "\n",
    "hr=HitRatio(10)\n",
    "alist=[]\n",
    "sum_hr=0\n",
    "for u in range(reco_matrix[0].shape[0]):\n",
    "    x=hr.compute(all_users_tp[u],reco_matrix_reco_l29b29[u])\n",
    "    # alist.append(x)\n",
    "    sum_hr=sum_hr+x\n",
    "    # print(x)\n",
    "hr_recol29b29=sum_hr/reco_matrix[0].shape[0]\n",
    "hr_recol29b29\n",
    "    "
   ]
  },
  {
   "cell_type": "code",
   "execution_count": 53,
   "metadata": {},
   "outputs": [
    {
     "data": {
      "text/plain": [
       "0.09345367383675837"
      ]
     },
     "execution_count": 53,
     "metadata": {},
     "output_type": "execute_result"
    }
   ],
   "source": [
    "gp_reco_3 = gp.compute(np.array(reco_matrix_reco_l29b29),movies)\n",
    "sum(abs(gp_reco_3))"
   ]
  },
  {
   "cell_type": "code",
   "execution_count": 56,
   "metadata": {},
   "outputs": [],
   "source": [
    "pdreco_l29b69= pd.read_csv(\"../results/reco_dist_gender/res_top10l29b69.csv\",sep=\",\",)\n",
    "    # header=None,\n",
    "    # names=[\"userID\", \"itemID\", \"Rating\"],)\n",
    "reco_matrix_reco_l29b69=[]\n",
    "for i in range(len(pdreco_l29b69)):\n",
    "    reco_matrix_reco_l29b69.append(np.array(pdreco_l29b69.iloc[i][1:]))\n",
    "    \n",
    "# reco_matrix_l49b49"
   ]
  },
  {
   "cell_type": "code",
   "execution_count": 57,
   "metadata": {},
   "outputs": [
    {
     "data": {
      "text/plain": [
       "0.22269353128313893"
      ]
     },
     "execution_count": 57,
     "metadata": {},
     "output_type": "execute_result"
    }
   ],
   "source": [
    "\n",
    "hr=HitRatio(10)\n",
    "alist=[]\n",
    "sum_hr=0\n",
    "for u in range(reco_matrix[0].shape[0]):\n",
    "    x=hr.compute(all_users_tp[u],reco_matrix_reco_l29b69[u])\n",
    "    # alist.append(x)\n",
    "    sum_hr=sum_hr+x\n",
    "    # print(x)\n",
    "hr_recol29b69=sum_hr/reco_matrix[0].shape[0]\n",
    "hr_recol29b69\n",
    "    "
   ]
  },
  {
   "cell_type": "code",
   "execution_count": 58,
   "metadata": {},
   "outputs": [
    {
     "data": {
      "text/plain": [
       "0.04324718491385155"
      ]
     },
     "execution_count": 58,
     "metadata": {},
     "output_type": "execute_result"
    }
   ],
   "source": [
    "gp_reco_4 = gp.compute(np.array(reco_matrix_reco_l29b69),movies)\n",
    "sum(abs(gp_reco_4))"
   ]
  },
  {
   "cell_type": "code",
   "execution_count": 27,
   "metadata": {},
   "outputs": [
    {
     "data": {
      "text/plain": [
       "0.24637326066188947"
      ]
     },
     "execution_count": 27,
     "metadata": {},
     "output_type": "execute_result"
    }
   ],
   "source": [
    "# sum score 3.3451600074768066 fairness -67.75200665458023 \n",
    "\n",
    "(3.3451600074768066-2.2533798217773438)/4.4314069747924805"
   ]
  },
  {
   "cell_type": "code",
   "execution_count": 31,
   "metadata": {},
   "outputs": [
    {
     "data": {
      "text/plain": [
       "-0.07747113568487185"
      ]
     },
     "execution_count": 31,
     "metadata": {},
     "output_type": "execute_result"
    }
   ],
   "source": [
    "(-67.75200665458023--72.5915433343418)/ -62.46890066833761"
   ]
  },
  {
   "cell_type": "code",
   "execution_count": 32,
   "metadata": {},
   "outputs": [
    {
     "data": {
      "text/plain": [
       "0.08445106248850881"
      ]
     },
     "execution_count": 32,
     "metadata": {},
     "output_type": "execute_result"
    }
   ],
   "source": [
    "0.5*0.24637326066188947 -0.5*0.07747113568487185"
   ]
  },
  {
   "cell_type": "code",
   "execution_count": null,
   "metadata": {},
   "outputs": [],
   "source": [
    "score 0.24637326066188947 ft -0.07747113568487185"
   ]
  }
 ],
 "metadata": {
  "kernelspec": {
   "display_name": "bbmrec",
   "language": "python",
   "name": "python3"
  },
  "language_info": {
   "codemirror_mode": {
    "name": "ipython",
    "version": 3
   },
   "file_extension": ".py",
   "mimetype": "text/x-python",
   "name": "python",
   "nbconvert_exporter": "python",
   "pygments_lexer": "ipython3",
   "version": "3.11.9"
  }
 },
 "nbformat": 4,
 "nbformat_minor": 2
}
