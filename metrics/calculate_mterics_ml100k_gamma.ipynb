{
 "cells": [
  {
   "cell_type": "code",
   "execution_count": 1,
   "metadata": {},
   "outputs": [],
   "source": [
    "import numpy as np\n",
    "import pandas as pd\n",
    "import matplotlib.pyplot as plt"
   ]
  },
  {
   "cell_type": "code",
   "execution_count": 2,
   "metadata": {},
   "outputs": [
    {
     "data": {
      "text/html": [
       "<div>\n",
       "<style scoped>\n",
       "    .dataframe tbody tr th:only-of-type {\n",
       "        vertical-align: middle;\n",
       "    }\n",
       "\n",
       "    .dataframe tbody tr th {\n",
       "        vertical-align: top;\n",
       "    }\n",
       "\n",
       "    .dataframe thead th {\n",
       "        text-align: right;\n",
       "    }\n",
       "</style>\n",
       "<table border=\"1\" class=\"dataframe\">\n",
       "  <thead>\n",
       "    <tr style=\"text-align: right;\">\n",
       "      <th></th>\n",
       "      <th>userID</th>\n",
       "      <th>itemID</th>\n",
       "      <th>Rating</th>\n",
       "    </tr>\n",
       "  </thead>\n",
       "  <tbody>\n",
       "    <tr>\n",
       "      <th>0</th>\n",
       "      <td>101</td>\n",
       "      <td>450</td>\n",
       "      <td>4</td>\n",
       "    </tr>\n",
       "    <tr>\n",
       "      <th>1</th>\n",
       "      <td>101</td>\n",
       "      <td>365</td>\n",
       "      <td>2</td>\n",
       "    </tr>\n",
       "    <tr>\n",
       "      <th>2</th>\n",
       "      <td>101</td>\n",
       "      <td>285</td>\n",
       "      <td>4</td>\n",
       "    </tr>\n",
       "    <tr>\n",
       "      <th>3</th>\n",
       "      <td>101</td>\n",
       "      <td>310</td>\n",
       "      <td>3</td>\n",
       "    </tr>\n",
       "    <tr>\n",
       "      <th>4</th>\n",
       "      <td>101</td>\n",
       "      <td>460</td>\n",
       "      <td>4</td>\n",
       "    </tr>\n",
       "    <tr>\n",
       "      <th>...</th>\n",
       "      <td>...</td>\n",
       "      <td>...</td>\n",
       "      <td>...</td>\n",
       "    </tr>\n",
       "    <tr>\n",
       "      <th>20234</th>\n",
       "      <td>724</td>\n",
       "      <td>710</td>\n",
       "      <td>3</td>\n",
       "    </tr>\n",
       "    <tr>\n",
       "      <th>20235</th>\n",
       "      <td>724</td>\n",
       "      <td>130</td>\n",
       "      <td>4</td>\n",
       "    </tr>\n",
       "    <tr>\n",
       "      <th>20236</th>\n",
       "      <td>724</td>\n",
       "      <td>280</td>\n",
       "      <td>4</td>\n",
       "    </tr>\n",
       "    <tr>\n",
       "      <th>20237</th>\n",
       "      <td>724</td>\n",
       "      <td>175</td>\n",
       "      <td>4</td>\n",
       "    </tr>\n",
       "    <tr>\n",
       "      <th>20238</th>\n",
       "      <td>724</td>\n",
       "      <td>645</td>\n",
       "      <td>4</td>\n",
       "    </tr>\n",
       "  </tbody>\n",
       "</table>\n",
       "<p>20239 rows × 3 columns</p>\n",
       "</div>"
      ],
      "text/plain": [
       "       userID  itemID  Rating\n",
       "0         101     450       4\n",
       "1         101     365       2\n",
       "2         101     285       4\n",
       "3         101     310       3\n",
       "4         101     460       4\n",
       "...       ...     ...     ...\n",
       "20234     724     710       3\n",
       "20235     724     130       4\n",
       "20236     724     280       4\n",
       "20237     724     175       4\n",
       "20238     724     645       4\n",
       "\n",
       "[20239 rows x 3 columns]"
      ]
     },
     "execution_count": 2,
     "metadata": {},
     "output_type": "execute_result"
    }
   ],
   "source": [
    "test_set = pd.read_csv(\"../data/ml-100K/testing_set_seed123_ml100k.csv\",sep=\",\",\n",
    "    header=None,\n",
    "    names=[\"userID\", \"itemID\", \"Rating\"],)\n",
    "test_set\n"
   ]
  },
  {
   "cell_type": "code",
   "execution_count": 3,
   "metadata": {},
   "outputs": [
    {
     "data": {
      "text/plain": [
       "943"
      ]
     },
     "execution_count": 3,
     "metadata": {},
     "output_type": "execute_result"
    }
   ],
   "source": [
    "all_users_tp = test_set.groupby('userID')['itemID'].apply(list).tolist()\n",
    "all_users_tp.__len__()"
   ]
  },
  {
   "cell_type": "code",
   "execution_count": 4,
   "metadata": {},
   "outputs": [],
   "source": [
    "\n",
    "mf = \"model_reco/mf/reco_matrix_mf_100k_100.npy\"\n",
    "neumf = \"model_reco/neumf/reco_matrix_neumf_100k_100.npy\"\n",
    "wmf = \"model_reco/wmf/reco_matrix_wmf_100k_100.npy\"\n",
    "vaecf =\"model_reco/vaecf/reco_matrix_vaecf_ml100k_100.npy\"\n",
    "reco_matrix = np.load(f\"../{neumf}\")"
   ]
  },
  {
   "cell_type": "code",
   "execution_count": 5,
   "metadata": {},
   "outputs": [
    {
     "data": {
      "text/plain": [
       "(1, 943, 100)"
      ]
     },
     "execution_count": 5,
     "metadata": {},
     "output_type": "execute_result"
    }
   ],
   "source": [
    "reco_matrix.shape"
   ]
  },
  {
   "cell_type": "code",
   "execution_count": 6,
   "metadata": {},
   "outputs": [],
   "source": [
    "reco_matrix = reco_matrix[0]"
   ]
  },
  {
   "cell_type": "code",
   "execution_count": 7,
   "metadata": {},
   "outputs": [
    {
     "name": "stderr",
     "output_type": "stream",
     "text": [
      "/Users/tahsinalamgirkheya/anaconda3/envs/re-ranking/lib/python3.11/site-packages/tqdm/auto.py:21: TqdmWarning: IProgress not found. Please update jupyter and ipywidgets. See https://ipywidgets.readthedocs.io/en/stable/user_install.html\n",
      "  from .autonotebook import tqdm as notebook_tqdm\n"
     ]
    },
    {
     "data": {
      "text/plain": [
       "0.5440084835630965"
      ]
     },
     "execution_count": 7,
     "metadata": {},
     "output_type": "execute_result"
    }
   ],
   "source": [
    "\n",
    "from cornac.metrics import RMSE, AUC, NDCG, Precision, Recall,HitRatio\n",
    "\n",
    "hr=HitRatio(20)\n",
    "alist=[]\n",
    "sum_hr=0\n",
    "for u in range(reco_matrix.shape[0]):\n",
    "    x=hr.compute(all_users_tp[u],reco_matrix[u][:20])\n",
    "    # print(f\"x {x} tp {all_users_tp[u]} reco {reco_matrix[u][:20]}\")\n",
    "    # alist.append(x)\n",
    "    sum_hr=sum_hr+x\n",
    "    # print(x)\n",
    "plain_hr=sum_hr/reco_matrix.shape[0]\n",
    "\n",
    "plain_hr\n",
    "# 0.5387062566277837\n",
    "#0.5440084835630965\n"
   ]
  },
  {
   "cell_type": "code",
   "execution_count": 8,
   "metadata": {},
   "outputs": [
    {
     "data": {
      "text/plain": [
       "0.07081361476373901"
      ]
     },
     "execution_count": 8,
     "metadata": {},
     "output_type": "execute_result"
    }
   ],
   "source": [
    "# from NDCG import NDCG\n",
    "ndcg=NDCG(20)\n",
    "alist=[]\n",
    "sum_ndcg=0\n",
    "for u in range(reco_matrix.shape[0]):\n",
    "    x=ndcg.compute(all_users_tp[u],reco_matrix[u][:20])\n",
    "    \n",
    "    # print(f\"x {x} tp {all_users_tp[u]} reco {reco_matrix[u][:20]}\")\n",
    "    # alist.append(x)\n",
    "    sum_ndcg=sum_ndcg+x\n",
    "    # print(x)\n",
    "plain_ndcg=sum_ndcg/reco_matrix.shape[0]\n",
    "\n",
    "plain_ndcg\n",
    "# 0.06877010356676778"
   ]
  },
  {
   "cell_type": "code",
   "execution_count": 10,
   "metadata": {},
   "outputs": [],
   "source": [
    "all_pds =[]\n",
    "reco_matrix_fair=[]\n",
    "sens=\"gender\"\n",
    "# model = \"vaecf/new\"\n",
    "model=\"neumf\"\n",
    "# model = \"wmf\"\n",
    "# reco_matrix_fair.append(np.load(f\"../results/vaecf/{sens}_1.npy\"))\n",
    "# reco_matrix_fair.append(np.load(f\"../results/vaecf/{sens}_2.npy\"))\n",
    "# reco_matrix_fair.append(np.load(f\"../results/vaecf/{sens}_3.npy\"))\n",
    "# reco_matrix_fair.append(np.load(f\"../results/vaecf/{sens}_4.npy\"))\n",
    "# reco_matrix_fair.append(np.load(f\"../results/vaecf/{sens}_5.npy\"))\n",
    "# reco_matrix_fair.append(np.load(f\"../results/vaecf/{sens}_6.npy\"))\n",
    "# reco_matrix_fair.append(np.load(f\"../results/vaecf/{sens}_7.npy\"))\n",
    "# reco_matrix_fair.append(np.load(f\"../results/vaecf/{sens}_8.npy\"))\n",
    "# reco_matrix_fair.append(np.load(f\"../results/vaecf/{sens}_9.npy\"))\n",
    "# reco_matrix_fair.append(np.load(f\"../results/vaecf/{sens}_10.npy\"))\n",
    "# all_pds.append(pd.read_csv(\"../results.csv\",sep=\",\",))\n",
    "# all_pds.append(pd.read_csv(\"../results/vaecf/gender_2.csv\",sep=\",\",))\n",
    "# all_pds.append(pd.read_csv(\"../results/vaecf/gender_1.csv\",sep=\",\",))\n",
    "# all_pds.append(pd.read_csv(\"../results/vaecf/gender_2.csv\",sep=\",\",))\n",
    "# all_pds.append(pd.read_csv(\"../results/vaecf/gender_3.csv\",sep=\",\",))\n",
    "all_pds.append(pd.read_csv(f\"../results/{model}/{sens}_1.csv\",sep=\",\",))\n",
    "all_pds.append(pd.read_csv(f\"../results/{model}/{sens}_2.csv\",sep=\",\",))\n",
    "all_pds.append(pd.read_csv(f\"../results/{model}/{sens}_3.csv\",sep=\",\",))\n",
    "all_pds.append(pd.read_csv(f\"../results/{model}/{sens}_4.csv\",sep=\",\",))\n",
    "all_pds.append(pd.read_csv(f\"../results/{model}/{sens}_5.csv\",sep=\",\",))\n",
    "all_pds.append(pd.read_csv(f\"../results/{model}/{sens}_6.csv\",sep=\",\",))\n",
    "all_pds.append(pd.read_csv(f\"../results/{model}/{sens}_7.csv\",sep=\",\",))\n",
    "all_pds.append(pd.read_csv(f\"../results/{model}/{sens}_8.csv\",sep=\",\",))\n",
    "# results/reco_mat_test.npy\n",
    "for j in range(len(all_pds)):\n",
    "    reco_m =[]\n",
    "    for i in range(all_pds[j].__len__()):\n",
    "        reco_m.append(np.array(all_pds[j].iloc[i][1:]))\n",
    "    reco_matrix_fair.append(reco_m)\n",
    "    \n",
    "\n"
   ]
  },
  {
   "cell_type": "code",
   "execution_count": 11,
   "metadata": {},
   "outputs": [
    {
     "data": {
      "text/plain": [
       "[0.5440084835630965,\n",
       " 0.5365853658536586,\n",
       " 0.5312831389183457,\n",
       " 0.5567338282078473,\n",
       " 0.5641569459172853,\n",
       " 0.5482502651113468,\n",
       " 0.5524920466595971,\n",
       " 0.5652173913043478,\n",
       " 0.5790031813361611]"
      ]
     },
     "execution_count": 11,
     "metadata": {},
     "output_type": "execute_result"
    }
   ],
   "source": [
    "\n",
    "hr=HitRatio(20)\n",
    "hrlist=[]\n",
    "for r in reco_matrix_fair:\n",
    "    sum_hr=0\n",
    "    for u in range(reco_matrix.shape[0]):\n",
    "        x=hr.compute(all_users_tp[u],r[u])\n",
    "        sum_hr=sum_hr+x\n",
    "    hr_occ=sum_hr/reco_matrix.shape[0]\n",
    "    hrlist.append(hr_occ)\n",
    "    \n",
    "\n",
    "[plain_hr]+hrlist"
   ]
  },
  {
   "cell_type": "code",
   "execution_count": 12,
   "metadata": {},
   "outputs": [
    {
     "data": {
      "text/plain": [
       "[0.07081361476373901,\n",
       " 0.07015235403358105,\n",
       " 0.06851996383515495,\n",
       " 0.06880143949849878,\n",
       " 0.06769456470934261,\n",
       " 0.0675817464673581,\n",
       " 0.06877662453921332,\n",
       " 0.0683135044837456,\n",
       " 0.06748564967725892]"
      ]
     },
     "execution_count": 12,
     "metadata": {},
     "output_type": "execute_result"
    }
   ],
   "source": [
    "\n",
    "\n",
    "hr=NDCG(20)\n",
    "hrlist=[]\n",
    "for r in reco_matrix_fair:\n",
    "    sum_hr=0\n",
    "    for u in range(reco_matrix.shape[0]):\n",
    "        x=hr.compute(all_users_tp[u],r[u])\n",
    "        sum_hr=sum_hr+x\n",
    "    hr_occ=sum_hr/reco_matrix.shape[0]\n",
    "    hrlist.append(hr_occ)\n",
    "    \n",
    "\n",
    "[plain_ndcg]+hrlist\n"
   ]
  },
  {
   "cell_type": "code",
   "execution_count": 13,
   "metadata": {},
   "outputs": [
    {
     "data": {
      "text/html": [
       "<div>\n",
       "<style scoped>\n",
       "    .dataframe tbody tr th:only-of-type {\n",
       "        vertical-align: middle;\n",
       "    }\n",
       "\n",
       "    .dataframe tbody tr th {\n",
       "        vertical-align: top;\n",
       "    }\n",
       "\n",
       "    .dataframe thead th {\n",
       "        text-align: right;\n",
       "    }\n",
       "</style>\n",
       "<table border=\"1\" class=\"dataframe\">\n",
       "  <thead>\n",
       "    <tr style=\"text-align: right;\">\n",
       "      <th></th>\n",
       "      <th>user_id</th>\n",
       "      <th>Age</th>\n",
       "      <th>Gender</th>\n",
       "      <th>Occupation</th>\n",
       "      <th>ZipCode</th>\n",
       "      <th>userID</th>\n",
       "      <th>Occupation_Code</th>\n",
       "    </tr>\n",
       "  </thead>\n",
       "  <tbody>\n",
       "    <tr>\n",
       "      <th>195</th>\n",
       "      <td>196</td>\n",
       "      <td>49</td>\n",
       "      <td>0</td>\n",
       "      <td>writer</td>\n",
       "      <td>55105</td>\n",
       "      <td>0</td>\n",
       "      <td>20</td>\n",
       "    </tr>\n",
       "    <tr>\n",
       "      <th>185</th>\n",
       "      <td>186</td>\n",
       "      <td>39</td>\n",
       "      <td>1</td>\n",
       "      <td>executive</td>\n",
       "      <td>00000</td>\n",
       "      <td>1</td>\n",
       "      <td>6</td>\n",
       "    </tr>\n",
       "    <tr>\n",
       "      <th>21</th>\n",
       "      <td>22</td>\n",
       "      <td>25</td>\n",
       "      <td>0</td>\n",
       "      <td>writer</td>\n",
       "      <td>40206</td>\n",
       "      <td>2</td>\n",
       "      <td>20</td>\n",
       "    </tr>\n",
       "    <tr>\n",
       "      <th>243</th>\n",
       "      <td>244</td>\n",
       "      <td>28</td>\n",
       "      <td>0</td>\n",
       "      <td>technician</td>\n",
       "      <td>80525</td>\n",
       "      <td>3</td>\n",
       "      <td>19</td>\n",
       "    </tr>\n",
       "    <tr>\n",
       "      <th>165</th>\n",
       "      <td>166</td>\n",
       "      <td>47</td>\n",
       "      <td>0</td>\n",
       "      <td>educator</td>\n",
       "      <td>55113</td>\n",
       "      <td>4</td>\n",
       "      <td>3</td>\n",
       "    </tr>\n",
       "    <tr>\n",
       "      <th>...</th>\n",
       "      <td>...</td>\n",
       "      <td>...</td>\n",
       "      <td>...</td>\n",
       "      <td>...</td>\n",
       "      <td>...</td>\n",
       "      <td>...</td>\n",
       "      <td>...</td>\n",
       "    </tr>\n",
       "    <tr>\n",
       "      <th>938</th>\n",
       "      <td>939</td>\n",
       "      <td>26</td>\n",
       "      <td>1</td>\n",
       "      <td>student</td>\n",
       "      <td>33319</td>\n",
       "      <td>938</td>\n",
       "      <td>18</td>\n",
       "    </tr>\n",
       "    <tr>\n",
       "      <th>935</th>\n",
       "      <td>936</td>\n",
       "      <td>24</td>\n",
       "      <td>0</td>\n",
       "      <td>other</td>\n",
       "      <td>32789</td>\n",
       "      <td>939</td>\n",
       "      <td>13</td>\n",
       "    </tr>\n",
       "    <tr>\n",
       "      <th>929</th>\n",
       "      <td>930</td>\n",
       "      <td>28</td>\n",
       "      <td>1</td>\n",
       "      <td>scientist</td>\n",
       "      <td>07310</td>\n",
       "      <td>940</td>\n",
       "      <td>17</td>\n",
       "    </tr>\n",
       "    <tr>\n",
       "      <th>919</th>\n",
       "      <td>920</td>\n",
       "      <td>30</td>\n",
       "      <td>1</td>\n",
       "      <td>artist</td>\n",
       "      <td>90008</td>\n",
       "      <td>941</td>\n",
       "      <td>1</td>\n",
       "    </tr>\n",
       "    <tr>\n",
       "      <th>940</th>\n",
       "      <td>941</td>\n",
       "      <td>20</td>\n",
       "      <td>0</td>\n",
       "      <td>student</td>\n",
       "      <td>97229</td>\n",
       "      <td>942</td>\n",
       "      <td>18</td>\n",
       "    </tr>\n",
       "  </tbody>\n",
       "</table>\n",
       "<p>943 rows × 7 columns</p>\n",
       "</div>"
      ],
      "text/plain": [
       "     user_id  Age  Gender  Occupation ZipCode  userID  Occupation_Code\n",
       "195      196   49       0      writer   55105       0               20\n",
       "185      186   39       1   executive   00000       1                6\n",
       "21        22   25       0      writer   40206       2               20\n",
       "243      244   28       0  technician   80525       3               19\n",
       "165      166   47       0    educator   55113       4                3\n",
       "..       ...  ...     ...         ...     ...     ...              ...\n",
       "938      939   26       1     student   33319     938               18\n",
       "935      936   24       0       other   32789     939               13\n",
       "929      930   28       1   scientist   07310     940               17\n",
       "919      920   30       1      artist   90008     941                1\n",
       "940      941   20       0     student   97229     942               18\n",
       "\n",
       "[943 rows x 7 columns]"
      ]
     },
     "execution_count": 13,
     "metadata": {},
     "output_type": "execute_result"
    }
   ],
   "source": [
    "movies = pd.read_csv(\n",
    "    \"../data/ml-100K/i_id_mapping_genre.csv\",\n",
    "    sep=\"\\t\",\n",
    "    names=[\n",
    "        \"item_id\",\n",
    "        \"Name\",\n",
    "        \"genres\",\n",
    "        \"itemID\"\n",
    "    ],\n",
    "    header=0,\n",
    "    # encoding=\"latin-1\",\n",
    ")\n",
    "movies = movies.drop(columns=[\"item_id\"])\n",
    "movies = movies.sort_values(by=\"itemID\")\n",
    "unique_genres = [\n",
    "    \"Action\",\n",
    "    \"Thriller\",\n",
    "    \"Romance\",\n",
    "    \"Western\",\n",
    "    \"Children's\",\n",
    "    \"Mystery\",\n",
    "    \"Fantasy\",\n",
    "    \"Film-Noir\",\n",
    "    \"Documentary\",\n",
    "    \"Comedy\",\n",
    "    \"Adventure\",\n",
    "    \"Sci-Fi\",\n",
    "    \"Horror\",\n",
    "    \"Crime\",\n",
    "    \"Musical\",\n",
    "    \"War\",\n",
    "    \"Animation\",\n",
    "    \"Drama\",\n",
    "]\n",
    "for genre in unique_genres:\n",
    "    movies[genre] = 0\n",
    "    \n",
    "for index, row in movies.iterrows():\n",
    "    genres = row[\"genres\"].split(\"|\")\n",
    "\n",
    "    for genre in genres:\n",
    "        movies.at[index, genre] = 1\n",
    "\n",
    "\n",
    "movies\n",
    "\n",
    "users = pd.read_csv(\"../data/ml-100k/u_id_mapping_demographic_.csv\", sep=\"\\t\")\n",
    "users = users.sort_values(by=\"userID\")\n",
    "\n",
    "# users = users.drop(columns=users.columns[0])\n",
    "gender_map = {\"M\": 0, \"F\": 1}\n",
    "users[\"Gender\"] = users[\"Gender\"].map(gender_map)\n",
    "user_features_numpy = users.to_numpy()\n",
    "users\n",
    "\n"
   ]
  },
  {
   "cell_type": "code",
   "execution_count": 14,
   "metadata": {},
   "outputs": [
    {
     "data": {
      "text/html": [
       "<div>\n",
       "<style scoped>\n",
       "    .dataframe tbody tr th:only-of-type {\n",
       "        vertical-align: middle;\n",
       "    }\n",
       "\n",
       "    .dataframe tbody tr th {\n",
       "        vertical-align: top;\n",
       "    }\n",
       "\n",
       "    .dataframe thead th {\n",
       "        text-align: right;\n",
       "    }\n",
       "</style>\n",
       "<table border=\"1\" class=\"dataframe\">\n",
       "  <thead>\n",
       "    <tr style=\"text-align: right;\">\n",
       "      <th></th>\n",
       "      <th>user_id</th>\n",
       "      <th>Age</th>\n",
       "      <th>Gender</th>\n",
       "      <th>Occupation</th>\n",
       "      <th>ZipCode</th>\n",
       "      <th>userID</th>\n",
       "      <th>Occupation_Code</th>\n",
       "      <th>Age_Code</th>\n",
       "    </tr>\n",
       "  </thead>\n",
       "  <tbody>\n",
       "    <tr>\n",
       "      <th>195</th>\n",
       "      <td>196</td>\n",
       "      <td>49</td>\n",
       "      <td>0</td>\n",
       "      <td>writer</td>\n",
       "      <td>55105</td>\n",
       "      <td>0</td>\n",
       "      <td>20</td>\n",
       "      <td>4</td>\n",
       "    </tr>\n",
       "    <tr>\n",
       "      <th>185</th>\n",
       "      <td>186</td>\n",
       "      <td>39</td>\n",
       "      <td>1</td>\n",
       "      <td>executive</td>\n",
       "      <td>00000</td>\n",
       "      <td>1</td>\n",
       "      <td>6</td>\n",
       "      <td>3</td>\n",
       "    </tr>\n",
       "    <tr>\n",
       "      <th>21</th>\n",
       "      <td>22</td>\n",
       "      <td>25</td>\n",
       "      <td>0</td>\n",
       "      <td>writer</td>\n",
       "      <td>40206</td>\n",
       "      <td>2</td>\n",
       "      <td>20</td>\n",
       "      <td>2</td>\n",
       "    </tr>\n",
       "    <tr>\n",
       "      <th>243</th>\n",
       "      <td>244</td>\n",
       "      <td>28</td>\n",
       "      <td>0</td>\n",
       "      <td>technician</td>\n",
       "      <td>80525</td>\n",
       "      <td>3</td>\n",
       "      <td>19</td>\n",
       "      <td>2</td>\n",
       "    </tr>\n",
       "    <tr>\n",
       "      <th>165</th>\n",
       "      <td>166</td>\n",
       "      <td>47</td>\n",
       "      <td>0</td>\n",
       "      <td>educator</td>\n",
       "      <td>55113</td>\n",
       "      <td>4</td>\n",
       "      <td>3</td>\n",
       "      <td>4</td>\n",
       "    </tr>\n",
       "    <tr>\n",
       "      <th>...</th>\n",
       "      <td>...</td>\n",
       "      <td>...</td>\n",
       "      <td>...</td>\n",
       "      <td>...</td>\n",
       "      <td>...</td>\n",
       "      <td>...</td>\n",
       "      <td>...</td>\n",
       "      <td>...</td>\n",
       "    </tr>\n",
       "    <tr>\n",
       "      <th>938</th>\n",
       "      <td>939</td>\n",
       "      <td>26</td>\n",
       "      <td>1</td>\n",
       "      <td>student</td>\n",
       "      <td>33319</td>\n",
       "      <td>938</td>\n",
       "      <td>18</td>\n",
       "      <td>2</td>\n",
       "    </tr>\n",
       "    <tr>\n",
       "      <th>935</th>\n",
       "      <td>936</td>\n",
       "      <td>24</td>\n",
       "      <td>0</td>\n",
       "      <td>other</td>\n",
       "      <td>32789</td>\n",
       "      <td>939</td>\n",
       "      <td>13</td>\n",
       "      <td>1</td>\n",
       "    </tr>\n",
       "    <tr>\n",
       "      <th>929</th>\n",
       "      <td>930</td>\n",
       "      <td>28</td>\n",
       "      <td>1</td>\n",
       "      <td>scientist</td>\n",
       "      <td>07310</td>\n",
       "      <td>940</td>\n",
       "      <td>17</td>\n",
       "      <td>2</td>\n",
       "    </tr>\n",
       "    <tr>\n",
       "      <th>919</th>\n",
       "      <td>920</td>\n",
       "      <td>30</td>\n",
       "      <td>1</td>\n",
       "      <td>artist</td>\n",
       "      <td>90008</td>\n",
       "      <td>941</td>\n",
       "      <td>1</td>\n",
       "      <td>2</td>\n",
       "    </tr>\n",
       "    <tr>\n",
       "      <th>940</th>\n",
       "      <td>941</td>\n",
       "      <td>20</td>\n",
       "      <td>0</td>\n",
       "      <td>student</td>\n",
       "      <td>97229</td>\n",
       "      <td>942</td>\n",
       "      <td>18</td>\n",
       "      <td>1</td>\n",
       "    </tr>\n",
       "  </tbody>\n",
       "</table>\n",
       "<p>943 rows × 8 columns</p>\n",
       "</div>"
      ],
      "text/plain": [
       "     user_id  Age  Gender  Occupation ZipCode  userID  Occupation_Code  \\\n",
       "195      196   49       0      writer   55105       0               20   \n",
       "185      186   39       1   executive   00000       1                6   \n",
       "21        22   25       0      writer   40206       2               20   \n",
       "243      244   28       0  technician   80525       3               19   \n",
       "165      166   47       0    educator   55113       4                3   \n",
       "..       ...  ...     ...         ...     ...     ...              ...   \n",
       "938      939   26       1     student   33319     938               18   \n",
       "935      936   24       0       other   32789     939               13   \n",
       "929      930   28       1   scientist   07310     940               17   \n",
       "919      920   30       1      artist   90008     941                1   \n",
       "940      941   20       0     student   97229     942               18   \n",
       "\n",
       "     Age_Code  \n",
       "195         4  \n",
       "185         3  \n",
       "21          2  \n",
       "243         2  \n",
       "165         4  \n",
       "..        ...  \n",
       "938         2  \n",
       "935         1  \n",
       "929         2  \n",
       "919         2  \n",
       "940         1  \n",
       "\n",
       "[943 rows x 8 columns]"
      ]
     },
     "execution_count": 14,
     "metadata": {},
     "output_type": "execute_result"
    }
   ],
   "source": [
    "# age_map = { 0:  \"Under 18\",\n",
    "# \t 1:  \"18-24\",\n",
    "# \t 2:  \"25-34\",\n",
    "# \t 3:  \"35-44\",\n",
    "# \t 4:  \"45-49\",\n",
    "# \t 5:  \"50-55\",\n",
    "# \t 6:  \"56+\"} #we will follow the same age amp for all dataset\n",
    "import os\n",
    "os.chdir(\"/Users/tahsinalamgirkheya/Desktop/work/reranking_fairnes\")\n",
    "\n",
    "from metrics.utils import map_age\n",
    "users[\"Age_Code\"] = users[\"Age\"].apply(map_age)\n",
    "users\n"
   ]
  },
  {
   "cell_type": "code",
   "execution_count": 15,
   "metadata": {},
   "outputs": [],
   "source": [
    "from mymetrics.GenrePrecisionMulti import GenrePrecisionMulti\n",
    "from mymetrics.GenreNDCGMulti import GenreNDCGMulti\n",
    "from mymetrics.GenreNDCG import GenreNDCG\n",
    "####Import Metrics####\n",
    "# from mymetrics.GenrePrecision import GenrePrecision\n",
    "\n",
    "top_k = 20\n",
    "###intialize them\n",
    "gp = GenrePrecisionMulti(users, unique_genres, top_k)\n",
    "gn = GenreNDCGMulti(users, unique_genres, top_k)\n",
    "gn_old = GenreNDCG(users, unique_genres, top_k)\n"
   ]
  },
  {
   "cell_type": "code",
   "execution_count": 16,
   "metadata": {},
   "outputs": [
    {
     "data": {
      "text/plain": [
       "array([[ 133,   89,  422, ...,  371,  302,  526],\n",
       "       [ 140,   95,  402, ..., 1056,   68,  124],\n",
       "       [ 347,   52,  367, ...,  754,  413, 1117],\n",
       "       ...,\n",
       "       [  49,   77,   83, ...,  299,  216,  512],\n",
       "       [ 710,    1,  645, ..., 1221,  722,   49],\n",
       "       [  12,   52,   24, ...,  268,  637,  233]])"
      ]
     },
     "execution_count": 16,
     "metadata": {},
     "output_type": "execute_result"
    }
   ],
   "source": [
    "reco_matrix"
   ]
  },
  {
   "cell_type": "code",
   "execution_count": 17,
   "metadata": {},
   "outputs": [
    {
     "data": {
      "text/plain": [
       "(943, 20)"
      ]
     },
     "execution_count": 17,
     "metadata": {},
     "output_type": "execute_result"
    }
   ],
   "source": [
    "reco_matrix[0].shape\n",
    "# new_rmatrix = np.\n",
    "new_rmatrix = np.zeros(( 943, 20), dtype=int)\n",
    "for i in range(943):\n",
    "    new_rmatrix[i]=reco_matrix[i][:20]\n",
    "new_rmatrix.shape\n"
   ]
  },
  {
   "cell_type": "code",
   "execution_count": 19,
   "metadata": {},
   "outputs": [],
   "source": [
    "sens_attr = \"Gender\""
   ]
  },
  {
   "cell_type": "code",
   "execution_count": 20,
   "metadata": {},
   "outputs": [
    {
     "data": {
      "text/plain": [
       "(0.2275039363621453,\n",
       " array([0.03379557, 0.01347976, 0.03004434, 0.00126784, 0.00603918,\n",
       "        0.00181866, 0.00105503, 0.00150675, 0.00101771, 0.03049895,\n",
       "        0.01671368, 0.02490905, 0.00252863, 0.01496501, 0.00511934,\n",
       "        0.00174932, 0.00149128, 0.03950385]))"
      ]
     },
     "execution_count": 20,
     "metadata": {},
     "output_type": "execute_result"
    }
   ],
   "source": [
    "gp_plain = gp.compute(new_rmatrix, movies, sens_attr)\n",
    "gp_plain"
   ]
  },
  {
   "cell_type": "code",
   "execution_count": 21,
   "metadata": {},
   "outputs": [
    {
     "data": {
      "text/plain": [
       "['Action',\n",
       " 'Thriller',\n",
       " 'Romance',\n",
       " 'Western',\n",
       " \"Children's\",\n",
       " 'Mystery',\n",
       " 'Fantasy',\n",
       " 'Film-Noir',\n",
       " 'Documentary',\n",
       " 'Comedy',\n",
       " 'Adventure',\n",
       " 'Sci-Fi',\n",
       " 'Horror',\n",
       " 'Crime',\n",
       " 'Musical',\n",
       " 'War',\n",
       " 'Animation',\n",
       " 'Drama']"
      ]
     },
     "execution_count": 21,
     "metadata": {},
     "output_type": "execute_result"
    }
   ],
   "source": [
    "unique_genres"
   ]
  },
  {
   "cell_type": "code",
   "execution_count": 22,
   "metadata": {},
   "outputs": [
    {
     "data": {
      "text/plain": [
       "[0.03379556885900169,\n",
       " 0.030044343301805984,\n",
       " 0.024909049076959525,\n",
       " 0.039503849798625895]"
      ]
     },
     "execution_count": 22,
     "metadata": {},
     "output_type": "execute_result"
    }
   ],
   "source": [
    "[gp_plain[1][unique_genres.index('Action')],gp_plain[1][unique_genres.index('Romance')],gp_plain[1][unique_genres.index('Sci-Fi')],gp_plain[1][unique_genres.index('Drama')]]\n"
   ]
  },
  {
   "cell_type": "code",
   "execution_count": 23,
   "metadata": {},
   "outputs": [
    {
     "data": {
      "text/plain": [
       "(0.08495099283672249,\n",
       " array([0.01180912, 0.00538059, 0.01259929, 0.0004831 , 0.00195834,\n",
       "        0.00088056, 0.00039637, 0.00050758, 0.00040014, 0.01293857,\n",
       "        0.00702708, 0.00939632, 0.00056694, 0.00602407, 0.00130239,\n",
       "        0.00044201, 0.00035466, 0.01248387]))"
      ]
     },
     "execution_count": 23,
     "metadata": {},
     "output_type": "execute_result"
    }
   ],
   "source": [
    "gn_plain = gn.compute(new_rmatrix, movies, sens_attr)\n",
    "gn_plain"
   ]
  },
  {
   "cell_type": "code",
   "execution_count": 24,
   "metadata": {},
   "outputs": [
    {
     "name": "stdout",
     "output_type": "stream",
     "text": [
      "0.13621640879849836 is the bias score for b=1\n",
      "0.05819224390866184 is the bias score for b=2\n",
      "0.025335110163468393 is the bias score for b=3\n",
      "0.05302664334007621 is the bias score for b=4\n",
      "0.07185442749621852 is the bias score for b=5\n",
      "0.08285593096787125 is the bias score for b=6\n",
      "0.11066074389954982 is the bias score for b=7\n",
      "0.13469247170739707 is the bias score for b=8\n"
     ]
    }
   ],
   "source": [
    "\n",
    "i=0\n",
    "xlist=[]\n",
    "newlist = []\n",
    "for r in reco_matrix_fair:\n",
    "    i=i+1\n",
    "    x=gp.compute(np.array(r), movies, sens_attr)\n",
    "    xlist.append(x[0])\n",
    "    newlist.append(x)\n",
    "    # print(x)\n",
    "    print(f\"{x[0]} is the bias score for b={i}\")\n",
    "    \n"
   ]
  },
  {
   "cell_type": "code",
   "execution_count": 25,
   "metadata": {},
   "outputs": [
    {
     "data": {
      "text/plain": [
       "array([0.00026175, 0.00343002, 0.00172814, 0.00053915, 0.00033878,\n",
       "       0.00027886, 0.00019043, 0.00062191, 0.00035605, 0.00127284,\n",
       "       0.00229518, 0.00100222, 0.00081307, 0.00483414, 0.00118475,\n",
       "       0.00325964, 0.00071451, 0.00221365])"
      ]
     },
     "execution_count": 25,
     "metadata": {},
     "output_type": "execute_result"
    }
   ],
   "source": [
    "newlist[2][1]"
   ]
  },
  {
   "cell_type": "code",
   "execution_count": 17,
   "metadata": {},
   "outputs": [
    {
     "data": {
      "text/plain": [
       "[0.0027582827620141054,\n",
       " 0.010573082390246569,\n",
       " 0.0003701547209009892,\n",
       " 0.005895877754086731]"
      ]
     },
     "execution_count": 17,
     "metadata": {},
     "output_type": "execute_result"
    }
   ],
   "source": [
    "index = 1\n",
    "[newlist[index][1][unique_genres.index('Action')],newlist[index][1][unique_genres.index('Romance')],newlist[index][1][unique_genres.index('Sci-Fi')],newlist[index][1][unique_genres.index('Drama')]]\n"
   ]
  },
  {
   "cell_type": "code",
   "execution_count": 23,
   "metadata": {},
   "outputs": [
    {
     "data": {
      "text/plain": [
       "(0.04333418728637401,\n",
       " array([3.66243222e-03, 4.88879783e-03, 2.71882417e-03, 2.93767447e-03,\n",
       "        1.83792217e-03, 2.03988388e-03, 6.04742239e-04, 1.94173481e-03,\n",
       "        1.21477162e-05, 3.17545169e-03, 3.02627841e-03, 2.12437975e-03,\n",
       "        2.09044045e-03, 2.08095411e-03, 1.36848127e-03, 1.16472754e-03,\n",
       "        2.38293427e-03, 5.27638030e-03]))"
      ]
     },
     "execution_count": 23,
     "metadata": {},
     "output_type": "execute_result"
    }
   ],
   "source": [
    "newlist[index]"
   ]
  },
  {
   "cell_type": "code",
   "execution_count": 24,
   "metadata": {},
   "outputs": [
    {
     "data": {
      "text/plain": [
       "[0.07081361476373901,\n",
       " 0.0705249458883501,\n",
       " 0.06856352278209593,\n",
       " 0.06814329207506716,\n",
       " 0.06752182317418212,\n",
       " 0.06860261227986014,\n",
       " 0.06876003029760534,\n",
       " 0.07172002542952945,\n",
       " 0.06922187887599583]"
      ]
     },
     "execution_count": 24,
     "metadata": {},
     "output_type": "execute_result"
    }
   ],
   "source": [
    "\n",
    "\n",
    "hr=NDCG(20)\n",
    "hrlist=[]\n",
    "for r in reco_matrix_fair:\n",
    "    sum_hr=0\n",
    "    for u in range(reco_matrix.shape[0]):\n",
    "        x=hr.compute(all_users_tp[u],r[u])\n",
    "        sum_hr=sum_hr+x\n",
    "    hr_occ=sum_hr/reco_matrix.shape[0]\n",
    "    hrlist.append(hr_occ)\n",
    "    \n",
    "\n",
    "[plain_ndcg]+hrlist\n"
   ]
  },
  {
   "cell_type": "code",
   "execution_count": 25,
   "metadata": {},
   "outputs": [
    {
     "data": {
      "text/plain": [
       "[0.24024253769039333,\n",
       " 0.17550460792009148,\n",
       " 0.12264500028796098,\n",
       " 0.08946479213431913,\n",
       " 0.06637714399892848,\n",
       " 0.053492194549847556,\n",
       " 0.04333418728637401,\n",
       " 0.035754210077773095,\n",
       " 0.029985501556413892]"
      ]
     },
     "execution_count": 25,
     "metadata": {},
     "output_type": "execute_result"
    }
   ],
   "source": [
    "[gp_plain[0]]+xlist"
   ]
  },
  {
   "cell_type": "code",
   "execution_count": 26,
   "metadata": {},
   "outputs": [
    {
     "name": "stdout",
     "output_type": "stream",
     "text": [
      "0.05876463609258559 is the bias score for b=1\n",
      "0.041460026473850976 is the bias score for b=2\n"
     ]
    },
    {
     "ename": "KeyboardInterrupt",
     "evalue": "",
     "output_type": "error",
     "traceback": [
      "\u001b[0;31m---------------------------------------------------------------------------\u001b[0m",
      "\u001b[0;31mKeyboardInterrupt\u001b[0m                         Traceback (most recent call last)",
      "Cell \u001b[0;32mIn[26], line 5\u001b[0m\n\u001b[1;32m      3\u001b[0m \u001b[38;5;28;01mfor\u001b[39;00m r \u001b[38;5;129;01min\u001b[39;00m reco_matrix_fair:\n\u001b[1;32m      4\u001b[0m     i\u001b[38;5;241m=\u001b[39mi\u001b[38;5;241m+\u001b[39m\u001b[38;5;241m1\u001b[39m\n\u001b[0;32m----> 5\u001b[0m     x\u001b[38;5;241m=\u001b[39m\u001b[43mgn\u001b[49m\u001b[38;5;241;43m.\u001b[39;49m\u001b[43mcompute\u001b[49m\u001b[43m(\u001b[49m\u001b[43mnp\u001b[49m\u001b[38;5;241;43m.\u001b[39;49m\u001b[43marray\u001b[49m\u001b[43m(\u001b[49m\u001b[43mr\u001b[49m\u001b[43m)\u001b[49m\u001b[43m,\u001b[49m\u001b[43m \u001b[49m\u001b[43mmovies\u001b[49m\u001b[43m,\u001b[49m\u001b[43m \u001b[49m\u001b[43msens_attr\u001b[49m\u001b[43m)\u001b[49m\n\u001b[1;32m      6\u001b[0m     xlist\u001b[38;5;241m.\u001b[39mappend(x[\u001b[38;5;241m0\u001b[39m])\n\u001b[1;32m      7\u001b[0m     \u001b[38;5;66;03m# print(x)\u001b[39;00m\n",
      "File \u001b[0;32m~/Desktop/work/reranking_fairnes/mymetrics/GenreNDCGMulti.py:46\u001b[0m, in \u001b[0;36mGenreNDCGMulti.compute\u001b[0;34m(self, reco_matrix, item_df, sensitive_attr)\u001b[0m\n\u001b[1;32m     41\u001b[0m merged_df \u001b[38;5;241m=\u001b[39m pd\u001b[38;5;241m.\u001b[39mmerge(df_reco, item_df, on\u001b[38;5;241m=\u001b[39m\u001b[38;5;124m\"\u001b[39m\u001b[38;5;124mitemID\u001b[39m\u001b[38;5;124m\"\u001b[39m, how\u001b[38;5;241m=\u001b[39m\u001b[38;5;124m\"\u001b[39m\u001b[38;5;124minner\u001b[39m\u001b[38;5;124m\"\u001b[39m)\n\u001b[1;32m     42\u001b[0m merged_df[\u001b[38;5;28mself\u001b[39m\u001b[38;5;241m.\u001b[39munique_genres] \u001b[38;5;241m=\u001b[39m merged_df[\u001b[38;5;28mself\u001b[39m\u001b[38;5;241m.\u001b[39munique_genres]\u001b[38;5;241m.\u001b[39mdiv(\n\u001b[1;32m     43\u001b[0m     merged_df[\u001b[38;5;28mself\u001b[39m\u001b[38;5;241m.\u001b[39munique_genres]\u001b[38;5;241m.\u001b[39msum(axis\u001b[38;5;241m=\u001b[39m\u001b[38;5;241m1\u001b[39m), axis\u001b[38;5;241m=\u001b[39m\u001b[38;5;241m0\u001b[39m\n\u001b[1;32m     44\u001b[0m )\n\u001b[0;32m---> 46\u001b[0m merged_df[\u001b[38;5;28mself\u001b[39m\u001b[38;5;241m.\u001b[39munique_genres] \u001b[38;5;241m=\u001b[39m \u001b[43mmerged_df\u001b[49m\u001b[38;5;241;43m.\u001b[39;49m\u001b[43mapply\u001b[49m\u001b[43m(\u001b[49m\n\u001b[1;32m     47\u001b[0m \u001b[43m    \u001b[49m\u001b[38;5;28;43;01mlambda\u001b[39;49;00m\u001b[43m \u001b[49m\u001b[43mr\u001b[49m\u001b[43m:\u001b[49m\u001b[43m \u001b[49m\u001b[43mr\u001b[49m\u001b[43m[\u001b[49m\u001b[38;5;28;43mself\u001b[39;49m\u001b[38;5;241;43m.\u001b[39;49m\u001b[43munique_genres\u001b[49m\u001b[43m]\u001b[49m\u001b[43m \u001b[49m\u001b[38;5;241;43m/\u001b[39;49m\u001b[43m \u001b[49m\u001b[43mr\u001b[49m\u001b[43m[\u001b[49m\u001b[38;5;124;43m\"\u001b[39;49m\u001b[38;5;124;43mlogVal\u001b[39;49m\u001b[38;5;124;43m\"\u001b[39;49m\u001b[43m]\u001b[49m\u001b[43m,\u001b[49m\u001b[43m \u001b[49m\u001b[43maxis\u001b[49m\u001b[38;5;241;43m=\u001b[39;49m\u001b[38;5;241;43m1\u001b[39;49m\n\u001b[1;32m     48\u001b[0m \u001b[43m\u001b[49m\u001b[43m)\u001b[49m\n\u001b[1;32m     49\u001b[0m reco_distribution \u001b[38;5;241m=\u001b[39m merged_df[[\u001b[38;5;124m\"\u001b[39m\u001b[38;5;124muserID\u001b[39m\u001b[38;5;124m\"\u001b[39m] \u001b[38;5;241m+\u001b[39m \u001b[38;5;28mself\u001b[39m\u001b[38;5;241m.\u001b[39munique_genres]\n\u001b[1;32m     51\u001b[0m reco_distribution \u001b[38;5;241m=\u001b[39m reco_distribution\u001b[38;5;241m.\u001b[39mgroupby(\u001b[38;5;124m\"\u001b[39m\u001b[38;5;124muserID\u001b[39m\u001b[38;5;124m\"\u001b[39m)[\n\u001b[1;32m     52\u001b[0m     \u001b[38;5;28mself\u001b[39m\u001b[38;5;241m.\u001b[39munique_genres\n\u001b[1;32m     53\u001b[0m ]\u001b[38;5;241m.\u001b[39mmean()\n",
      "File \u001b[0;32m~/anaconda3/envs/re-ranking/lib/python3.11/site-packages/pandas/core/frame.py:10374\u001b[0m, in \u001b[0;36mDataFrame.apply\u001b[0;34m(self, func, axis, raw, result_type, args, by_row, engine, engine_kwargs, **kwargs)\u001b[0m\n\u001b[1;32m  10360\u001b[0m \u001b[38;5;28;01mfrom\u001b[39;00m\u001b[38;5;250m \u001b[39m\u001b[38;5;21;01mpandas\u001b[39;00m\u001b[38;5;21;01m.\u001b[39;00m\u001b[38;5;21;01mcore\u001b[39;00m\u001b[38;5;21;01m.\u001b[39;00m\u001b[38;5;21;01mapply\u001b[39;00m\u001b[38;5;250m \u001b[39m\u001b[38;5;28;01mimport\u001b[39;00m frame_apply\n\u001b[1;32m  10362\u001b[0m op \u001b[38;5;241m=\u001b[39m frame_apply(\n\u001b[1;32m  10363\u001b[0m     \u001b[38;5;28mself\u001b[39m,\n\u001b[1;32m  10364\u001b[0m     func\u001b[38;5;241m=\u001b[39mfunc,\n\u001b[0;32m   (...)\u001b[0m\n\u001b[1;32m  10372\u001b[0m     kwargs\u001b[38;5;241m=\u001b[39mkwargs,\n\u001b[1;32m  10373\u001b[0m )\n\u001b[0;32m> 10374\u001b[0m \u001b[38;5;28;01mreturn\u001b[39;00m \u001b[43mop\u001b[49m\u001b[38;5;241;43m.\u001b[39;49m\u001b[43mapply\u001b[49m\u001b[43m(\u001b[49m\u001b[43m)\u001b[49m\u001b[38;5;241m.\u001b[39m__finalize__(\u001b[38;5;28mself\u001b[39m, method\u001b[38;5;241m=\u001b[39m\u001b[38;5;124m\"\u001b[39m\u001b[38;5;124mapply\u001b[39m\u001b[38;5;124m\"\u001b[39m)\n",
      "File \u001b[0;32m~/anaconda3/envs/re-ranking/lib/python3.11/site-packages/pandas/core/apply.py:916\u001b[0m, in \u001b[0;36mFrameApply.apply\u001b[0;34m(self)\u001b[0m\n\u001b[1;32m    913\u001b[0m \u001b[38;5;28;01melif\u001b[39;00m \u001b[38;5;28mself\u001b[39m\u001b[38;5;241m.\u001b[39mraw:\n\u001b[1;32m    914\u001b[0m     \u001b[38;5;28;01mreturn\u001b[39;00m \u001b[38;5;28mself\u001b[39m\u001b[38;5;241m.\u001b[39mapply_raw(engine\u001b[38;5;241m=\u001b[39m\u001b[38;5;28mself\u001b[39m\u001b[38;5;241m.\u001b[39mengine, engine_kwargs\u001b[38;5;241m=\u001b[39m\u001b[38;5;28mself\u001b[39m\u001b[38;5;241m.\u001b[39mengine_kwargs)\n\u001b[0;32m--> 916\u001b[0m \u001b[38;5;28;01mreturn\u001b[39;00m \u001b[38;5;28;43mself\u001b[39;49m\u001b[38;5;241;43m.\u001b[39;49m\u001b[43mapply_standard\u001b[49m\u001b[43m(\u001b[49m\u001b[43m)\u001b[49m\n",
      "File \u001b[0;32m~/anaconda3/envs/re-ranking/lib/python3.11/site-packages/pandas/core/apply.py:1063\u001b[0m, in \u001b[0;36mFrameApply.apply_standard\u001b[0;34m(self)\u001b[0m\n\u001b[1;32m   1061\u001b[0m \u001b[38;5;28;01mdef\u001b[39;00m\u001b[38;5;250m \u001b[39m\u001b[38;5;21mapply_standard\u001b[39m(\u001b[38;5;28mself\u001b[39m):\n\u001b[1;32m   1062\u001b[0m     \u001b[38;5;28;01mif\u001b[39;00m \u001b[38;5;28mself\u001b[39m\u001b[38;5;241m.\u001b[39mengine \u001b[38;5;241m==\u001b[39m \u001b[38;5;124m\"\u001b[39m\u001b[38;5;124mpython\u001b[39m\u001b[38;5;124m\"\u001b[39m:\n\u001b[0;32m-> 1063\u001b[0m         results, res_index \u001b[38;5;241m=\u001b[39m \u001b[38;5;28;43mself\u001b[39;49m\u001b[38;5;241;43m.\u001b[39;49m\u001b[43mapply_series_generator\u001b[49m\u001b[43m(\u001b[49m\u001b[43m)\u001b[49m\n\u001b[1;32m   1064\u001b[0m     \u001b[38;5;28;01melse\u001b[39;00m:\n\u001b[1;32m   1065\u001b[0m         results, res_index \u001b[38;5;241m=\u001b[39m \u001b[38;5;28mself\u001b[39m\u001b[38;5;241m.\u001b[39mapply_series_numba()\n",
      "File \u001b[0;32m~/anaconda3/envs/re-ranking/lib/python3.11/site-packages/pandas/core/apply.py:1081\u001b[0m, in \u001b[0;36mFrameApply.apply_series_generator\u001b[0;34m(self)\u001b[0m\n\u001b[1;32m   1078\u001b[0m \u001b[38;5;28;01mwith\u001b[39;00m option_context(\u001b[38;5;124m\"\u001b[39m\u001b[38;5;124mmode.chained_assignment\u001b[39m\u001b[38;5;124m\"\u001b[39m, \u001b[38;5;28;01mNone\u001b[39;00m):\n\u001b[1;32m   1079\u001b[0m     \u001b[38;5;28;01mfor\u001b[39;00m i, v \u001b[38;5;129;01min\u001b[39;00m \u001b[38;5;28menumerate\u001b[39m(series_gen):\n\u001b[1;32m   1080\u001b[0m         \u001b[38;5;66;03m# ignore SettingWithCopy here in case the user mutates\u001b[39;00m\n\u001b[0;32m-> 1081\u001b[0m         results[i] \u001b[38;5;241m=\u001b[39m \u001b[38;5;28;43mself\u001b[39;49m\u001b[38;5;241;43m.\u001b[39;49m\u001b[43mfunc\u001b[49m\u001b[43m(\u001b[49m\u001b[43mv\u001b[49m\u001b[43m,\u001b[49m\u001b[43m \u001b[49m\u001b[38;5;241;43m*\u001b[39;49m\u001b[38;5;28;43mself\u001b[39;49m\u001b[38;5;241;43m.\u001b[39;49m\u001b[43margs\u001b[49m\u001b[43m,\u001b[49m\u001b[43m \u001b[49m\u001b[38;5;241;43m*\u001b[39;49m\u001b[38;5;241;43m*\u001b[39;49m\u001b[38;5;28;43mself\u001b[39;49m\u001b[38;5;241;43m.\u001b[39;49m\u001b[43mkwargs\u001b[49m\u001b[43m)\u001b[49m\n\u001b[1;32m   1082\u001b[0m         \u001b[38;5;28;01mif\u001b[39;00m \u001b[38;5;28misinstance\u001b[39m(results[i], ABCSeries):\n\u001b[1;32m   1083\u001b[0m             \u001b[38;5;66;03m# If we have a view on v, we need to make a copy because\u001b[39;00m\n\u001b[1;32m   1084\u001b[0m             \u001b[38;5;66;03m#  series_generator will swap out the underlying data\u001b[39;00m\n\u001b[1;32m   1085\u001b[0m             results[i] \u001b[38;5;241m=\u001b[39m results[i]\u001b[38;5;241m.\u001b[39mcopy(deep\u001b[38;5;241m=\u001b[39m\u001b[38;5;28;01mFalse\u001b[39;00m)\n",
      "File \u001b[0;32m~/Desktop/work/reranking_fairnes/mymetrics/GenreNDCGMulti.py:47\u001b[0m, in \u001b[0;36mGenreNDCGMulti.compute.<locals>.<lambda>\u001b[0;34m(r)\u001b[0m\n\u001b[1;32m     41\u001b[0m merged_df \u001b[38;5;241m=\u001b[39m pd\u001b[38;5;241m.\u001b[39mmerge(df_reco, item_df, on\u001b[38;5;241m=\u001b[39m\u001b[38;5;124m\"\u001b[39m\u001b[38;5;124mitemID\u001b[39m\u001b[38;5;124m\"\u001b[39m, how\u001b[38;5;241m=\u001b[39m\u001b[38;5;124m\"\u001b[39m\u001b[38;5;124minner\u001b[39m\u001b[38;5;124m\"\u001b[39m)\n\u001b[1;32m     42\u001b[0m merged_df[\u001b[38;5;28mself\u001b[39m\u001b[38;5;241m.\u001b[39munique_genres] \u001b[38;5;241m=\u001b[39m merged_df[\u001b[38;5;28mself\u001b[39m\u001b[38;5;241m.\u001b[39munique_genres]\u001b[38;5;241m.\u001b[39mdiv(\n\u001b[1;32m     43\u001b[0m     merged_df[\u001b[38;5;28mself\u001b[39m\u001b[38;5;241m.\u001b[39munique_genres]\u001b[38;5;241m.\u001b[39msum(axis\u001b[38;5;241m=\u001b[39m\u001b[38;5;241m1\u001b[39m), axis\u001b[38;5;241m=\u001b[39m\u001b[38;5;241m0\u001b[39m\n\u001b[1;32m     44\u001b[0m )\n\u001b[1;32m     46\u001b[0m merged_df[\u001b[38;5;28mself\u001b[39m\u001b[38;5;241m.\u001b[39munique_genres] \u001b[38;5;241m=\u001b[39m merged_df\u001b[38;5;241m.\u001b[39mapply(\n\u001b[0;32m---> 47\u001b[0m     \u001b[38;5;28;01mlambda\u001b[39;00m r: \u001b[43mr\u001b[49m\u001b[43m[\u001b[49m\u001b[38;5;28;43mself\u001b[39;49m\u001b[38;5;241;43m.\u001b[39;49m\u001b[43munique_genres\u001b[49m\u001b[43m]\u001b[49m\u001b[43m \u001b[49m\u001b[38;5;241;43m/\u001b[39;49m\u001b[43m \u001b[49m\u001b[43mr\u001b[49m\u001b[43m[\u001b[49m\u001b[38;5;124;43m\"\u001b[39;49m\u001b[38;5;124;43mlogVal\u001b[39;49m\u001b[38;5;124;43m\"\u001b[39;49m\u001b[43m]\u001b[49m, axis\u001b[38;5;241m=\u001b[39m\u001b[38;5;241m1\u001b[39m\n\u001b[1;32m     48\u001b[0m )\n\u001b[1;32m     49\u001b[0m reco_distribution \u001b[38;5;241m=\u001b[39m merged_df[[\u001b[38;5;124m\"\u001b[39m\u001b[38;5;124muserID\u001b[39m\u001b[38;5;124m\"\u001b[39m] \u001b[38;5;241m+\u001b[39m \u001b[38;5;28mself\u001b[39m\u001b[38;5;241m.\u001b[39munique_genres]\n\u001b[1;32m     51\u001b[0m reco_distribution \u001b[38;5;241m=\u001b[39m reco_distribution\u001b[38;5;241m.\u001b[39mgroupby(\u001b[38;5;124m\"\u001b[39m\u001b[38;5;124muserID\u001b[39m\u001b[38;5;124m\"\u001b[39m)[\n\u001b[1;32m     52\u001b[0m     \u001b[38;5;28mself\u001b[39m\u001b[38;5;241m.\u001b[39munique_genres\n\u001b[1;32m     53\u001b[0m ]\u001b[38;5;241m.\u001b[39mmean()\n",
      "File \u001b[0;32m~/anaconda3/envs/re-ranking/lib/python3.11/site-packages/pandas/core/ops/common.py:76\u001b[0m, in \u001b[0;36m_unpack_zerodim_and_defer.<locals>.new_method\u001b[0;34m(self, other)\u001b[0m\n\u001b[1;32m     72\u001b[0m             \u001b[38;5;28;01mreturn\u001b[39;00m \u001b[38;5;28mNotImplemented\u001b[39m\n\u001b[1;32m     74\u001b[0m other \u001b[38;5;241m=\u001b[39m item_from_zerodim(other)\n\u001b[0;32m---> 76\u001b[0m \u001b[38;5;28;01mreturn\u001b[39;00m \u001b[43mmethod\u001b[49m\u001b[43m(\u001b[49m\u001b[38;5;28;43mself\u001b[39;49m\u001b[43m,\u001b[49m\u001b[43m \u001b[49m\u001b[43mother\u001b[49m\u001b[43m)\u001b[49m\n",
      "File \u001b[0;32m~/anaconda3/envs/re-ranking/lib/python3.11/site-packages/pandas/core/arraylike.py:210\u001b[0m, in \u001b[0;36mOpsMixin.__truediv__\u001b[0;34m(self, other)\u001b[0m\n\u001b[1;32m    208\u001b[0m \u001b[38;5;129m@unpack_zerodim_and_defer\u001b[39m(\u001b[38;5;124m\"\u001b[39m\u001b[38;5;124m__truediv__\u001b[39m\u001b[38;5;124m\"\u001b[39m)\n\u001b[1;32m    209\u001b[0m \u001b[38;5;28;01mdef\u001b[39;00m\u001b[38;5;250m \u001b[39m\u001b[38;5;21m__truediv__\u001b[39m(\u001b[38;5;28mself\u001b[39m, other):\n\u001b[0;32m--> 210\u001b[0m     \u001b[38;5;28;01mreturn\u001b[39;00m \u001b[38;5;28;43mself\u001b[39;49m\u001b[38;5;241;43m.\u001b[39;49m\u001b[43m_arith_method\u001b[49m\u001b[43m(\u001b[49m\u001b[43mother\u001b[49m\u001b[43m,\u001b[49m\u001b[43m \u001b[49m\u001b[43moperator\u001b[49m\u001b[38;5;241;43m.\u001b[39;49m\u001b[43mtruediv\u001b[49m\u001b[43m)\u001b[49m\n",
      "File \u001b[0;32m~/anaconda3/envs/re-ranking/lib/python3.11/site-packages/pandas/core/series.py:6135\u001b[0m, in \u001b[0;36mSeries._arith_method\u001b[0;34m(self, other, op)\u001b[0m\n\u001b[1;32m   6133\u001b[0m \u001b[38;5;28;01mdef\u001b[39;00m\u001b[38;5;250m \u001b[39m\u001b[38;5;21m_arith_method\u001b[39m(\u001b[38;5;28mself\u001b[39m, other, op):\n\u001b[1;32m   6134\u001b[0m     \u001b[38;5;28mself\u001b[39m, other \u001b[38;5;241m=\u001b[39m \u001b[38;5;28mself\u001b[39m\u001b[38;5;241m.\u001b[39m_align_for_op(other)\n\u001b[0;32m-> 6135\u001b[0m     \u001b[38;5;28;01mreturn\u001b[39;00m \u001b[43mbase\u001b[49m\u001b[38;5;241;43m.\u001b[39;49m\u001b[43mIndexOpsMixin\u001b[49m\u001b[38;5;241;43m.\u001b[39;49m\u001b[43m_arith_method\u001b[49m\u001b[43m(\u001b[49m\u001b[38;5;28;43mself\u001b[39;49m\u001b[43m,\u001b[49m\u001b[43m \u001b[49m\u001b[43mother\u001b[49m\u001b[43m,\u001b[49m\u001b[43m \u001b[49m\u001b[43mop\u001b[49m\u001b[43m)\u001b[49m\n",
      "File \u001b[0;32m~/anaconda3/envs/re-ranking/lib/python3.11/site-packages/pandas/core/base.py:1384\u001b[0m, in \u001b[0;36mIndexOpsMixin._arith_method\u001b[0;34m(self, other, op)\u001b[0m\n\u001b[1;32m   1381\u001b[0m \u001b[38;5;28;01mwith\u001b[39;00m np\u001b[38;5;241m.\u001b[39merrstate(\u001b[38;5;28mall\u001b[39m\u001b[38;5;241m=\u001b[39m\u001b[38;5;124m\"\u001b[39m\u001b[38;5;124mignore\u001b[39m\u001b[38;5;124m\"\u001b[39m):\n\u001b[1;32m   1382\u001b[0m     result \u001b[38;5;241m=\u001b[39m ops\u001b[38;5;241m.\u001b[39marithmetic_op(lvalues, rvalues, op)\n\u001b[0;32m-> 1384\u001b[0m \u001b[38;5;28;01mreturn\u001b[39;00m \u001b[38;5;28;43mself\u001b[39;49m\u001b[38;5;241;43m.\u001b[39;49m\u001b[43m_construct_result\u001b[49m\u001b[43m(\u001b[49m\u001b[43mresult\u001b[49m\u001b[43m,\u001b[49m\u001b[43m \u001b[49m\u001b[43mname\u001b[49m\u001b[38;5;241;43m=\u001b[39;49m\u001b[43mres_name\u001b[49m\u001b[43m)\u001b[49m\n",
      "File \u001b[0;32m~/anaconda3/envs/re-ranking/lib/python3.11/site-packages/pandas/core/series.py:6231\u001b[0m, in \u001b[0;36mSeries._construct_result\u001b[0;34m(self, result, name)\u001b[0m\n\u001b[1;32m   6228\u001b[0m \u001b[38;5;66;03m# TODO: result should always be ArrayLike, but this fails for some\u001b[39;00m\n\u001b[1;32m   6229\u001b[0m \u001b[38;5;66;03m#  JSONArray tests\u001b[39;00m\n\u001b[1;32m   6230\u001b[0m dtype \u001b[38;5;241m=\u001b[39m \u001b[38;5;28mgetattr\u001b[39m(result, \u001b[38;5;124m\"\u001b[39m\u001b[38;5;124mdtype\u001b[39m\u001b[38;5;124m\"\u001b[39m, \u001b[38;5;28;01mNone\u001b[39;00m)\n\u001b[0;32m-> 6231\u001b[0m out \u001b[38;5;241m=\u001b[39m \u001b[38;5;28;43mself\u001b[39;49m\u001b[38;5;241;43m.\u001b[39;49m\u001b[43m_constructor\u001b[49m\u001b[43m(\u001b[49m\u001b[43mresult\u001b[49m\u001b[43m,\u001b[49m\u001b[43m \u001b[49m\u001b[43mindex\u001b[49m\u001b[38;5;241;43m=\u001b[39;49m\u001b[38;5;28;43mself\u001b[39;49m\u001b[38;5;241;43m.\u001b[39;49m\u001b[43mindex\u001b[49m\u001b[43m,\u001b[49m\u001b[43m \u001b[49m\u001b[43mdtype\u001b[49m\u001b[38;5;241;43m=\u001b[39;49m\u001b[43mdtype\u001b[49m\u001b[43m,\u001b[49m\u001b[43m \u001b[49m\u001b[43mcopy\u001b[49m\u001b[38;5;241;43m=\u001b[39;49m\u001b[38;5;28;43;01mFalse\u001b[39;49;00m\u001b[43m)\u001b[49m\n\u001b[1;32m   6232\u001b[0m out \u001b[38;5;241m=\u001b[39m out\u001b[38;5;241m.\u001b[39m__finalize__(\u001b[38;5;28mself\u001b[39m)\n\u001b[1;32m   6234\u001b[0m \u001b[38;5;66;03m# Set the result's name after __finalize__ is called because __finalize__\u001b[39;00m\n\u001b[1;32m   6235\u001b[0m \u001b[38;5;66;03m#  would set it back to self.name\u001b[39;00m\n",
      "File \u001b[0;32m~/anaconda3/envs/re-ranking/lib/python3.11/site-packages/pandas/core/series.py:586\u001b[0m, in \u001b[0;36mSeries.__init__\u001b[0;34m(self, data, index, dtype, name, copy, fastpath)\u001b[0m\n\u001b[1;32m    583\u001b[0m \u001b[38;5;28;01melse\u001b[39;00m:\n\u001b[1;32m    584\u001b[0m     data \u001b[38;5;241m=\u001b[39m sanitize_array(data, index, dtype, copy)\n\u001b[0;32m--> 586\u001b[0m     manager \u001b[38;5;241m=\u001b[39m \u001b[43m_get_option\u001b[49m\u001b[43m(\u001b[49m\u001b[38;5;124;43m\"\u001b[39;49m\u001b[38;5;124;43mmode.data_manager\u001b[39;49m\u001b[38;5;124;43m\"\u001b[39;49m\u001b[43m,\u001b[49m\u001b[43m \u001b[49m\u001b[43msilent\u001b[49m\u001b[38;5;241;43m=\u001b[39;49m\u001b[38;5;28;43;01mTrue\u001b[39;49;00m\u001b[43m)\u001b[49m\n\u001b[1;32m    587\u001b[0m     \u001b[38;5;28;01mif\u001b[39;00m manager \u001b[38;5;241m==\u001b[39m \u001b[38;5;124m\"\u001b[39m\u001b[38;5;124mblock\u001b[39m\u001b[38;5;124m\"\u001b[39m:\n\u001b[1;32m    588\u001b[0m         data \u001b[38;5;241m=\u001b[39m SingleBlockManager\u001b[38;5;241m.\u001b[39mfrom_array(data, index, refs\u001b[38;5;241m=\u001b[39mrefs)\n",
      "File \u001b[0;32m~/anaconda3/envs/re-ranking/lib/python3.11/site-packages/pandas/_config/config.py:149\u001b[0m, in \u001b[0;36m_get_option\u001b[0;34m(pat, silent)\u001b[0m\n\u001b[1;32m    146\u001b[0m key \u001b[38;5;241m=\u001b[39m _get_single_key(pat, silent)\n\u001b[1;32m    148\u001b[0m \u001b[38;5;66;03m# walk the nested dict\u001b[39;00m\n\u001b[0;32m--> 149\u001b[0m root, k \u001b[38;5;241m=\u001b[39m \u001b[43m_get_root\u001b[49m\u001b[43m(\u001b[49m\u001b[43mkey\u001b[49m\u001b[43m)\u001b[49m\n\u001b[1;32m    150\u001b[0m \u001b[38;5;28;01mreturn\u001b[39;00m root[k]\n",
      "File \u001b[0;32m~/anaconda3/envs/re-ranking/lib/python3.11/site-packages/pandas/_config/config.py:635\u001b[0m, in \u001b[0;36m_get_root\u001b[0;34m(key)\u001b[0m\n\u001b[1;32m    630\u001b[0m         \u001b[38;5;28;01mreturn\u001b[39;00m keys\n\u001b[1;32m    632\u001b[0m     \u001b[38;5;28;01mreturn\u001b[39;00m [k \u001b[38;5;28;01mfor\u001b[39;00m k \u001b[38;5;129;01min\u001b[39;00m keys \u001b[38;5;28;01mif\u001b[39;00m re\u001b[38;5;241m.\u001b[39msearch(pat, k, re\u001b[38;5;241m.\u001b[39mI)]\n\u001b[0;32m--> 635\u001b[0m \u001b[38;5;28;01mdef\u001b[39;00m\u001b[38;5;250m \u001b[39m\u001b[38;5;21m_get_root\u001b[39m(key: \u001b[38;5;28mstr\u001b[39m) \u001b[38;5;241m-\u001b[39m\u001b[38;5;241m>\u001b[39m \u001b[38;5;28mtuple\u001b[39m[\u001b[38;5;28mdict\u001b[39m[\u001b[38;5;28mstr\u001b[39m, Any], \u001b[38;5;28mstr\u001b[39m]:\n\u001b[1;32m    636\u001b[0m     path \u001b[38;5;241m=\u001b[39m key\u001b[38;5;241m.\u001b[39msplit(\u001b[38;5;124m\"\u001b[39m\u001b[38;5;124m.\u001b[39m\u001b[38;5;124m\"\u001b[39m)\n\u001b[1;32m    637\u001b[0m     cursor \u001b[38;5;241m=\u001b[39m _global_config\n",
      "\u001b[0;31mKeyboardInterrupt\u001b[0m: "
     ]
    }
   ],
   "source": [
    "i=0\n",
    "xlist=[]\n",
    "for r in reco_matrix_fair:\n",
    "    i=i+1\n",
    "    x=gn.compute(np.array(r), movies, sens_attr)\n",
    "    xlist.append(x[0])\n",
    "    # print(x)\n",
    "    print(f\"{x[0]} is the bias score for b={i}\")\n"
   ]
  },
  {
   "cell_type": "code",
   "execution_count": 24,
   "metadata": {},
   "outputs": [
    {
     "data": {
      "text/plain": [
       "[0.060131418347834184,\n",
       " 0.05422158266713232,\n",
       " 0.04571287981776032,\n",
       " 0.037067221628992,\n",
       " 0.027733061883469752,\n",
       " 0.020140875324978658,\n",
       " 0.013492590538041162,\n",
       " 0.009823563732565002,\n",
       " 0.0110327471234453]"
      ]
     },
     "execution_count": 24,
     "metadata": {},
     "output_type": "execute_result"
    }
   ],
   "source": [
    "[gn_plain[0]]+xlist"
   ]
  },
  {
   "cell_type": "code",
   "execution_count": null,
   "metadata": {},
   "outputs": [
    {
     "ename": "ValueError",
     "evalue": "x and y must have same first dimension, but have shapes (10,) and (7,)",
     "output_type": "error",
     "traceback": [
      "\u001b[0;31m---------------------------------------------------------------------------\u001b[0m",
      "\u001b[0;31mValueError\u001b[0m                                Traceback (most recent call last)",
      "Cell \u001b[0;32mIn[31], line 4\u001b[0m\n\u001b[1;32m      1\u001b[0m xpoints \u001b[38;5;241m=\u001b[39m [\u001b[38;5;241m0\u001b[39m,\u001b[38;5;241m0.025\u001b[39m,\u001b[38;5;241m0.05\u001b[39m,\u001b[38;5;241m0.075\u001b[39m,\u001b[38;5;241m0.1\u001b[39m,\u001b[38;5;241m0.2\u001b[39m,\u001b[38;5;241m0.3\u001b[39m,\u001b[38;5;241m0.4\u001b[39m,\u001b[38;5;241m0.5\u001b[39m,\u001b[38;5;241m0.6\u001b[39m]\n\u001b[1;32m      2\u001b[0m ypoints \u001b[38;5;241m=\u001b[39m [\u001b[38;5;241m0.0515\u001b[39m]\u001b[38;5;241m+\u001b[39mxlist\n\u001b[0;32m----> 4\u001b[0m \u001b[43mplt\u001b[49m\u001b[38;5;241;43m.\u001b[39;49m\u001b[43mplot\u001b[49m\u001b[43m(\u001b[49m\u001b[43mxpoints\u001b[49m\u001b[43m,\u001b[49m\u001b[43m \u001b[49m\u001b[43mypoints\u001b[49m\u001b[43m)\u001b[49m\n\u001b[1;32m      5\u001b[0m plt\u001b[38;5;241m.\u001b[39mshow()\n",
      "File \u001b[0;32m~/anaconda3/envs/re-ranking/lib/python3.11/site-packages/matplotlib/pyplot.py:3829\u001b[0m, in \u001b[0;36mplot\u001b[0;34m(scalex, scaley, data, *args, **kwargs)\u001b[0m\n\u001b[1;32m   3821\u001b[0m \u001b[38;5;129m@_copy_docstring_and_deprecators\u001b[39m(Axes\u001b[38;5;241m.\u001b[39mplot)\n\u001b[1;32m   3822\u001b[0m \u001b[38;5;28;01mdef\u001b[39;00m\u001b[38;5;250m \u001b[39m\u001b[38;5;21mplot\u001b[39m(\n\u001b[1;32m   3823\u001b[0m     \u001b[38;5;241m*\u001b[39margs: \u001b[38;5;28mfloat\u001b[39m \u001b[38;5;241m|\u001b[39m ArrayLike \u001b[38;5;241m|\u001b[39m \u001b[38;5;28mstr\u001b[39m,\n\u001b[0;32m   (...)\u001b[0m\n\u001b[1;32m   3827\u001b[0m     \u001b[38;5;241m*\u001b[39m\u001b[38;5;241m*\u001b[39mkwargs,\n\u001b[1;32m   3828\u001b[0m ) \u001b[38;5;241m-\u001b[39m\u001b[38;5;241m>\u001b[39m \u001b[38;5;28mlist\u001b[39m[Line2D]:\n\u001b[0;32m-> 3829\u001b[0m     \u001b[38;5;28;01mreturn\u001b[39;00m \u001b[43mgca\u001b[49m\u001b[43m(\u001b[49m\u001b[43m)\u001b[49m\u001b[38;5;241;43m.\u001b[39;49m\u001b[43mplot\u001b[49m\u001b[43m(\u001b[49m\n\u001b[1;32m   3830\u001b[0m \u001b[43m        \u001b[49m\u001b[38;5;241;43m*\u001b[39;49m\u001b[43margs\u001b[49m\u001b[43m,\u001b[49m\n\u001b[1;32m   3831\u001b[0m \u001b[43m        \u001b[49m\u001b[43mscalex\u001b[49m\u001b[38;5;241;43m=\u001b[39;49m\u001b[43mscalex\u001b[49m\u001b[43m,\u001b[49m\n\u001b[1;32m   3832\u001b[0m \u001b[43m        \u001b[49m\u001b[43mscaley\u001b[49m\u001b[38;5;241;43m=\u001b[39;49m\u001b[43mscaley\u001b[49m\u001b[43m,\u001b[49m\n\u001b[1;32m   3833\u001b[0m \u001b[43m        \u001b[49m\u001b[38;5;241;43m*\u001b[39;49m\u001b[38;5;241;43m*\u001b[39;49m\u001b[43m(\u001b[49m\u001b[43m{\u001b[49m\u001b[38;5;124;43m\"\u001b[39;49m\u001b[38;5;124;43mdata\u001b[39;49m\u001b[38;5;124;43m\"\u001b[39;49m\u001b[43m:\u001b[49m\u001b[43m \u001b[49m\u001b[43mdata\u001b[49m\u001b[43m}\u001b[49m\u001b[43m \u001b[49m\u001b[38;5;28;43;01mif\u001b[39;49;00m\u001b[43m \u001b[49m\u001b[43mdata\u001b[49m\u001b[43m \u001b[49m\u001b[38;5;129;43;01mis\u001b[39;49;00m\u001b[43m \u001b[49m\u001b[38;5;129;43;01mnot\u001b[39;49;00m\u001b[43m \u001b[49m\u001b[38;5;28;43;01mNone\u001b[39;49;00m\u001b[43m \u001b[49m\u001b[38;5;28;43;01melse\u001b[39;49;00m\u001b[43m \u001b[49m\u001b[43m{\u001b[49m\u001b[43m}\u001b[49m\u001b[43m)\u001b[49m\u001b[43m,\u001b[49m\n\u001b[1;32m   3834\u001b[0m \u001b[43m        \u001b[49m\u001b[38;5;241;43m*\u001b[39;49m\u001b[38;5;241;43m*\u001b[39;49m\u001b[43mkwargs\u001b[49m\u001b[43m,\u001b[49m\n\u001b[1;32m   3835\u001b[0m \u001b[43m    \u001b[49m\u001b[43m)\u001b[49m\n",
      "File \u001b[0;32m~/anaconda3/envs/re-ranking/lib/python3.11/site-packages/matplotlib/axes/_axes.py:1777\u001b[0m, in \u001b[0;36mAxes.plot\u001b[0;34m(self, scalex, scaley, data, *args, **kwargs)\u001b[0m\n\u001b[1;32m   1534\u001b[0m \u001b[38;5;250m\u001b[39m\u001b[38;5;124;03m\"\"\"\u001b[39;00m\n\u001b[1;32m   1535\u001b[0m \u001b[38;5;124;03mPlot y versus x as lines and/or markers.\u001b[39;00m\n\u001b[1;32m   1536\u001b[0m \n\u001b[0;32m   (...)\u001b[0m\n\u001b[1;32m   1774\u001b[0m \u001b[38;5;124;03m(``'green'``) or hex strings (``'#008000'``).\u001b[39;00m\n\u001b[1;32m   1775\u001b[0m \u001b[38;5;124;03m\"\"\"\u001b[39;00m\n\u001b[1;32m   1776\u001b[0m kwargs \u001b[38;5;241m=\u001b[39m cbook\u001b[38;5;241m.\u001b[39mnormalize_kwargs(kwargs, mlines\u001b[38;5;241m.\u001b[39mLine2D)\n\u001b[0;32m-> 1777\u001b[0m lines \u001b[38;5;241m=\u001b[39m [\u001b[38;5;241m*\u001b[39m\u001b[38;5;28mself\u001b[39m\u001b[38;5;241m.\u001b[39m_get_lines(\u001b[38;5;28mself\u001b[39m, \u001b[38;5;241m*\u001b[39margs, data\u001b[38;5;241m=\u001b[39mdata, \u001b[38;5;241m*\u001b[39m\u001b[38;5;241m*\u001b[39mkwargs)]\n\u001b[1;32m   1778\u001b[0m \u001b[38;5;28;01mfor\u001b[39;00m line \u001b[38;5;129;01min\u001b[39;00m lines:\n\u001b[1;32m   1779\u001b[0m     \u001b[38;5;28mself\u001b[39m\u001b[38;5;241m.\u001b[39madd_line(line)\n",
      "File \u001b[0;32m~/anaconda3/envs/re-ranking/lib/python3.11/site-packages/matplotlib/axes/_base.py:297\u001b[0m, in \u001b[0;36m_process_plot_var_args.__call__\u001b[0;34m(self, axes, data, return_kwargs, *args, **kwargs)\u001b[0m\n\u001b[1;32m    295\u001b[0m     this \u001b[38;5;241m+\u001b[39m\u001b[38;5;241m=\u001b[39m args[\u001b[38;5;241m0\u001b[39m],\n\u001b[1;32m    296\u001b[0m     args \u001b[38;5;241m=\u001b[39m args[\u001b[38;5;241m1\u001b[39m:]\n\u001b[0;32m--> 297\u001b[0m \u001b[38;5;28;01myield from\u001b[39;00m \u001b[38;5;28;43mself\u001b[39;49m\u001b[38;5;241;43m.\u001b[39;49m\u001b[43m_plot_args\u001b[49m\u001b[43m(\u001b[49m\n\u001b[1;32m    298\u001b[0m \u001b[43m    \u001b[49m\u001b[43maxes\u001b[49m\u001b[43m,\u001b[49m\u001b[43m \u001b[49m\u001b[43mthis\u001b[49m\u001b[43m,\u001b[49m\u001b[43m \u001b[49m\u001b[43mkwargs\u001b[49m\u001b[43m,\u001b[49m\u001b[43m \u001b[49m\u001b[43mambiguous_fmt_datakey\u001b[49m\u001b[38;5;241;43m=\u001b[39;49m\u001b[43mambiguous_fmt_datakey\u001b[49m\u001b[43m,\u001b[49m\n\u001b[1;32m    299\u001b[0m \u001b[43m    \u001b[49m\u001b[43mreturn_kwargs\u001b[49m\u001b[38;5;241;43m=\u001b[39;49m\u001b[43mreturn_kwargs\u001b[49m\n\u001b[1;32m    300\u001b[0m \u001b[43m\u001b[49m\u001b[43m)\u001b[49m\n",
      "File \u001b[0;32m~/anaconda3/envs/re-ranking/lib/python3.11/site-packages/matplotlib/axes/_base.py:494\u001b[0m, in \u001b[0;36m_process_plot_var_args._plot_args\u001b[0;34m(self, axes, tup, kwargs, return_kwargs, ambiguous_fmt_datakey)\u001b[0m\n\u001b[1;32m    491\u001b[0m     axes\u001b[38;5;241m.\u001b[39myaxis\u001b[38;5;241m.\u001b[39mupdate_units(y)\n\u001b[1;32m    493\u001b[0m \u001b[38;5;28;01mif\u001b[39;00m x\u001b[38;5;241m.\u001b[39mshape[\u001b[38;5;241m0\u001b[39m] \u001b[38;5;241m!=\u001b[39m y\u001b[38;5;241m.\u001b[39mshape[\u001b[38;5;241m0\u001b[39m]:\n\u001b[0;32m--> 494\u001b[0m     \u001b[38;5;28;01mraise\u001b[39;00m \u001b[38;5;167;01mValueError\u001b[39;00m(\u001b[38;5;124mf\u001b[39m\u001b[38;5;124m\"\u001b[39m\u001b[38;5;124mx and y must have same first dimension, but \u001b[39m\u001b[38;5;124m\"\u001b[39m\n\u001b[1;32m    495\u001b[0m                      \u001b[38;5;124mf\u001b[39m\u001b[38;5;124m\"\u001b[39m\u001b[38;5;124mhave shapes \u001b[39m\u001b[38;5;132;01m{\u001b[39;00mx\u001b[38;5;241m.\u001b[39mshape\u001b[38;5;132;01m}\u001b[39;00m\u001b[38;5;124m and \u001b[39m\u001b[38;5;132;01m{\u001b[39;00my\u001b[38;5;241m.\u001b[39mshape\u001b[38;5;132;01m}\u001b[39;00m\u001b[38;5;124m\"\u001b[39m)\n\u001b[1;32m    496\u001b[0m \u001b[38;5;28;01mif\u001b[39;00m x\u001b[38;5;241m.\u001b[39mndim \u001b[38;5;241m>\u001b[39m \u001b[38;5;241m2\u001b[39m \u001b[38;5;129;01mor\u001b[39;00m y\u001b[38;5;241m.\u001b[39mndim \u001b[38;5;241m>\u001b[39m \u001b[38;5;241m2\u001b[39m:\n\u001b[1;32m    497\u001b[0m     \u001b[38;5;28;01mraise\u001b[39;00m \u001b[38;5;167;01mValueError\u001b[39;00m(\u001b[38;5;124mf\u001b[39m\u001b[38;5;124m\"\u001b[39m\u001b[38;5;124mx and y can be no greater than 2D, but have \u001b[39m\u001b[38;5;124m\"\u001b[39m\n\u001b[1;32m    498\u001b[0m                      \u001b[38;5;124mf\u001b[39m\u001b[38;5;124m\"\u001b[39m\u001b[38;5;124mshapes \u001b[39m\u001b[38;5;132;01m{\u001b[39;00mx\u001b[38;5;241m.\u001b[39mshape\u001b[38;5;132;01m}\u001b[39;00m\u001b[38;5;124m and \u001b[39m\u001b[38;5;132;01m{\u001b[39;00my\u001b[38;5;241m.\u001b[39mshape\u001b[38;5;132;01m}\u001b[39;00m\u001b[38;5;124m\"\u001b[39m)\n",
      "\u001b[0;31mValueError\u001b[0m: x and y must have same first dimension, but have shapes (10,) and (7,)"
     ]
    },
    {
     "data": {
      "image/png": "[encoded data removed]",
      "text/plain": [
       "<Figure size 640x480 with 1 Axes>"
      ]
     },
     "metadata": {},
     "output_type": "display_data"
    }
   ],
   "source": [
    "xpoints = [0,0.025,0.05,0.075,0.1,0.2,0.3,0.4,0.5,0.6]\n",
    "ypoints = [0.0515]+xlist\n",
    "\n",
    "plt.plot(xpoints, ypoints)\n",
    "plt.show()"
   ]
  },
  {
   "cell_type": "code",
   "execution_count": 43,
   "metadata": {},
   "outputs": [
    {
     "data": {
      "text/plain": [
       "0.2807372317362081"
      ]
     },
     "execution_count": 43,
     "metadata": {},
     "output_type": "execute_result"
    }
   ],
   "source": [
    "(0.051574973119749255-0.0370959579392415)/0.051574973119749255"
   ]
  },
  {
   "cell_type": "code",
   "execution_count": null,
   "metadata": {},
   "outputs": [],
   "source": [
    "0.05191576002770031 is the bias score for b=0.1\n",
    "0.05671085050935802 is the bias score for b=0.2\n",
    "0.053943241667122235 is the bias score for b=0.3"
   ]
  },
  {
   "cell_type": "code",
   "execution_count": null,
   "metadata": {},
   "outputs": [
    {
     "ename": "NameError",
     "evalue": "name 'occ' is not defined",
     "output_type": "error",
     "traceback": [
      "\u001b[0;31m---------------------------------------------------------------------------\u001b[0m",
      "\u001b[0;31mNameError\u001b[0m                                 Traceback (most recent call last)",
      "Cell \u001b[0;32mIn[28], line 1\u001b[0m\n\u001b[0;32m----> 1\u001b[0m \u001b[43mocc\u001b[49m\n",
      "\u001b[0;31mNameError\u001b[0m: name 'occ' is not defined"
     ]
    }
   ],
   "source": [
    "occ\n",
    "0.14814030434003325 is the bias score for b=0.1\n",
    "0.138774267701761 is the bias score for b=0.2\n",
    "0.12251404848859358 is the bias score for b=0.3\n",
    "0.10578634427741243 is the bias score for b=0.4\n",
    "0.053056267841701796 is the bias score for b=0.6"
   ]
  },
  {
   "cell_type": "code",
   "execution_count": 38,
   "metadata": {},
   "outputs": [
    {
     "name": "stdout",
     "output_type": "stream",
     "text": [
      "0.1\n",
      "0.125\n",
      "0.15000000000000002\n",
      "0.17500000000000002\n",
      "0.2\n"
     ]
    }
   ],
   "source": [
    "for i in range(5):\n",
    "    print(.1+0.025*i)\n",
    "    \n",
    "# user 0 u_calibrate [289, 49, 357, 489, 189, 60, 24, 157, 1, 89, 360, 645, 95, 52, 133, 148, 31, 139, 101, 200]\n"
   ]
  },
  {
   "cell_type": "code",
   "execution_count": 32,
   "metadata": {},
   "outputs": [
    {
     "data": {
      "text/plain": [
       "array([289,  49, 357, 489, 157, 189,  60,   1,  89,  24, 645, 360,  95,\n",
       "        52, 133,  31, 148, 139, 200, 101])"
      ]
     },
     "execution_count": 32,
     "metadata": {},
     "output_type": "execute_result"
    }
   ],
   "source": [
    "reco_matrix_fair[3][0]"
   ]
  },
  {
   "cell_type": "code",
   "execution_count": 23,
   "metadata": {},
   "outputs": [
    {
     "data": {
      "image/png": "[encoded data removed]",
      "text/plain": [
       "<Figure size 640x480 with 1 Axes>"
      ]
     },
     "metadata": {},
     "output_type": "display_data"
    }
   ],
   "source": [
    "xpoints = list(range(len(hrlist)))\n",
    "ypoints = xlist\n",
    "\n",
    "plt.plot(xpoints, ypoints)\n",
    "plt.show()"
   ]
  },
  {
   "cell_type": "code",
   "execution_count": null,
   "metadata": {},
   "outputs": [
    {
     "name": "stdout",
     "output_type": "stream",
     "text": [
      "++++++++++++++++++++++++++++++++++++++++++++++++++\n",
      "for equation \n",
      " (1 - l - b) * sum of scores for selected items (reco)\n",
      " - l * kl div of past genre prop x reco genre prop\n",
      " - b * kl div of past gender genre prop x reco genre prop)\n",
      "++++++++++++++++++++++++++++++++++++++++++++++++++\n"
     ]
    },
    {
     "ename": "NameError",
     "evalue": "name 'hrl29b69' is not defined",
     "output_type": "error",
     "traceback": [
      "\u001b[0;31m---------------------------------------------------------------------------\u001b[0m",
      "\u001b[0;31mNameError\u001b[0m                                 Traceback (most recent call last)",
      "Cell \u001b[0;32mIn[17], line 6\u001b[0m\n\u001b[1;32m      2\u001b[0m \u001b[38;5;28mprint\u001b[39m(\u001b[38;5;124m\"\u001b[39m\u001b[38;5;124mfor equation \u001b[39m\u001b[38;5;130;01m\\n\u001b[39;00m\u001b[38;5;124m (1 - l - b) * sum of scores for selected items (reco)\u001b[39m\u001b[38;5;130;01m\\n\u001b[39;00m\u001b[38;5;124m - l * kl div of past genre prop x reco genre prop\u001b[39m\u001b[38;5;130;01m\\n\u001b[39;00m\u001b[38;5;124m - b * kl div of past gender genre prop x reco genre prop)\u001b[39m\u001b[38;5;124m\"\u001b[39m)\n\u001b[1;32m      3\u001b[0m \u001b[38;5;28mprint\u001b[39m(\u001b[38;5;124m\"\u001b[39m\u001b[38;5;124m+\u001b[39m\u001b[38;5;124m\"\u001b[39m\u001b[38;5;241m*\u001b[39m\u001b[38;5;241m50\u001b[39m)\n\u001b[1;32m      4\u001b[0m data \u001b[38;5;241m=\u001b[39m [\n\u001b[1;32m      5\u001b[0m     [\u001b[38;5;124m\"\u001b[39m\u001b[38;5;124m      \u001b[39m\u001b[38;5;124m\"\u001b[39m,\u001b[38;5;124m\"\u001b[39m\u001b[38;5;124ml=.29 b=.69\u001b[39m\u001b[38;5;124m\"\u001b[39m, \u001b[38;5;124m\"\u001b[39m\u001b[38;5;124ml=.49 b=.49\u001b[39m\u001b[38;5;124m\"\u001b[39m , \u001b[38;5;124m\"\u001b[39m\u001b[38;5;124ml=.69 b=.29\u001b[39m\u001b[38;5;124m\"\u001b[39m ,\u001b[38;5;124m\"\u001b[39m\u001b[38;5;124mplain\u001b[39m\u001b[38;5;124m\"\u001b[39m], \n\u001b[0;32m----> 6\u001b[0m     [\u001b[38;5;124m\"\u001b[39m\u001b[38;5;124mHitratio@10\u001b[39m\u001b[38;5;124m\"\u001b[39m,  \u001b[38;5;28mround\u001b[39m(\u001b[43mhrl29b69\u001b[49m,\u001b[38;5;241m4\u001b[39m),\u001b[38;5;28mround\u001b[39m(hrl49b49,\u001b[38;5;241m4\u001b[39m), \u001b[38;5;28mround\u001b[39m(hrl69b29,\u001b[38;5;241m4\u001b[39m),\u001b[38;5;28mround\u001b[39m(plain_hr,\u001b[38;5;241m4\u001b[39m)],                              \n\u001b[1;32m      7\u001b[0m     [\u001b[38;5;124m\"\u001b[39m\u001b[38;5;124mGender Bias\u001b[39m\u001b[38;5;124m\"\u001b[39m, \u001b[38;5;28mround\u001b[39m(\u001b[38;5;28msum\u001b[39m(\u001b[38;5;28mabs\u001b[39m(gp_1)),\u001b[38;5;241m4\u001b[39m),\u001b[38;5;28mround\u001b[39m(\u001b[38;5;28msum\u001b[39m(\u001b[38;5;28mabs\u001b[39m(gp_2)),\u001b[38;5;241m4\u001b[39m),\u001b[38;5;28mround\u001b[39m(\u001b[38;5;28msum\u001b[39m(\u001b[38;5;28mabs\u001b[39m(gp_3)),\u001b[38;5;241m4\u001b[39m), \u001b[38;5;241m0.1561\u001b[39m],                         \n\u001b[1;32m      8\u001b[0m ]\n\u001b[1;32m     11\u001b[0m \u001b[38;5;28mprint\u001b[39m(\u001b[38;5;124m\"\u001b[39m\u001b[38;5;132;01m{:<12}\u001b[39;00m\u001b[38;5;124m \u001b[39m\u001b[38;5;132;01m{:<15}\u001b[39;00m\u001b[38;5;124m \u001b[39m\u001b[38;5;132;01m{:<15}\u001b[39;00m\u001b[38;5;124m \u001b[39m\u001b[38;5;132;01m{:<15}\u001b[39;00m\u001b[38;5;124m \u001b[39m\u001b[38;5;132;01m{:<15}\u001b[39;00m\u001b[38;5;124m\"\u001b[39m\u001b[38;5;241m.\u001b[39mformat(\u001b[38;5;241m*\u001b[39mdata[\u001b[38;5;241m0\u001b[39m]))  \n\u001b[1;32m     12\u001b[0m \u001b[38;5;28mprint\u001b[39m(\u001b[38;5;124m\"\u001b[39m\u001b[38;5;124m-\u001b[39m\u001b[38;5;124m\"\u001b[39m \u001b[38;5;241m*\u001b[39m \u001b[38;5;241m50\u001b[39m)                                      \n",
      "\u001b[0;31mNameError\u001b[0m: name 'hrl29b69' is not defined"
     ]
    }
   ],
   "source": [
    "print(\"+\"*50)\n",
    "print(\"for equation \\n (1 - l - b) * sum of scores for selected items (reco)\\n - l * kl div of past genre prop x reco genre prop\\n - b * kl div of past gender genre prop x reco genre prop)\")\n",
    "print(\"+\"*50)\n",
    "data = [\n",
    "    [\"      \",\"l=.29 b=.69\", \"l=.49 b=.49\" , \"l=.69 b=.29\" ,\"plain\"], \n",
    "    [\"Hitratio@10\",  round(hrl29b69,4),round(hrl49b49,4), round(hrl69b29,4),round(plain_hr,4)],                              \n",
    "    [\"Gender Bias\", round(sum(abs(gp_1)),4),round(sum(abs(gp_2)),4),round(sum(abs(gp_3)),4), 0.1561],                         \n",
    "]\n",
    "\n",
    "\n",
    "print(\"{:<12} {:<15} {:<15} {:<15} {:<15}\".format(*data[0]))  \n",
    "print(\"-\" * 50)                                      \n",
    "for row in data[1:]:                                \n",
    "    print(\"{:<12} {:<15} {:<15} {:<15} {:<15}\".format(*row))\n",
    "    \n",
    "print(\"+\"*50)\n",
    "print(\"for equation \\n (1 - l - b) * sum of scores for selected items (reco)\\n - l * kl div of past genre prop x reco genre prop\\n - b * kl div of recommended gender genre prop x reco genre prop)\")\n",
    "print(\"+\"*50)\n",
    "data = [\n",
    "    [\"      \", \"l=.49 b=.49\" , \"l=.69 b=.29\" , \"l=.29 b=.29\" ,\"plain\"], \n",
    "    [\"Hitratio@10\",round(hr_recol49b49,4), round(hr_recol69b29,4),round(hr_recol29b29,4),round(plain_hr,4)],                              \n",
    "    [\"Gender Bias\",round(sum(abs(gp_reco_1)),4),round(sum(abs(gp_reco_2)),4),round(sum(abs(gp_reco_3)),4), 0.1561],                         \n",
    "]\n",
    "\n",
    "\n",
    "print(\"{:<12} {:<15} {:<15} {:<15} {:<15} \".format(*data[0]))  \n",
    "print(\"-\" * 50)                                      \n",
    "for row in data[1:]:                                \n",
    "    print(\"{:<12} {:<15} {:<15} {:<15} {:<15} \".format(*row))\n",
    "\n"
   ]
  }
 ],
 "metadata": {
  "kernelspec": {
   "display_name": "re-ranking",
   "language": "python",
   "name": "python3"
  },
  "language_info": {
   "codemirror_mode": {
    "name": "ipython",
    "version": 3
   },
   "file_extension": ".py",
   "mimetype": "text/x-python",
   "name": "python",
   "nbconvert_exporter": "python",
   "pygments_lexer": "ipython3",
   "version": "3.11.11"
  }
 },
 "nbformat": 4,
 "nbformat_minor": 2
}
