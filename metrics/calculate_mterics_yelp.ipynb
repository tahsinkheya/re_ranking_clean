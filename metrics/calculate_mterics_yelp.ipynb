{
 "cells": [
  {
   "cell_type": "code",
   "execution_count": 1,
   "metadata": {},
   "outputs": [],
   "source": [
    "import numpy as np\n",
    "import pandas as pd\n",
    "import matplotlib.pyplot as plt"
   ]
  },
  {
   "cell_type": "code",
   "execution_count": null,
   "metadata": {},
   "outputs": [],
   "source": [
    "\n",
    "filename = \"yelp-100K/testing_set_seed123_yelp100k.csv\"\n",
    "test_set = pd.read_csv(f\"../data/{filename}\",sep=\",\",\n",
    "    header=None,\n",
    "    names=[\"userID\", \"itemID\", \"Rating\"],)\n",
    "test_set\n",
    "\n"
   ]
  },
  {
   "cell_type": "code",
   "execution_count": null,
   "metadata": {},
   "outputs": [],
   "source": [
    "all_users_tp = test_set.groupby('userID')['itemID'].apply(list).tolist()\n",
    "all_users_tp.__len__()"
   ]
  },
  {
   "cell_type": "code",
   "execution_count": 6,
   "metadata": {},
   "outputs": [],
   "source": [
    "neumf = \"neumf/reco_matrix_neumf_yelp100k_100.npy\"\n",
    "mf = \"mf/reco_matrix_mf_yelp100k_100.npy\"\n",
    "wmf = \"wmf/reco_matrix_wmf_yelp100k_100.npy\"\n",
    "vaecf = \"vaecf/reco_matrix_vaecf_yelp100k_100.npy\"\n",
    "reco_matrix = np.load(f\"../model_reco/yelp/{mf}\")"
   ]
  },
  {
   "cell_type": "code",
   "execution_count": 7,
   "metadata": {},
   "outputs": [],
   "source": [
    "reco_matrix = reco_matrix[0] # if reco matrix is inside a nested array if not use it directly"
   ]
  },
  {
   "cell_type": "code",
   "execution_count": null,
   "metadata": {},
   "outputs": [],
   "source": [
    "\n",
    "from cornac.metrics import RMSE, AUC, NDCG, Precision, Recall,HitRatio\n",
    "\n",
    "hr=HitRatio(20)\n",
    "alist=[]\n",
    "sum_hr=0\n",
    "for u in range(reco_matrix.shape[0]):\n",
    "    x=hr.compute(all_users_tp[u],reco_matrix[u][:20])\n",
    "    sum_hr=sum_hr+x\n",
    "plain_hr=sum_hr/reco_matrix.shape[0]\n",
    "\n",
    "plain_hr"
   ]
  },
  {
   "cell_type": "code",
   "execution_count": null,
   "metadata": {},
   "outputs": [],
   "source": [
    "# from NDCG import NDCG\n",
    "ndcg=NDCG(20)\n",
    "alist=[]\n",
    "sum_ndcg=0\n",
    "for u in range(reco_matrix.shape[0]):\n",
    "    x=ndcg.compute(all_users_tp[u],reco_matrix[u][:20])\n",
    "    sum_ndcg=sum_ndcg+x\n",
    "plain_ndcg=sum_ndcg/reco_matrix.shape[0]\n",
    "\n",
    "plain_ndcg"
   ]
  },
  {
   "cell_type": "code",
   "execution_count": 10,
   "metadata": {},
   "outputs": [],
   "source": [
    "\n",
    "all_pds =[]\n",
    "reco_matrix_fair=[]\n",
    "sens=\"gender\"\n",
    "model = \"mf\"\n",
    "# here we load the recommendations over different vaues of beta\n",
    "all_pds.append(pd.read_csv(f\"../results/yelp/{model}/{sens}_1.csv\",sep=\",\",))\n",
    "all_pds.append(pd.read_csv(f\"../results/yelp/{model}/{sens}_2.csv\",sep=\",\",))\n",
    "all_pds.append(pd.read_csv(f\"../results/yelp/{model}/{sens}_3.csv\",sep=\",\",))\n",
    "all_pds.append(pd.read_csv(f\"../results/yelp/{model}/{sens}_4.csv\",sep=\",\",))\n",
    "all_pds.append(pd.read_csv(f\"../results/yelp/{model}/{sens}_5.csv\",sep=\",\",))\n",
    "all_pds.append(pd.read_csv(f\"../results/yelp/{model}/{sens}_6.csv\",sep=\",\",))\n",
    "all_pds.append(pd.read_csv(f\"../results/yelp/{model}/{sens}_7.csv\",sep=\",\",))\n",
    "all_pds.append(pd.read_csv(f\"../results/yelp/{model}/{sens}_8.csv\",sep=\",\",))\n",
    "# results/reco_mat_test.npy\n",
    "for j in range(len(all_pds)):\n",
    "    reco_m =[]\n",
    "    for i in range(all_pds[j].__len__()):\n",
    "        reco_m.append(np.array(all_pds[j].iloc[i][1:]))\n",
    "    reco_matrix_fair.append(reco_m)\n",
    "    \n",
    "\n"
   ]
  },
  {
   "cell_type": "code",
   "execution_count": null,
   "metadata": {},
   "outputs": [],
   "source": [
    "\n",
    "hr=HitRatio(20)\n",
    "hrlist=[]\n",
    "for r in reco_matrix_fair:\n",
    "    sum_hr=0\n",
    "    for u in range(reco_matrix.shape[0]):\n",
    "        x=hr.compute(all_users_tp[u],r[u])\n",
    "        sum_hr=sum_hr+x\n",
    "    hr_occ=sum_hr/reco_matrix.shape[0]\n",
    "    hrlist.append(hr_occ)\n",
    "    \n",
    "\n",
    "[plain_hr]+hrlist"
   ]
  },
  {
   "cell_type": "code",
   "execution_count": null,
   "metadata": {},
   "outputs": [],
   "source": [
    "\n",
    "hr=NDCG(20)\n",
    "hrlist=[]\n",
    "for r in reco_matrix_fair:\n",
    "    sum_hr=0\n",
    "    for u in range(reco_matrix.shape[0]):\n",
    "        x=hr.compute(all_users_tp[u],r[u])\n",
    "        sum_hr=sum_hr+x\n",
    "    hr_occ=sum_hr/reco_matrix.shape[0]\n",
    "    hrlist.append(hr_occ)\n",
    "    \n",
    "\n",
    "[plain_ndcg]+hrlist"
   ]
  },
  {
   "cell_type": "code",
   "execution_count": 14,
   "metadata": {},
   "outputs": [],
   "source": [
    "restaurants = pd.read_csv(\n",
    "    \"../data/yelp-100K/i_id_mapping.csv\",\n",
    "    sep=\"\\t\",\n",
    "   names=[ \"item_id\",\"Category\",\"itemID\"],\n",
    "    header=0,\n",
    "    # encoding=\"latin-1\",\n",
    ")\n",
    "restaurants=restaurants.sort_values(by=\"itemID\")\n",
    "\n",
    "unique_categories = [\n",
    "    \"Active Life & Fitness\",\n",
    "    \"Arts & Entertainment\",\n",
    "    \"Automotive\",\n",
    "    \"Bars & Nightlife\",\n",
    "    \"Coffee,Tea & Desserts\",\n",
    "    \"Drinks & Spirits\",\n",
    "    \"Education & Learning\",\n",
    "    \"Event Services\",\n",
    "    \"Family & Kids\",\n",
    "    \"Food & Restaurants\",\n",
    "    \"Health & Beauty\",\n",
    "    \"Home & Garden\",\n",
    "    \"Miscellaneous\",\n",
    "    \"Outdoor Activities\",\n",
    "    \"Public Services & Community\",\n",
    "    \"Shopping & Fashion\",\n",
    "    \"Specialty Food & Groceries\",\n",
    "    \"Sports & Recreation\",\n",
    "    \"Technology & Electronics\",\n",
    "    \"Travel & Transportation\",\n",
    "    \"Asian\",\n",
    "]\n",
    "for c in unique_categories:\n",
    "    restaurants[c] = 0\n",
    "for index, row in restaurants.iterrows():\n",
    "    cats = row[\"Category\"].split(\"|\")\n",
    "    for cat in cats:\n",
    "        restaurants.at[index, cat] = 1\n",
    "\n",
    "cat = restaurants[unique_categories]\n",
    "# cat[:1]\n",
    "item_features_numpy = cat.to_numpy()\n",
    "item_features = {\n",
    "    str(item_id): {\"category_\" + str(idx): value for idx, value in enumerate(row)}\n",
    "    for item_id, row in enumerate(item_features_numpy)\n",
    "}\n",
    "# ids = list(range(0, 3416))\n",
    "restaurants\n",
    "\n",
    "users = pd.read_csv(\"../data/yelp-100K/u_id_mapping.csv\", sep=\"\\t\",header=0,\n",
    "    names=[ \"user_id\",\"Gender\",\"userID\"])\n",
    "gender_map = {\"M\": 0, \"F\": 1}\n",
    "users[\"Gender\"] = users[\"Gender\"].map(gender_map)\n",
    "users = users.sort_values(by=\"userID\")\n",
    "users = users[[\"Gender\", \"userID\"]]\n",
    "user_features_numpy = users.to_numpy()\n",
    "users\n",
    "item_ids = restaurants[\"itemID\"].to_numpy()\n",
    "\n",
    "\n"
   ]
  },
  {
   "cell_type": "code",
   "execution_count": 17,
   "metadata": {},
   "outputs": [],
   "source": [
    "import os\n",
    "os.chdir(\"/Users/name/Desktop/work/reranking_fairnes\")\n"
   ]
  },
  {
   "cell_type": "code",
   "execution_count": null,
   "metadata": {},
   "outputs": [],
   "source": [
    "nusers = reco_matrix.shape[0]\n",
    "new_rmatrix = np.zeros(( nusers, 20), dtype=int)\n",
    "for i in range(nusers):\n",
    "    new_rmatrix[i]=reco_matrix[i][:20]\n",
    "new_rmatrix.shape\n"
   ]
  },
  {
   "cell_type": "code",
   "execution_count": 19,
   "metadata": {},
   "outputs": [],
   "source": [
    "from mymetrics.GenrePrecisionMulti import GenrePrecisionMulti\n",
    "from mymetrics.GenreNDCGMulti import GenreNDCGMulti\n",
    "from mymetrics.GenreNDCG import GenreNDCG\n",
    "####Import Metrics####\n",
    "\n",
    "top_k = 20\n",
    "###intialize them\n",
    "gp = GenrePrecisionMulti(users, unique_categories, top_k)\n",
    "gn = GenreNDCGMulti(users, unique_categories, top_k)\n",
    "gn_old = GenreNDCG(users, unique_categories, top_k)\n"
   ]
  },
  {
   "cell_type": "code",
   "execution_count": null,
   "metadata": {},
   "outputs": [],
   "source": [
    "gp_plain = gp.compute(new_rmatrix, restaurants, \"Gender\")\n",
    "gp_plain"
   ]
  },
  {
   "cell_type": "code",
   "execution_count": null,
   "metadata": {},
   "outputs": [],
   "source": [
    "gn_plain = gn.compute(new_rmatrix, restaurants, \"Gender\")\n",
    "gn_plain"
   ]
  },
  {
   "cell_type": "code",
   "execution_count": null,
   "metadata": {},
   "outputs": [],
   "source": [
    "i=0\n",
    "xlist=[]\n",
    "for r in reco_matrix_fair:\n",
    "    i=i+1\n",
    "    x=gp.compute(np.array(r), restaurants, \"Gender\")\n",
    "    xlist.append(x[0])\n",
    "    # print(x)\n",
    "    print(f\"{x[0]} is the bias score for b={i}\")\n"
   ]
  },
  {
   "cell_type": "code",
   "execution_count": null,
   "metadata": {},
   "outputs": [],
   "source": [
    "[gp_plain[0]]+xlist"
   ]
  },
  {
   "cell_type": "code",
   "execution_count": null,
   "metadata": {},
   "outputs": [],
   "source": [
    "i=0\n",
    "xlist=[]\n",
    "for r in reco_matrix_fair:\n",
    "    i=i+1\n",
    "    x=gn.compute(np.array(r), restaurants, \"Gender\")\n",
    "    xlist.append(x[0])\n",
    "    # print(x)\n",
    "    print(f\"{x[0]} is the bias score for b={i}\")\n"
   ]
  },
  {
   "cell_type": "code",
   "execution_count": null,
   "metadata": {},
   "outputs": [],
   "source": [
    "[gn_plain[0]]+xlist"
   ]
  }
 ],
 "metadata": {
  "kernelspec": {
   "display_name": "bbmrec",
   "language": "python",
   "name": "python3"
  },
  "language_info": {
   "codemirror_mode": {
    "name": "ipython",
    "version": 3
   },
   "file_extension": ".py",
   "mimetype": "text/x-python",
   "name": "python",
   "nbconvert_exporter": "python",
   "pygments_lexer": "ipython3",
   "version": "3.11.9"
  }
 },
 "nbformat": 4,
 "nbformat_minor": 2
}
